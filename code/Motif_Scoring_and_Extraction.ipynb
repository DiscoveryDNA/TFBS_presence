{
 "cells": [
  {
   "cell_type": "markdown",
   "metadata": {},
   "source": [
    "## Motif Mapping\n",
    "\n",
    "Using Ciera Martinez's map_motif.py in a generalized jupyter notebook function."
   ]
  },
  {
   "cell_type": "code",
   "execution_count": 1,
   "metadata": {
    "collapsed": false
   },
   "outputs": [],
   "source": [
    "import numpy as np\n",
    "import pandas as pd\n",
    "import re\n",
    "import Bio\n",
    "\n",
    "# For computations\n",
    "import string\n",
    "import random\n",
    "import matplotlib.pyplot as plt; plt.rcdefaults()\n",
    "import matplotlib.pyplot as plt\n",
    "\n",
    "from Bio import SeqIO\n",
    "from Bio import pairwise2\n",
    "from IPython.display import Image\n",
    "from Bio.pairwise2 import format_alignment\n",
    "from glob import glob\n",
    "import seaborn as sns\n",
    "import matplotlib.pyplot as plt\n",
    "from IPython.display import display\n",
    "%matplotlib inline\n",
    "plt.style.use('fivethirtyeight')\n",
    "\n",
    "import os, sys\n",
    "from Bio import motifs\n",
    "from Bio.Seq import Seq\n",
    "from Bio.SeqRecord import SeqRecord\n",
    "from Bio.Alphabet import IUPAC, generic_dna, generic_protein"
   ]
  },
  {
   "cell_type": "markdown",
   "metadata": {},
   "source": [
    "## Data Processing\n",
    "\n",
    "Reads in the alligned raw DNA sequences and motifs to be pipelined:\n",
    "\n",
    "1. Saves a copy of the sequence without the '$-$' included.\n",
    "\n",
    "2. Casts the undashed version as IUPACUnambiguousDNA().\n",
    "\n",
    "3. Calculates the thresholds to be used in assigning scores for likihood of the motif appearing.\n",
    "\n",
    "4. Takes the indicies that have been scored and maps them to the corresponding raw sequence index, taking into consideration if the strand was positive or negative.\n",
    "\n",
    "5. Returns a df with $\\scriptsize{[\\textbf{position}, \\textbf{score, sequence length}, \\textbf{species}, \\textbf{raw_position index}, \\textbf{strand positioning}, \\textbf{aligned position}]}$.\n",
    "\n",
    "$\\textbf{*calculate_all_TFBS(files, all_motifs) will start the pipeline}$"
   ]
  },
  {
   "cell_type": "markdown",
   "metadata": {},
   "source": [
    "The following reads in the files from the local directory and filters them according to the file types.\n",
    "\n",
    "Both sequences and motifs are saved as lists. [files has 3540 fasta files & all_motifs has 91 motif files]"
   ]
  },
  {
   "cell_type": "code",
   "execution_count": 2,
   "metadata": {
    "collapsed": false
   },
   "outputs": [],
   "source": [
    "#Reads through and saves the names of all same files(.fa and .fm respectively) found in the same directory.\n",
    "\n",
    "files = glob('../data/alignments/*0.fa')\n",
    "all_motifs = glob('../data/pwm/*.fm')"
   ]
  },
  {
   "cell_type": "code",
   "execution_count": 3,
   "metadata": {
    "collapsed": true
   },
   "outputs": [],
   "source": [
    "\n",
    "def read_records(file):\n",
    "    \"\"\"\n",
    "    file: a single .fa file within the directory.\n",
    "    \n",
    "    Returns the records from a .fa file as a list .\n",
    "    \"\"\"\n",
    "    return list(SeqIO.parse(file, \"fasta\"))"
   ]
  },
  {
   "cell_type": "code",
   "execution_count": 4,
   "metadata": {
    "collapsed": true
   },
   "outputs": [],
   "source": [
    "\n",
    "def read_motif(motif):\n",
    "    \"\"\"\n",
    "    motif: a single .fm file within the directory.\n",
    "    \n",
    "    Returns a motif.jaspar.Motif (the motif matrix) from the .fm file.\n",
    "    \"\"\"\n",
    "    return motifs.read(open(motif), \"pfm\")"
   ]
  },
  {
   "cell_type": "markdown",
   "metadata": {},
   "source": [
    "The following functions clean the read in alligned sequences, taking out the '-' in them and then casting them as needed. We then feed this cleaned format to create a pssm (PositionSpecificScoringMatrix) with a patser_threshold applied on it to output a score with a corresponding index. Depending on the sign of the position we labeled the DNA strand as positive or negative and then saved all the calculated values as columns in a pandas df."
   ]
  },
  {
   "cell_type": "code",
   "execution_count": 5,
   "metadata": {
    "collapsed": true
   },
   "outputs": [],
   "source": [
    "def raw_sequence_ungap(records):\n",
    "    \"\"\"\n",
    "    records: a list of species within a single .fa file.\n",
    "    \n",
    "    Returns a list of Sequences with an ungapped('-') sequence.\n",
    "    \"\"\"\n",
    "    raw_sequences = []\n",
    "    for record in records:\n",
    "        raw_sequences.append(SeqRecord(record.seq.ungap(\"-\"), id = record.id))\n",
    "    return raw_sequences"
   ]
  },
  {
   "cell_type": "code",
   "execution_count": 6,
   "metadata": {
    "collapsed": true
   },
   "outputs": [],
   "source": [
    "def cast_sequence(ungapped_sequence):\n",
    "    \"\"\"\n",
    "    ungapped_sequence: a list with the sequence and id for all the species in a file.\n",
    "    \n",
    "    Returns a list sequences with the type cast as c.\n",
    "    \"\"\"\n",
    "    casted = []\n",
    "    for record in ungapped_sequence:\n",
    "        casted.append(Seq(str(record.seq), IUPAC.IUPACUnambiguousDNA()))\n",
    "    return casted"
   ]
  },
  {
   "cell_type": "code",
   "execution_count": 7,
   "metadata": {
    "collapsed": true
   },
   "outputs": [],
   "source": [
    "def calculate_pssm(chosen_motif, pseudocounts=0.0):\n",
    "    \"\"\"\n",
    "    chosen_motif: Chosen motif sequence to be used in creating the pwm\n",
    "    pseudocounts: Default set to 0.0, otherwise added to the counts before calculating position-weight matrix.\n",
    "    \n",
    "    Returns the pssm (PositionSpecificScoringMatrix)\n",
    "    \"\"\"\n",
    "    pwm = chosen_motif.counts.normalize(pseudocounts)\n",
    "    return pwm.log_odds()"
   ]
  },
  {
   "cell_type": "code",
   "execution_count": 8,
   "metadata": {
    "collapsed": true
   },
   "outputs": [],
   "source": [
    "def extract_len_id(raw_seq, raw_seq2):\n",
    "    \"\"\"\n",
    "    raw_seq: A list of raw sequences that hasn't yet been cast.\n",
    "    raw_seq2: A list of cast & ungapped sequences.\n",
    "    \n",
    "    Returns a list of dictionary pairs for the species and seq_len of each sequence.\n",
    "    \"\"\"\n",
    "    raw_id = []\n",
    "    record_length = []\n",
    "    for seq in raw_seq:\n",
    "        try:\n",
    "            raw_id.append(seq.id)\n",
    "        except AttributeError:\n",
    "            raw_id.append('n/a')\n",
    "            \n",
    "    for record in raw_seq2:\n",
    "            record_length.append(len(record))\n",
    "    return [{'species': x, 'seq_len': y} for x, y in zip(raw_id, record_length)]"
   ]
  },
  {
   "cell_type": "markdown",
   "metadata": {},
   "source": [
    "Below are functions used to find the corresponding positions in the sequence and then mark them as negative or positive strands based on if the value was below or above 0 respectively. "
   ]
  },
  {
   "cell_type": "code",
   "execution_count": 9,
   "metadata": {
    "collapsed": true
   },
   "outputs": [],
   "source": [
    "def positions(raw_sequence, cast_sequences, motif, chosen_precision=10**4):\n",
    "    \"\"\"\n",
    "    raw_sequence: A list of the sequences that have been ungapped but not casted.\n",
    "    cast_sequences: A list of sequences that have been ungapped and casted.\n",
    "    motif: the chosen motif file read in using read_motif\n",
    "    precision: default precision set to 10**4 to be used in the pssm distribution.\n",
    "    \n",
    "    Returns a list of positions\n",
    "    \"\"\"\n",
    "    pssm = calculate_pssm(motif)\n",
    "    distribution = pssm.distribution(background=motif.background, precision= chosen_precision)\n",
    "    patser_threshold = distribution.threshold_patser()\n",
    "    \n",
    "    position_list = []\n",
    "    len_and_ids = extract_len_id(raw_sequence, cast_sequences)\n",
    "    for i in range(len(len_and_ids)):\n",
    "        for position, score in pssm.search(cast_sequences[i], threshold= patser_threshold):\n",
    "            pos = {'species': len_and_ids[i].get('species'), 'score':score, \n",
    "                         'position':position, 'seq_len': len_and_ids[i].get('seq_len') }\n",
    "            position_list.append(pos)\n",
    "    return position_list"
   ]
  },
  {
   "cell_type": "code",
   "execution_count": 10,
   "metadata": {
    "collapsed": true
   },
   "outputs": [],
   "source": [
    "def positive_positions(df):\n",
    "    \"\"\"\n",
    "    df: The df with position, score, seq_len, and species.\n",
    "    \n",
    "    Returns a df where the position arguments are translated into positive ints.\n",
    "    \"\"\"\n",
    "    temp_pos = df[df[\"position\"] >= 0].copy()\n",
    "    temp_neg = df[df[\"position\"] < 0].copy()\n",
    "    temp_pos[\"raw_position\"] = temp_pos[\"position\"]\n",
    "    temp_neg[\"raw_position\"] = temp_neg[\"seq_len\"] + temp_neg[\"position\"]  \n",
    "    temp_together = temp_pos.append(temp_neg).reset_index().sort_values(\"index\")\n",
    "\n",
    "    return temp_together.set_index(\"index\")"
   ]
  },
  {
   "cell_type": "code",
   "execution_count": 11,
   "metadata": {
    "collapsed": true
   },
   "outputs": [],
   "source": [
    "def define_sign(df):\n",
    "    \"\"\"\n",
    "    df: The df with position, score, seq_len, species, and raw_position.\n",
    "    \n",
    "    Returns the df with a strand sign column appended on.\n",
    "    \"\"\"\n",
    "    df[\"strand\"] = np.where(df['position'] >= 0, 'positive', 'negative')\n",
    "    return df"
   ]
  },
  {
   "cell_type": "code",
   "execution_count": 12,
   "metadata": {
    "collapsed": true
   },
   "outputs": [],
   "source": [
    "def merge_align_df(raw_df, aligned_seq, raw_id_len):\n",
    "    \"\"\"\n",
    "    raw_df: A pandas df that contains the positions, score, seq_len, species, and strand orientation.\n",
    "    aligned_seq: Original inputted sequence with the '-' still included.\n",
    "    raw_id_len: The length of the o\n",
    "    \n",
    "    Returns a df with alignned index appended to raw_df sorted by ['species', 'raw_position'] \n",
    "    with N/A values dropped.\n",
    "    \n",
    "    \"\"\"\n",
    "    remap_list = []\n",
    "    nuc_list = ['A', 'a', 'G', 'g', 'C', 'c', 'T', 't', 'N', 'n']\n",
    "\n",
    "    for i in range(raw_id_len):\n",
    "        counter = 0\n",
    "        for xInd, x in enumerate(aligned_seq[i].seq):    \n",
    "            if x in nuc_list:\n",
    "                remaps = {'raw_position': counter, 'align_position':xInd, 'species':aligned_seq[i].id}\n",
    "                counter += 1\n",
    "                remap_list.append(remaps)\n",
    "            \n",
    "    remap_DF = pd.DataFrame(remap_list)\n",
    "    TFBS_map_DF_all = pd.merge(raw_df, remap_DF, on=['species', 'raw_position'], how='outer')\n",
    "    TFBS_map_DF_all = TFBS_map_DF_all.sort_values(by=['species','align_position'], ascending=[True, True])\n",
    "\n",
    "    return TFBS_map_DF_all.dropna()   "
   ]
  },
  {
   "cell_type": "code",
   "execution_count": 13,
   "metadata": {
    "collapsed": true
   },
   "outputs": [],
   "source": [
    "def save_df(TFBS_df, align_file, motif_file):\n",
    "    \"\"\"\n",
    "    TFBS_df: A pandas df with the raw/aligned position, score, and file names.\n",
    "    align_file: Name of read in alignment file.\n",
    "    motif_file: Name of read in motif file.\n",
    "    \n",
    "    Returns a csv copy of the df stored in the current directory\n",
    "    \"\"\"\n",
    "    return TFBS_df.to_csv(motif_file + \".csv\", sep='\\t', na_rep=\"NA\")"
   ]
  },
  {
   "cell_type": "markdown",
   "metadata": {},
   "source": [
    "# Creating a Standard Score Distribution\n",
    "The following 4 cells generate a random sequence, finds the 95 percentile cutoff point in the scores of the random sequence (differs depending on which motif you use), and uses this as the standard cutoff point for your own observed scores."
   ]
  },
  {
   "cell_type": "code",
   "execution_count": 20,
   "metadata": {
    "collapsed": false
   },
   "outputs": [],
   "source": [
    "# Randomly generates a sequence\n",
    "def generate_one_seq():\n",
    "    header = \"VT0000|1|MEMB001A|-|\"+str(np.random.randint(1000,9000))\n",
    "    random_list = [random.choice(\"ACGT\") for i in range(5000)]\n",
    "    sequence = \"\".join(random_list) # 1 long string\n",
    "    return header + \"\\n\" + sequence"
   ]
  },
  {
   "cell_type": "code",
   "execution_count": 21,
   "metadata": {
    "collapsed": true
   },
   "outputs": [],
   "source": [
    "# Creates a fasta file with randomly generated sequences\n",
    "ofile = open(\"../data/alignments/random_fasta.txt\", \"w\")\n",
    "\n",
    "for i in range(40):\n",
    "    ofile.write(\">\" + generate_one_seq() + \"\\n\")\n",
    "\n",
    "ofile.close()\n",
    "\n",
    "standard_file = glob('../data/alignments/*random_fasta.txt')[0]"
   ]
  },
  {
   "cell_type": "code",
   "execution_count": 22,
   "metadata": {
    "collapsed": true
   },
   "outputs": [],
   "source": [
    "def stand_cutoff(file, motifs, motif_to_use):\n",
    "    \"\"\"\n",
    "    files: one fasta file (string)\n",
    "    motifs: a list of motifs\n",
    "    motif_to_use: a number to index into (chose 1 motif you want to use)\n",
    "    Returns the 95th percentile of the scores, and the mean of the scores \n",
    "    \"\"\"\n",
    "    motif = motifs[motif_to_use]\n",
    "    curr_file = read_records(file)\n",
    "    curr_motif = read_motif(motif)\n",
    "    curr_raw = raw_sequence_ungap(curr_file)\n",
    "    curr_cast = cast_sequence(curr_raw)\n",
    "\n",
    "    len_raw = len(extract_len_id(curr_raw, curr_cast))\n",
    "    raw_df = pd.DataFrame(positions(curr_raw, curr_cast, curr_motif))\n",
    "    temp_df = positive_positions(raw_df)\n",
    "    percentile_95 = np.percentile(temp_df[\"score\"], 95)\n",
    "    standard_mean = temp_df[\"score\"].mean()\n",
    "    return (percentile_95, standard_mean)"
   ]
  },
  {
   "cell_type": "markdown",
   "metadata": {},
   "source": [
    "#### The following cell prints out:\n",
    "1. the standard 95 percentile \"cutoff\" point for the 2nd motif ('../data/pwm/cad_FlyReg.fm')\n",
    "2. The 50th percentile (mean)"
   ]
  },
  {
   "cell_type": "code",
   "execution_count": 23,
   "metadata": {
    "collapsed": false
   },
   "outputs": [
    {
     "name": "stdout",
     "output_type": "stream",
     "text": [
      "(6.678131580352783, 3.3875393375980596)\n"
     ]
    }
   ],
   "source": [
    "print(stand_cutoff(standard_file, all_motifs, 2))"
   ]
  },
  {
   "cell_type": "markdown",
   "metadata": {},
   "source": [
    "## Data Extraction\n",
    "\n",
    "Taking the dfs that come from the \"calculate_all_TFBS\" function we filter out those with a score above the 95th percentile. With the filtered out values we match the species with their respective DNA sequences and then locate and save the given motif within the DNA sequence. Whether the strand is positive or negative is treated individually and the -'s are included in the sequence indexing. This newly extracted information is saved as columns and appended to the df."
   ]
  },
  {
   "cell_type": "markdown",
   "metadata": {},
   "source": [
    "The following 3 cells provide a convenient way to access the standard \"cutoff\" point when using the 4 motifs printed below. cutoff_dict is used in the filter_95_percentile function."
   ]
  },
  {
   "cell_type": "code",
   "execution_count": 27,
   "metadata": {
    "collapsed": false,
    "scrolled": true
   },
   "outputs": [
    {
     "data": {
      "text/plain": [
       "['../data/pwm/cad_FlyReg.fm',\n",
       " '../data/pwm/eve_new6.fm',\n",
       " '../data/pwm/zelda_.fm',\n",
       " '../data/pwm/bcd_FlyReg.fm']"
      ]
     },
     "execution_count": 27,
     "metadata": {},
     "output_type": "execute_result"
    }
   ],
   "source": [
    "all_motifs"
   ]
  },
  {
   "cell_type": "code",
   "execution_count": 28,
   "metadata": {
    "collapsed": false
   },
   "outputs": [],
   "source": [
    "cutoff_dict = {}\n",
    "cutoff_dict[\"bcd_FlyReg.fm\"] = stand_cutoff(standard_file, all_motifs, 0)[0]\n",
    "cutoff_dict[\"cad_FlyReg.fm\"] = stand_cutoff(standard_file, all_motifs, 1)[0]\n",
    "cutoff_dict[\"eve_new6.fm\"] = stand_cutoff(standard_file, all_motifs, 2)[0]\n",
    "cutoff_dict[\"zelda_.fm\"] = stand_cutoff(standard_file, all_motifs, 3)[0]"
   ]
  },
  {
   "cell_type": "code",
   "execution_count": 29,
   "metadata": {
    "collapsed": false
   },
   "outputs": [
    {
     "data": {
      "text/plain": [
       "{'bcd_FlyReg.fm': 2.648324489593506,\n",
       " 'cad_FlyReg.fm': 2.5869240760803223,\n",
       " 'eve_new6.fm': 6.678131580352783,\n",
       " 'zelda_.fm': 3.3171534538269043}"
      ]
     },
     "execution_count": 29,
     "metadata": {},
     "output_type": "execute_result"
    }
   ],
   "source": [
    "cutoff_dict"
   ]
  },
  {
   "cell_type": "code",
   "execution_count": 31,
   "metadata": {
    "collapsed": true
   },
   "outputs": [],
   "source": [
    "def filter_95_percentile(TFBS_df, motif_used):\n",
    "    \"\"\"\n",
    "    motif_used: a string that specifies the motif you used (e.g. \"cad_FlyReg.fm\")\n",
    "    TFBS_df: A pandas df with the raw/aligned position, score, and file names.\n",
    "    \n",
    "    returns the TFBS_df with only values above the 95th percentile.\n",
    "    \"\"\"\n",
    "    minimum = cutoff_dict[motif_used]\n",
    "    filtered_df = TFBS_df[TFBS_df[\"score\"] >= minimum]\n",
    "    return filtered_df"
   ]
  },
  {
   "cell_type": "code",
   "execution_count": 32,
   "metadata": {
    "collapsed": true
   },
   "outputs": [],
   "source": [
    "def calculate_one_dfs_TFBS(file, all_motifs):\n",
    "    \"\"\"\n",
    "    file: A single .fa file from the current directory.\n",
    "    all_motifs: A list of all the .fm files in the current directory.\n",
    "    \n",
    "    Returns a df with the positions, score, and orientation saved into the current directory for all files.\n",
    "    \"\"\"\n",
    "\n",
    "    for motif in all_motifs:\n",
    "        curr_file = read_records(file)\n",
    "        curr_motif = read_motif(motif)\n",
    "        curr_raw = raw_sequence_ungap(curr_file)\n",
    "        curr_cast = cast_sequence(curr_raw)\n",
    "        curr_motif_name = os.path.basename(motif) \n",
    "\n",
    "        len_raw = len(extract_len_id(curr_raw, curr_cast))\n",
    "        raw_df = pd.DataFrame(positions(curr_raw, curr_cast, curr_motif))\n",
    "        temp_df = positive_positions(raw_df)\n",
    "        temp_df = define_sign(temp_df)\n",
    "\n",
    "        align_name = re.split(r'_', file)[-1]\n",
    "        final_df = merge_align_df(temp_df, curr_file, len_raw)\n",
    "        final_df['motif'] = curr_motif_name\n",
    "\n",
    "    return final_df"
   ]
  },
  {
   "cell_type": "code",
   "execution_count": 33,
   "metadata": {
    "collapsed": false,
    "scrolled": true
   },
   "outputs": [
    {
     "data": {
      "text/html": [
       "<div>\n",
       "<table border=\"1\" class=\"dataframe\">\n",
       "  <thead>\n",
       "    <tr style=\"text-align: right;\">\n",
       "      <th></th>\n",
       "      <th>position</th>\n",
       "      <th>score</th>\n",
       "      <th>seq_len</th>\n",
       "      <th>species</th>\n",
       "      <th>raw_position</th>\n",
       "      <th>strand</th>\n",
       "      <th>align_position</th>\n",
       "      <th>motif</th>\n",
       "    </tr>\n",
       "  </thead>\n",
       "  <tbody>\n",
       "    <tr>\n",
       "      <th>5498</th>\n",
       "      <td>0.0</td>\n",
       "      <td>3.255753</td>\n",
       "      <td>2492.0</td>\n",
       "      <td>VT44110|0|MEMB002A|+|2492</td>\n",
       "      <td>0</td>\n",
       "      <td>positive</td>\n",
       "      <td>20</td>\n",
       "      <td>bcd_FlyReg.fm</td>\n",
       "    </tr>\n",
       "    <tr>\n",
       "      <th>5499</th>\n",
       "      <td>-2492.0</td>\n",
       "      <td>1.007825</td>\n",
       "      <td>2492.0</td>\n",
       "      <td>VT44110|0|MEMB002A|+|2492</td>\n",
       "      <td>0</td>\n",
       "      <td>negative</td>\n",
       "      <td>20</td>\n",
       "      <td>bcd_FlyReg.fm</td>\n",
       "    </tr>\n",
       "    <tr>\n",
       "      <th>5500</th>\n",
       "      <td>2.0</td>\n",
       "      <td>1.007825</td>\n",
       "      <td>2492.0</td>\n",
       "      <td>VT44110|0|MEMB002A|+|2492</td>\n",
       "      <td>2</td>\n",
       "      <td>positive</td>\n",
       "      <td>22</td>\n",
       "      <td>bcd_FlyReg.fm</td>\n",
       "    </tr>\n",
       "    <tr>\n",
       "      <th>5501</th>\n",
       "      <td>-2490.0</td>\n",
       "      <td>3.255753</td>\n",
       "      <td>2492.0</td>\n",
       "      <td>VT44110|0|MEMB002A|+|2492</td>\n",
       "      <td>2</td>\n",
       "      <td>negative</td>\n",
       "      <td>22</td>\n",
       "      <td>bcd_FlyReg.fm</td>\n",
       "    </tr>\n",
       "    <tr>\n",
       "      <th>5502</th>\n",
       "      <td>4.0</td>\n",
       "      <td>0.107700</td>\n",
       "      <td>2492.0</td>\n",
       "      <td>VT44110|0|MEMB002A|+|2492</td>\n",
       "      <td>4</td>\n",
       "      <td>positive</td>\n",
       "      <td>24</td>\n",
       "      <td>bcd_FlyReg.fm</td>\n",
       "    </tr>\n",
       "  </tbody>\n",
       "</table>\n",
       "</div>"
      ],
      "text/plain": [
       "      position     score  seq_len                    species  raw_position  \\\n",
       "5498       0.0  3.255753   2492.0  VT44110|0|MEMB002A|+|2492             0   \n",
       "5499   -2492.0  1.007825   2492.0  VT44110|0|MEMB002A|+|2492             0   \n",
       "5500       2.0  1.007825   2492.0  VT44110|0|MEMB002A|+|2492             2   \n",
       "5501   -2490.0  3.255753   2492.0  VT44110|0|MEMB002A|+|2492             2   \n",
       "5502       4.0  0.107700   2492.0  VT44110|0|MEMB002A|+|2492             4   \n",
       "\n",
       "        strand  align_position          motif  \n",
       "5498  positive              20  bcd_FlyReg.fm  \n",
       "5499  negative              20  bcd_FlyReg.fm  \n",
       "5500  positive              22  bcd_FlyReg.fm  \n",
       "5501  negative              22  bcd_FlyReg.fm  \n",
       "5502  positive              24  bcd_FlyReg.fm  "
      ]
     },
     "execution_count": 33,
     "metadata": {},
     "output_type": "execute_result"
    }
   ],
   "source": [
    "# EXAMPLE\n",
    "TFBSdf = calculate_one_dfs_TFBS(files[0], all_motifs[0])\n",
    "TFBSdf.head()"
   ]
  },
  {
   "cell_type": "code",
   "execution_count": 124,
   "metadata": {
    "collapsed": false
   },
   "outputs": [
    {
     "name": "stdout",
     "output_type": "stream",
     "text": [
      "../data/alignments/align_outlier_rm_with_length_VT44110.fa\n",
      "../data/alignments/align_outlier_rm_with_length_VT50550.fa\n",
      "../data/alignments/align_outlier_rm_with_length_VT59000.fa\n",
      "../data/alignments/align_outlier_rm_with_length_VT29210.fa\n",
      "../data/alignments/align_outlier_rm_with_length_VT46130.fa\n",
      "../data/alignments/align_outlier_rm_with_length_VT8920.fa\n",
      "../data/alignments/align_outlier_rm_with_length_VT8450.fa\n",
      "../data/alignments/align_outlier_rm_with_length_VT48340.fa\n",
      "../data/alignments/align_outlier_rm_with_length_VT5000.fa\n",
      "../data/alignments/align_outlier_rm_with_length_VT2660.fa\n",
      "../data/alignments/align_outlier_rm_with_length_VT14350.fa\n",
      "../data/alignments/align_outlier_rm_with_length_VT58740.fa\n",
      "../data/alignments/align_outlier_rm_with_length_VT58480.fa\n",
      "../data/alignments/align_outlier_rm_with_length_VT26990.fa\n",
      "../data/alignments/align_outlier_rm_with_length_VT58490.fa\n",
      "../data/alignments/align_outlier_rm_with_length_VT39480.fa\n",
      "../data/alignments/align_outlier_rm_with_length_VT37470.fa\n",
      "../data/alignments/align_outlier_rm_with_length_VT61710.fa\n",
      "../data/alignments/align_outlier_rm_with_length_VT7170.fa\n",
      "../data/alignments/align_outlier_rm_with_length_VT6880.fa\n",
      "../data/alignments/align_outlier_rm_with_length_VT29200.fa\n",
      "../data/alignments/align_outlier_rm_with_length_VT15830.fa\n",
      "../data/alignments/align_outlier_rm_with_length_VT33940.fa\n",
      "../data/alignments/align_outlier_rm_with_length_VT29340.fa\n",
      "../data/alignments/align_outlier_rm_with_length_VT29360.fa\n",
      "../data/alignments/align_outlier_rm_with_length_VT46100.fa\n",
      "../data/alignments/align_outlier_rm_with_length_VT8910.fa\n",
      "../data/alignments/align_outlier_rm_with_length_VT41890.fa\n",
      "../data/alignments/align_outlier_rm_with_length_VT18130.fa\n",
      "../data/alignments/align_outlier_rm_with_length_VT54910.fa\n",
      "../data/alignments/align_outlier_rm_with_length_VT42000.fa\n",
      "../data/alignments/align_outlier_rm_with_length_VT45990.fa\n",
      "../data/alignments/align_outlier_rm_with_length_VT56870.fa\n",
      "../data/alignments/align_outlier_rm_with_length_VT28800.fa\n",
      "../data/alignments/align_outlier_rm_with_length_VT56450.fa\n",
      "../data/alignments/align_outlier_rm_with_length_VT45670.fa\n",
      "../data/alignments/align_outlier_rm_with_length_VT56790.fa\n",
      "../data/alignments/align_outlier_rm_with_length_VT8470.fa\n",
      "../data/alignments/align_outlier_rm_with_length_VT17410.fa\n",
      "../data/alignments/align_outlier_rm_with_length_VT31560.fa\n",
      "../data/alignments/align_outlier_rm_with_length_VT34320.fa\n",
      "../data/alignments/align_outlier_rm_with_length_VT3380.fa\n",
      "../data/alignments/align_outlier_rm_with_length_VT57350.fa\n",
      "../data/alignments/align_outlier_rm_with_length_VT27000.fa\n",
      "../data/alignments/align_outlier_rm_with_length_VT43710.fa\n",
      "../data/alignments/align_outlier_rm_with_length_VT20720.fa\n",
      "../data/alignments/align_outlier_rm_with_length_VT43650.fa\n",
      "../data/alignments/align_outlier_rm_with_length_VT17790.fa\n",
      "../data/alignments/align_outlier_rm_with_length_VT8430.fa\n",
      "../data/alignments/align_outlier_rm_with_length_VT19760.fa\n",
      "../data/alignments/align_outlier_rm_with_length_VT24620.fa\n",
      "../data/alignments/align_outlier_rm_with_length_VT54800.fa\n",
      "../data/alignments/align_outlier_rm_with_length_VT2480.fa\n",
      "../data/alignments/align_outlier_rm_with_length_VT45630.fa\n",
      "../data/alignments/align_outlier_rm_with_length_VT58720.fa\n",
      "../data/alignments/align_outlier_rm_with_length_VT56830.fa\n",
      "../data/alignments/align_outlier_rm_with_length_VT63750.fa\n",
      "../data/alignments/align_outlier_rm_with_length_VT2490.fa\n",
      "../data/alignments/align_outlier_rm_with_length_VT47600.fa\n",
      "../data/alignments/align_outlier_rm_with_length_VT17930.fa\n",
      "../data/alignments/align_outlier_rm_with_length_VT46000.fa\n",
      "../data/alignments/align_outlier_rm_with_length_VT41720.fa\n",
      "../data/alignments/align_outlier_rm_with_length_VT33920.fa\n",
      "../data/alignments/align_outlier_rm_with_length_VT43700.fa\n",
      "../data/alignments/align_outlier_rm_with_length_VT27010.fa\n",
      "../data/alignments/align_outlier_rm_with_length_VT27170.fa\n",
      "../data/alignments/align_outlier_rm_with_length_VT43660.fa\n",
      "../data/alignments/align_outlier_rm_with_length_VT15780.fa\n",
      "../data/alignments/align_outlier_rm_with_length_VT46020.fa\n",
      "../data/alignments/align_outlier_rm_with_length_VT19750.fa\n",
      "../data/alignments/align_outlier_rm_with_length_VT7070.fa\n",
      "../data/alignments/align_outlier_rm_with_length_VT63630.fa\n",
      "../data/alignments/align_outlier_rm_with_length_VT45600.fa\n",
      "../data/alignments/align_outlier_rm_with_length_VT56800.fa\n",
      "../data/alignments/align_outlier_rm_with_length_VT45610.fa\n",
      "../data/alignments/align_outlier_rm_with_length_VT28860.fa\n",
      "../data/alignments/align_outlier_rm_with_length_VT16270.fa\n",
      "../data/alignments/align_outlier_rm_with_length_VT19600.fa\n",
      "../data/alignments/align_outlier_rm_with_length_VT41710.fa\n",
      "../data/alignments/align_outlier_rm_with_length_VT8820.fa\n",
      "../data/alignments/align_outlier_rm_with_length_VT29310.fa\n",
      "../data/alignments/align_outlier_rm_with_length_VT33460.fa\n",
      "../data/alignments/align_outlier_rm_with_length_VT57230.fa\n",
      "../data/alignments/align_outlier_rm_with_length_VT20030.fa\n",
      "../data/alignments/align_outlier_rm_with_length_VT50220.fa\n",
      "../data/alignments/align_outlier_rm_with_length_VT29810.fa\n",
      "../data/alignments/align_outlier_rm_with_length_VT41020.fa\n",
      "../data/alignments/align_outlier_rm_with_length_VT48940.fa\n",
      "../data/alignments/align_outlier_rm_with_length_VT23750.fa\n",
      "../data/alignments/align_outlier_rm_with_length_VT23490.fa\n",
      "../data/alignments/align_outlier_rm_with_length_VT42740.fa\n",
      "../data/alignments/align_outlier_rm_with_length_VT42480.fa\n",
      "../data/alignments/align_outlier_rm_with_length_VT26390.fa\n",
      "../data/alignments/align_outlier_rm_with_length_VT64880.fa\n",
      "../data/alignments/align_outlier_rm_with_length_VT26380.fa\n",
      "../data/alignments/align_outlier_rm_with_length_VT42490.fa\n",
      "../data/alignments/align_outlier_rm_with_length_VT32400.fa\n",
      "../data/alignments/align_outlier_rm_with_length_VT21760.fa\n",
      "../data/alignments/align_outlier_rm_with_length_VT49360.fa\n",
      "../data/alignments/align_outlier_rm_with_length_VT9840.fa\n",
      "../data/alignments/align_outlier_rm_with_length_VT8270.fa\n",
      "../data/alignments/align_outlier_rm_with_length_VT19060.fa\n",
      "../data/alignments/align_outlier_rm_with_length_VT25720.fa\n",
      "../data/alignments/align_outlier_rm_with_length_VT41030.fa\n",
      "../data/alignments/align_outlier_rm_with_length_VT29570.fa\n",
      "../data/alignments/align_outlier_rm_with_length_VT43290.fa\n",
      "../data/alignments/align_outlier_rm_with_length_VT29800.fa\n",
      "../data/alignments/align_outlier_rm_with_length_VT29820.fa\n",
      "../data/alignments/align_outlier_rm_with_length_VT15350.fa\n",
      "../data/alignments/align_outlier_rm_with_length_VT57470.fa\n",
      "../data/alignments/align_outlier_rm_with_length_VT41290.fa\n",
      "../data/alignments/align_outlier_rm_with_length_VT24100.fa\n",
      "../data/alignments/align_outlier_rm_with_length_VT7760.fa\n",
      "../data/alignments/align_outlier_rm_with_length_VT18700.fa\n",
      "../data/alignments/align_outlier_rm_with_length_VT49340.fa\n",
      "../data/alignments/align_outlier_rm_with_length_VT26120.fa\n",
      "../data/alignments/align_outlier_rm_with_length_VT21740.fa\n",
      "../data/alignments/align_outlier_rm_with_length_VT24050.fa\n",
      "../data/alignments/align_outlier_rm_with_length_VT23770.fa\n",
      "../data/alignments/align_outlier_rm_with_length_VT48410.fa\n",
      "../data/alignments/align_outlier_rm_with_length_VT8180.fa\n",
      "../data/alignments/align_outlier_rm_with_length_VT19050.fa\n",
      "../data/alignments/align_outlier_rm_with_length_VT50200.fa\n",
      "../data/alignments/align_outlier_rm_with_length_VT15340.fa\n",
      "../data/alignments/align_outlier_rm_with_length_VT27670.fa\n",
      "../data/alignments/align_outlier_rm_with_length_VT50240.fa\n",
      "../data/alignments/align_outlier_rm_with_length_VT62770.fa\n",
      "../data/alignments/align_outlier_rm_with_length_VT15180.fa\n",
      "../data/alignments/align_outlier_rm_with_length_VT1610.fa\n",
      "../data/alignments/align_outlier_rm_with_length_VT8200.fa\n",
      "../data/alignments/align_outlier_rm_with_length_VT16850.fa\n",
      "../data/alignments/align_outlier_rm_with_length_VT56360.fa\n",
      "../data/alignments/align_outlier_rm_with_length_VT32470.fa\n",
      "../data/alignments/align_outlier_rm_with_length_VT26170.fa\n",
      "../data/alignments/align_outlier_rm_with_length_VT58390.fa\n",
      "../data/alignments/align_outlier_rm_with_length_VT45290.fa\n",
      "../data/alignments/align_outlier_rm_with_length_VT32460.fa\n",
      "../data/alignments/align_outlier_rm_with_length_VT39050.fa\n",
      "../data/alignments/align_outlier_rm_with_length_VT18480.fa\n",
      "../data/alignments/align_outlier_rm_with_length_VT30870.fa\n",
      "../data/alignments/align_outlier_rm_with_length_VT16470.fa\n",
      "../data/alignments/align_outlier_rm_with_length_VT60740.fa\n",
      "../data/alignments/align_outlier_rm_with_length_VT1600.fa\n",
      "../data/alignments/align_outlier_rm_with_length_VT25600.fa\n",
      "../data/alignments/align_outlier_rm_with_length_VT46770.fa\n",
      "../data/alignments/align_outlier_rm_with_length_VT31180.fa\n",
      "../data/alignments/align_outlier_rm_with_length_VT48870.fa\n",
      "../data/alignments/align_outlier_rm_with_length_VT17270.fa\n",
      "../data/alignments/align_outlier_rm_with_length_VT48930.fa\n",
      "../data/alignments/align_outlier_rm_with_length_VT29790.fa\n",
      "../data/alignments/align_outlier_rm_with_length_VT62760.fa\n",
      "../data/alignments/align_outlier_rm_with_length_VT15250.fa\n",
      "../data/alignments/align_outlier_rm_with_length_VT57430.fa\n",
      "../data/alignments/align_outlier_rm_with_length_VT33300.fa\n",
      "../data/alignments/align_outlier_rm_with_length_VT43390.fa\n",
      "../data/alignments/align_outlier_rm_with_length_VT27740.fa\n",
      "../data/alignments/align_outlier_rm_with_length_VT27600.fa\n",
      "../data/alignments/align_outlier_rm_with_length_VT17250.fa\n",
      "../data/alignments/align_outlier_rm_with_length_VT55800.fa\n",
      "../data/alignments/align_outlier_rm_with_length_VT48460.fa\n",
      "../data/alignments/align_outlier_rm_with_length_VT19020.fa\n",
      "../data/alignments/align_outlier_rm_with_length_VT40980.fa\n",
      "../data/alignments/align_outlier_rm_with_length_VT26000.fa\n",
      "../data/alignments/align_outlier_rm_with_length_VT28270.fa\n",
      "../data/alignments/align_outlier_rm_with_length_VT28320.fa\n",
      "../data/alignments/align_outlier_rm_with_length_VT26150.fa\n",
      "../data/alignments/align_outlier_rm_with_length_VT21730.fa\n",
      "../data/alignments/align_outlier_rm_with_length_VT26010.fa\n",
      "../data/alignments/align_outlier_rm_with_length_VT9950.fa\n",
      "../data/alignments/align_outlier_rm_with_length_VT8360.fa\n",
      "../data/alignments/align_outlier_rm_with_length_VT55810.fa\n",
      "../data/alignments/align_outlier_rm_with_length_VT6390.fa\n",
      "../data/alignments/align_outlier_rm_with_length_VT48840.fa\n",
      "../data/alignments/align_outlier_rm_with_length_VT55420.fa\n",
      "../data/alignments/align_outlier_rm_with_length_VT20130.fa\n",
      "../data/alignments/align_outlier_rm_with_length_VT62750.fa\n",
      "../data/alignments/align_outlier_rm_with_length_VT65130.fa\n",
      "../data/alignments/align_outlier_rm_with_length_VT33280.fa\n",
      "../data/alignments/align_outlier_rm_with_length_VT62500.fa\n",
      "../data/alignments/align_outlier_rm_with_length_VT62440.fa\n",
      "../data/alignments/align_outlier_rm_with_length_VT27930.fa\n",
      "../data/alignments/align_outlier_rm_with_length_VT59420.fa\n",
      "../data/alignments/align_outlier_rm_with_length_VT44840.fa\n",
      "../data/alignments/align_outlier_rm_with_length_VT62870.fa\n",
      "../data/alignments/align_outlier_rm_with_length_VT27870.fa\n",
      "../data/alignments/align_outlier_rm_with_length_VT22200.fa\n",
      "../data/alignments/align_outlier_rm_with_length_VT17010.fa\n",
      "../data/alignments/align_outlier_rm_with_length_VT10670.fa\n",
      "../data/alignments/align_outlier_rm_with_length_VT19320.fa\n",
      "../data/alignments/align_outlier_rm_with_length_VT40430.fa\n",
      "../data/alignments/align_outlier_rm_with_length_VT23830.fa\n",
      "../data/alignments/align_outlier_rm_with_length_VT21420.fa\n",
      "../data/alignments/align_outlier_rm_with_length_VT21810.fa\n",
      "../data/alignments/align_outlier_rm_with_length_VT28160.fa\n",
      "../data/alignments/align_outlier_rm_with_length_VT42830.fa\n",
      "../data/alignments/align_outlier_rm_with_length_VT23820.fa\n",
      "../data/alignments/align_outlier_rm_with_length_VT7690.fa\n",
      "../data/alignments/align_outlier_rm_with_length_VT17000.fa\n",
      "../data/alignments/align_outlier_rm_with_length_VT62860.fa\n",
      "../data/alignments/align_outlier_rm_with_length_VT44850.fa\n"
     ]
    }
   ],
   "source": [
    "# LOOP THROUGH & APPLY TO ALL THE ALIGNMENTS\n",
    "tables = []\n",
    "for i in files[:200]:\n",
    "    tables.append(calculate_one_dfs_TFBS(i, [all_motifs[1]]))"
   ]
  },
  {
   "cell_type": "code",
   "execution_count": 125,
   "metadata": {
    "collapsed": false,
    "scrolled": false
   },
   "outputs": [
    {
     "data": {
      "text/html": [
       "<div>\n",
       "<table border=\"1\" class=\"dataframe\">\n",
       "  <thead>\n",
       "    <tr style=\"text-align: right;\">\n",
       "      <th></th>\n",
       "      <th>score</th>\n",
       "      <th>species</th>\n",
       "      <th>raw_position</th>\n",
       "      <th>strand</th>\n",
       "      <th>align_position</th>\n",
       "      <th>motif</th>\n",
       "    </tr>\n",
       "  </thead>\n",
       "  <tbody>\n",
       "    <tr>\n",
       "      <th>5498</th>\n",
       "      <td>3.255753</td>\n",
       "      <td>VT44110|0|MEMB002A|+|2492</td>\n",
       "      <td>0</td>\n",
       "      <td>positive</td>\n",
       "      <td>20</td>\n",
       "      <td>bcd_FlyReg.fm</td>\n",
       "    </tr>\n",
       "    <tr>\n",
       "      <th>5501</th>\n",
       "      <td>3.255753</td>\n",
       "      <td>VT44110|0|MEMB002A|+|2492</td>\n",
       "      <td>2</td>\n",
       "      <td>negative</td>\n",
       "      <td>22</td>\n",
       "      <td>bcd_FlyReg.fm</td>\n",
       "    </tr>\n",
       "    <tr>\n",
       "      <th>5504</th>\n",
       "      <td>3.355628</td>\n",
       "      <td>VT44110|0|MEMB002A|+|2492</td>\n",
       "      <td>6</td>\n",
       "      <td>positive</td>\n",
       "      <td>26</td>\n",
       "      <td>bcd_FlyReg.fm</td>\n",
       "    </tr>\n",
       "    <tr>\n",
       "      <th>5508</th>\n",
       "      <td>3.294227</td>\n",
       "      <td>VT44110|0|MEMB002A|+|2492</td>\n",
       "      <td>13</td>\n",
       "      <td>positive</td>\n",
       "      <td>33</td>\n",
       "      <td>bcd_FlyReg.fm</td>\n",
       "    </tr>\n",
       "    <tr>\n",
       "      <th>5510</th>\n",
       "      <td>3.255753</td>\n",
       "      <td>VT44110|0|MEMB002A|+|2492</td>\n",
       "      <td>17</td>\n",
       "      <td>positive</td>\n",
       "      <td>37</td>\n",
       "      <td>bcd_FlyReg.fm</td>\n",
       "    </tr>\n",
       "  </tbody>\n",
       "</table>\n",
       "</div>"
      ],
      "text/plain": [
       "         score                    species  raw_position    strand  \\\n",
       "5498  3.255753  VT44110|0|MEMB002A|+|2492             0  positive   \n",
       "5501  3.255753  VT44110|0|MEMB002A|+|2492             2  negative   \n",
       "5504  3.355628  VT44110|0|MEMB002A|+|2492             6  positive   \n",
       "5508  3.294227  VT44110|0|MEMB002A|+|2492            13  positive   \n",
       "5510  3.255753  VT44110|0|MEMB002A|+|2492            17  positive   \n",
       "\n",
       "      align_position          motif  \n",
       "5498              20  bcd_FlyReg.fm  \n",
       "5501              22  bcd_FlyReg.fm  \n",
       "5504              26  bcd_FlyReg.fm  \n",
       "5508              33  bcd_FlyReg.fm  \n",
       "5510              37  bcd_FlyReg.fm  "
      ]
     },
     "execution_count": 125,
     "metadata": {},
     "output_type": "execute_result"
    }
   ],
   "source": [
    "# EXAMPLE\n",
    "# Only show the rows with scores above the 95% threshold.\n",
    "# Also removes a few unnecessary columns\n",
    "filtered = filter_95_percentile(TFBSdf, \"cad_FlyReg.fm\")\n",
    "filtered = filtered.drop(['seq_len', 'position'], axis=1)\n",
    "filtered.head()"
   ]
  },
  {
   "cell_type": "code",
   "execution_count": 126,
   "metadata": {
    "collapsed": false
   },
   "outputs": [],
   "source": [
    "# LOOP THROUGH & APPLY TO ALL THE ALIGNMENTS\n",
    "filtered_tables = []\n",
    "for i in tables:\n",
    "    f = filter_95_percentile(i, \"cad_FlyReg.fm\").drop(['seq_len', 'position'], axis=1)\n",
    "    filtered_tables.append(f)"
   ]
  },
  {
   "cell_type": "code",
   "execution_count": 127,
   "metadata": {
    "collapsed": true
   },
   "outputs": [],
   "source": [
    "def map_raw_seq(TFBS_df, seq_file):\n",
    "    \"\"\"\n",
    "    TFBS_df: The TFBS_df with entries only above the 95th percentile.\n",
    "    seq_file: a single .fa file within the directory.\n",
    "    \n",
    "    returns a df with scores in the upper 5th percentile along with the species'\n",
    "    corresponding raw sequence.\n",
    "    \"\"\"\n",
    "    \n",
    "    values = [[record.seq, record.description] for record in seq_file]\n",
    "    sequences = pd.DataFrame(values)\n",
    "    sequences.rename(columns={0 : 'Sequence', 1: 'Description'}, inplace=True)\n",
    "    sequences = sequences.set_index(\"Description\")\n",
    "    mapping = sequences.to_dict(\"index\")\n",
    "    \n",
    "    upper_fifth = filter_95_percentile(TFBS_df, \"cad_FlyReg.fm\")\n",
    "    upper_fifth = upper_fifth[[\"species\", \"raw_position\",'align_position', \"strand\"]]\n",
    "    upper_fifth[\"sequence\"] = upper_fifth[\"species\"].apply(lambda x: str(mapping.get(x).get(\"Sequence\")))\n",
    "    \n",
    "    upper_fifth = upper_fifth.reset_index().drop(\"index\", axis=1)\n",
    "    \n",
    "    return upper_fifth"
   ]
  },
  {
   "cell_type": "code",
   "execution_count": 128,
   "metadata": {
    "collapsed": true
   },
   "outputs": [],
   "source": [
    "def positive_index_seq(matched_df, motif):\n",
    "    \"\"\"\n",
    "    matched_df: df with the species matched with their corresponding raw sequence.\n",
    "    motif: a single .fm file within the directory.\n",
    "    \n",
    "    returns the df with appended columns of the DNA sequences/indices starting from the \n",
    "    raw_index from positively oriented scores and then going on until the proper number\n",
    "    of letters have been found.\n",
    "    \"\"\"\n",
    "    motif = str(first_motif.consensus)\n",
    "    motif_len = len(motif)\n",
    "    \n",
    "    extracted_seqs = []\n",
    "    extracted_indices = []\n",
    "    \n",
    "    pos = matched_df[matched_df[\"strand\"] == \"positive\"]\n",
    "    final = pos.copy()\n",
    "    for i in np.arange(pos.shape[0]):\n",
    "        curr_row = pos.iloc[i]\n",
    "        curr_seq = curr_row[\"sequence\"]\n",
    "        index = int(curr_row[\"raw_position\"])\n",
    "        \n",
    "        selected_seq = curr_seq[index:index + motif_len]     \n",
    "        letters = re.findall(r'[^-]', selected_seq)\n",
    "        additional_indicies = 0\n",
    "        \n",
    "        if len(letters) != motif_len: \n",
    "            while len(re.findall(r'[^-]', selected_seq)) != motif_len:\n",
    "                additional_indicies += 1\n",
    "                selected_seq = curr_seq[index:index + motif_len + additional_indicies]\n",
    "                 \n",
    "        selected_index = \"{0}:{1}\".format(index, index + motif_len + additional_indicies)\n",
    "        extracted_seqs.append(selected_seq)\n",
    "        extracted_indices.append(selected_index)\n",
    "        \n",
    "    final[\"extracted_seq\"] = extracted_seqs\n",
    "    final[\"extracted_indices\"] = extracted_indices\n",
    "    return final"
   ]
  },
  {
   "cell_type": "code",
   "execution_count": 129,
   "metadata": {
    "collapsed": true
   },
   "outputs": [],
   "source": [
    "def negative_index_seq(matched_df, motif):\n",
    "    \"\"\"\n",
    "    matched_df: df with the species matched with their corresponding raw sequence.\n",
    "    motif: a single .fm file within the directory.\n",
    "    \n",
    "    returns the df with appended columns of the DNA sequences/indices starting from the \n",
    "    raw_index from negatively oriented scores and then going on until the proper number\n",
    "    of letters have been found.\n",
    "    \"\"\"\n",
    "    motif = str(first_motif.consensus)\n",
    "    motif_len = len(motif)\n",
    "    \n",
    "    extracted_seqs = []\n",
    "    extracted_indices = []\n",
    "    \n",
    "    d={'A':'T','T':'A', 'C':'G', 'G':'C'}\n",
    "    \n",
    "    neg = matched_df[matched_df[\"strand\"] == \"negative\"]\n",
    "    final = neg.copy()\n",
    "    for i in np.arange(neg.shape[0]):\n",
    "        curr_row = neg.iloc[i]\n",
    "        curr_seq = curr_row[\"sequence\"]\n",
    "        \n",
    "        index = int(curr_row[\"raw_position\"])\n",
    "        \n",
    "        selected_seq = curr_seq[-(index + motif_len + 1): -(index + 1)]     \n",
    "        letters = re.findall(r'[^-]', selected_seq)\n",
    "        additional_indicies = 0\n",
    "        \n",
    "        if len(letters) != motif_len: \n",
    "            while len(re.findall(r'[^-]', selected_seq)) != motif_len:\n",
    "                additional_indicies += 1\n",
    "                selected_seq = curr_seq[-(index + motif_len + additional_indicies + 1): -(index + 1)]\n",
    "                 \n",
    "        selected_index = \"{0}:{1}\".format(-(index + motif_len + additional_indicies + 1), -(index + 1)) \n",
    "        \n",
    "        swapped_seq = ''.join(d[s] if s in d else s for s in selected_seq)\n",
    "        reversed_seq = swapped_seq[::-1]\n",
    "        extracted_seqs.append(reversed_seq)\n",
    "        extracted_indices.append(selected_index)\n",
    "        \n",
    "    final[\"extracted_seq\"] = extracted_seqs\n",
    "    final[\"extracted_indices\"] = extracted_indices\n",
    "    return final"
   ]
  },
  {
   "cell_type": "code",
   "execution_count": 130,
   "metadata": {
    "collapsed": true
   },
   "outputs": [],
   "source": [
    "def find_motif_pipeline(TFBS_df, seq_file, motif):\n",
    "    \"\"\"\n",
    "    TFBS_df: A pandas df with the raw/aligned position, score, and file names.\n",
    "    seq_file: a single .fa file within the directory.\n",
    "    motif: a single .fm file within the directory.\n",
    "    \n",
    "    returns the execution of the pipeline for filtering out the calculated motif locations\n",
    "    and the actual DNA sequence.\n",
    "    \"\"\"\n",
    "    matched = map_raw_seq(TFBS_df, seq_file)\n",
    "    final_p = positive_index_seq(matched, motif)\n",
    "    final_n = negative_index_seq(matched, motif)\n",
    "    final = final_p.reset_index().merge(final_n.reset_index(), how='outer').sort_values('index').set_index('index')\n",
    "    final[\"gap_less_seq\"] = [re.sub(r'-', '', x) for x in final[\"extracted_seq\"]]\n",
    "    return final[[\"species\", \"raw_position\", \"strand\",\"gap_less_seq\", \"extracted_indices\", 'align_position']]\n"
   ]
  },
  {
   "cell_type": "markdown",
   "metadata": {},
   "source": [
    "A pipeline for reading in the list of fasta files and motifs and then generating all possible combinations between the two lists to create the specific motif's sequence logo and the corresponding stripplot for locations of the motif against all the species. Currently saves the images into the current directory. \n",
    "\n",
    "Example output for $\\scriptsize\\textbf{Fasta}$: 'align_outlier_rm_with_length_VT0809.fa'\n",
    "$\\scriptsize\\textbf{Motif}$: 'bcd_cell2008.fm'\n",
    "\n",
    "<img src=\"attachment:Screen%20Shot%202018-04-26%20at%209.23.37%20AM.png\" width=\"80%\">\n"
   ]
  },
  {
   "cell_type": "markdown",
   "metadata": {},
   "source": [
    "#### *final_df is the scored table of everything \n",
    "#### *indexed_df has the upper 95th percentile / extracted motifs and their locations"
   ]
  },
  {
   "cell_type": "code",
   "execution_count": 131,
   "metadata": {
    "collapsed": true
   },
   "outputs": [],
   "source": [
    "\n",
    "def calculate_one_TFBS(file, motif):\n",
    "    \"\"\"\n",
    "    file: A single .fa file in the current directory.\n",
    "    motif: A single .fm file in the current directory.\n",
    "    \n",
    "    Returns a csv with the positions, score, and orientation saved into the current directory for the specified \n",
    "    .fa and .fm files.\n",
    "    \"\"\"\n",
    "    curr_file = read_records(file)\n",
    "    curr_motif = read_motif(motif)\n",
    "    curr_raw = raw_sequence_ungap(curr_file)\n",
    "    curr_cast = cast_sequence(curr_raw)\n",
    "            \n",
    "    len_raw = len(extract_len_id(curr_raw, curr_cast))    \n",
    "    raw_df = pd.DataFrame(positions(curr_raw, curr_cast, curr_motif))\n",
    "    temp_df = positive_positions(raw_df)\n",
    "    temp_df = define_sign(temp_df)\n",
    "            \n",
    "    align_name = re.split(r'_', files[0])[-1]\n",
    "    final_df = merge_align_df(temp_df, curr_file, len_raw)\n",
    "    save_df(final_df, align_name, motif)\n",
    "    \n",
    "    new_path = curr_motif.weblogo(\"{}.png\".format(motif), format= 'PNG', stack_width= 'large')\n",
    "    display(Image(\"{}.png\".format(motif), width= 200, height= 300))\n",
    "\n",
    "    indexed_df = find_motif_pipeline(final_df, curr_file, curr_motif)\n",
    "    testing_pos = indexed_df[indexed_df[\"strand\"] == 'positive']\n",
    "    testing_neg = indexed_df[indexed_df['strand'] == 'negative']\n",
    "\n",
    "    fig = plt.figure(figsize=(20, 15))\n",
    "    plt.subplot(2, 1, 1)\n",
    "    sns.stripplot(x=\"align_position\", y=\"species\", hue=\"strand\", data=testing_pos, dodge=True, linewidth=1)\n",
    "    plt.legend(bbox_to_anchor=(1.05, 1), loc=2, borderaxespad=0.,title='Orientation', fontsize='x-large')\n",
    "    plt.xlabel('')\n",
    "    plt.title('{} & {} Alignment'.format(align_name, motif))\n",
    "\n",
    "    plt.subplot(2, 1, 2)\n",
    "    sns.stripplot(x=\"align_position\", y=\"species\", hue=\"strand\", data=testing_neg,\n",
    "                  palette=\"Set2\", dodge=True, linewidth=1)\n",
    "    plt.legend(bbox_to_anchor=(1.05, 1), loc=2, borderaxespad=0.,title='Orientation', fontsize='x-large')\n",
    "    plt.xlabel('')\n",
    "    \n",
    "    #fig.savefig('{} & {}.png'.format(align_name, motif), dpi=fig.dpi, bbox_inches='tight', pad_inches=0.5)\n",
    "    return final_df\n"
   ]
  },
  {
   "cell_type": "code",
   "execution_count": 132,
   "metadata": {
    "collapsed": false
   },
   "outputs": [],
   "source": [
    "#calculate_one_TFBS(files[0],all_motifs[0])"
   ]
  },
  {
   "cell_type": "code",
   "execution_count": 133,
   "metadata": {
    "collapsed": true
   },
   "outputs": [],
   "source": [
    "\n",
    "def calculate_all_TFBS(files, all_motifs):\n",
    "    \"\"\"\n",
    "    files: A list of all the .fa files in the current directory.\n",
    "    all_motifs: A list of all the .fm files in the current directory.\n",
    "    \n",
    "    Returns a csv with the positions, score, and orientation saved into the current directory for all files.\n",
    "    \"\"\"\n",
    "    for file in files:\n",
    "        for motif in all_motifs:\n",
    "            calculate_one_TFBS(file, motif)\n",
    "            "
   ]
  },
  {
   "cell_type": "code",
   "execution_count": 134,
   "metadata": {
    "collapsed": false,
    "scrolled": false
   },
   "outputs": [],
   "source": [
    "#calculate_all_TFBS(files[:1], all_motifs[:2])"
   ]
  },
  {
   "cell_type": "code",
   "execution_count": 135,
   "metadata": {
    "collapsed": true
   },
   "outputs": [],
   "source": [
    "#Run this cell to generate the plots for all the files with all the possible motif files.\n",
    "#Will save the scored df, motif sequence logo, and file/motif stripplot into the current directory.\n",
    "\n",
    "#calculate_all_TFBS(files, all_motifs)"
   ]
  },
  {
   "cell_type": "markdown",
   "metadata": {},
   "source": [
    "## Grouping Sequences by species that share TFBS presence"
   ]
  },
  {
   "cell_type": "markdown",
   "metadata": {},
   "source": [
    "### Filtered_tables\n",
    "* filtered_tables is a LIST of TABLES; each table in this list represents ONE alignment file. In every table, 1 row represents a spot on the sequence that we've chosen to label as TFBS, based on our 95% criteria. You can index into filtered_tables to view any one table. For example, alignment 1:"
   ]
  },
  {
   "cell_type": "markdown",
   "metadata": {},
   "source": [
    "### position_species_tables\n",
    "(See below for example) position_species_tables is also a LIST of TABLES. Again, each element in the list represents ONE alignment file. Each table tells you:\n",
    "\n",
    "1. The alignment position\n",
    "2. A tuple containing all the species that have TFBS's at that position"
   ]
  },
  {
   "cell_type": "code",
   "execution_count": 139,
   "metadata": {
    "collapsed": false
   },
   "outputs": [
    {
     "data": {
      "text/plain": [
       "(4672, 6)"
      ]
     },
     "execution_count": 139,
     "metadata": {},
     "output_type": "execute_result"
    }
   ],
   "source": [
    "filtered_tables[0].head()"
   ]
  },
  {
   "cell_type": "markdown",
   "metadata": {},
   "source": [
    "### Splitting the species column\n",
    "\n",
    "In order to simplify the species grouping we are going to isolate the species name. "
   ]
  },
  {
   "cell_type": "code",
   "execution_count": 140,
   "metadata": {
    "collapsed": false
   },
   "outputs": [],
   "source": [
    "## Loop through all the filtered dataframes to extract informative information\n",
    "## from sequence ID, makes things cleaner\n",
    "## ONLY RUN ONCE, IF YOU NEED TO RE_RUN MAKE NEW filtered_tables\n",
    "\n",
    "for df in filtered_tables:\n",
    "    df['align_file'] = df['species'].str.split('|').str[0]\n",
    "    df['function'] = df['species'].str.split('|').str[1]\n",
    "    df['species'] = df['species'].str.split('|').str[2]"
   ]
  },
  {
   "cell_type": "code",
   "execution_count": 141,
   "metadata": {
    "collapsed": false
   },
   "outputs": [
    {
     "data": {
      "text/html": [
       "<div>\n",
       "<table border=\"1\" class=\"dataframe\">\n",
       "  <thead>\n",
       "    <tr style=\"text-align: right;\">\n",
       "      <th></th>\n",
       "      <th>score</th>\n",
       "      <th>species</th>\n",
       "      <th>raw_position</th>\n",
       "      <th>strand</th>\n",
       "      <th>align_position</th>\n",
       "      <th>motif</th>\n",
       "      <th>align_file</th>\n",
       "      <th>function</th>\n",
       "    </tr>\n",
       "  </thead>\n",
       "  <tbody>\n",
       "    <tr>\n",
       "      <th>46988</th>\n",
       "      <td>2.586924</td>\n",
       "      <td>MEMB002A</td>\n",
       "      <td>3</td>\n",
       "      <td>positive</td>\n",
       "      <td>65</td>\n",
       "      <td>eve_new6.fm</td>\n",
       "      <td>VT2660</td>\n",
       "      <td>1</td>\n",
       "    </tr>\n",
       "    <tr>\n",
       "      <th>47000</th>\n",
       "      <td>3.449420</td>\n",
       "      <td>MEMB002A</td>\n",
       "      <td>18</td>\n",
       "      <td>positive</td>\n",
       "      <td>83</td>\n",
       "      <td>eve_new6.fm</td>\n",
       "      <td>VT2660</td>\n",
       "      <td>1</td>\n",
       "    </tr>\n",
       "    <tr>\n",
       "      <th>47013</th>\n",
       "      <td>3.449420</td>\n",
       "      <td>MEMB002A</td>\n",
       "      <td>33</td>\n",
       "      <td>negative</td>\n",
       "      <td>100</td>\n",
       "      <td>eve_new6.fm</td>\n",
       "      <td>VT2660</td>\n",
       "      <td>1</td>\n",
       "    </tr>\n",
       "    <tr>\n",
       "      <th>47015</th>\n",
       "      <td>3.449420</td>\n",
       "      <td>MEMB002A</td>\n",
       "      <td>37</td>\n",
       "      <td>negative</td>\n",
       "      <td>108</td>\n",
       "      <td>eve_new6.fm</td>\n",
       "      <td>VT2660</td>\n",
       "      <td>1</td>\n",
       "    </tr>\n",
       "    <tr>\n",
       "      <th>47017</th>\n",
       "      <td>3.449420</td>\n",
       "      <td>MEMB002A</td>\n",
       "      <td>41</td>\n",
       "      <td>negative</td>\n",
       "      <td>112</td>\n",
       "      <td>eve_new6.fm</td>\n",
       "      <td>VT2660</td>\n",
       "      <td>1</td>\n",
       "    </tr>\n",
       "  </tbody>\n",
       "</table>\n",
       "</div>"
      ],
      "text/plain": [
       "          score   species  raw_position    strand  align_position  \\\n",
       "46988  2.586924  MEMB002A             3  positive              65   \n",
       "47000  3.449420  MEMB002A            18  positive              83   \n",
       "47013  3.449420  MEMB002A            33  negative             100   \n",
       "47015  3.449420  MEMB002A            37  negative             108   \n",
       "47017  3.449420  MEMB002A            41  negative             112   \n",
       "\n",
       "             motif align_file function  \n",
       "46988  eve_new6.fm     VT2660        1  \n",
       "47000  eve_new6.fm     VT2660        1  \n",
       "47013  eve_new6.fm     VT2660        1  \n",
       "47015  eve_new6.fm     VT2660        1  \n",
       "47017  eve_new6.fm     VT2660        1  "
      ]
     },
     "execution_count": 141,
     "metadata": {},
     "output_type": "execute_result"
    }
   ],
   "source": [
    "filtered_tables[9].head()"
   ]
  },
  {
   "cell_type": "code",
   "execution_count": 142,
   "metadata": {
    "collapsed": false
   },
   "outputs": [],
   "source": [
    "position_species_tables = []\n",
    "\n",
    "for f in filtered_tables:\n",
    "    positions_with_TFBS = list(f[\"align_position\"])\n",
    "    combos = {} # Dictionary with position index : list of species that have TFBS at this position\n",
    "    for i in positions_with_TFBS:\n",
    "        combos[i] = list(f[f[\"align_position\"] == i][\"species\"])\n",
    "\n",
    "    d = {'Alignment Positions': list(combos.keys()),\n",
    "         'Species with TFBS at Position': list(combos.values())}\n",
    "    positions_species = pd.DataFrame(data=d)\n",
    "    positions_species[\"Species with TFBS at Position\"] = [tuple(i) for i in positions_species[\"Species with TFBS at Position\"]]\n",
    "    # positions_species[\"align_file\"] = filtered_tables[0].iloc[0][6] # add align_file_ID\n",
    "    # positions_species[\"function\"] = filtered_tables[0].iloc[0][7] # add function\n",
    "    \n",
    "    position_species_tables.append(positions_species)"
   ]
  },
  {
   "cell_type": "code",
   "execution_count": 144,
   "metadata": {
    "collapsed": false
   },
   "outputs": [
    {
     "data": {
      "text/html": [
       "<div>\n",
       "<table border=\"1\" class=\"dataframe\">\n",
       "  <thead>\n",
       "    <tr style=\"text-align: right;\">\n",
       "      <th></th>\n",
       "      <th>Alignment Positions</th>\n",
       "      <th>Species with TFBS at Position</th>\n",
       "    </tr>\n",
       "  </thead>\n",
       "  <tbody>\n",
       "    <tr>\n",
       "      <th>0</th>\n",
       "      <td>25</td>\n",
       "      <td>(MEMB002A, MEMB003C, MEMB006B, MEMB007B, MEMB0...</td>\n",
       "    </tr>\n",
       "    <tr>\n",
       "      <th>1</th>\n",
       "      <td>27</td>\n",
       "      <td>(MEMB002A, MEMB003C, MEMB007B)</td>\n",
       "    </tr>\n",
       "    <tr>\n",
       "      <th>2</th>\n",
       "      <td>31</td>\n",
       "      <td>(MEMB002A, MEMB003C, MEMB003F, MEMB004B, MEMB0...</td>\n",
       "    </tr>\n",
       "    <tr>\n",
       "      <th>3</th>\n",
       "      <td>34</td>\n",
       "      <td>(MEMB002A, MEMB002C, MEMB003C, MEMB003D)</td>\n",
       "    </tr>\n",
       "    <tr>\n",
       "      <th>4</th>\n",
       "      <td>49</td>\n",
       "      <td>(MEMB002A, MEMB002B, MEMB002C, MEMB003C, MEMB0...</td>\n",
       "    </tr>\n",
       "    <tr>\n",
       "      <th>5</th>\n",
       "      <td>53</td>\n",
       "      <td>(MEMB002A, MEMB002C, MEMB003C, MEMB006C, MEMB0...</td>\n",
       "    </tr>\n",
       "    <tr>\n",
       "      <th>6</th>\n",
       "      <td>54</td>\n",
       "      <td>(MEMB002A, MEMB002B, MEMB002C, MEMB003C, MEMB0...</td>\n",
       "    </tr>\n",
       "    <tr>\n",
       "      <th>7</th>\n",
       "      <td>97</td>\n",
       "      <td>(MEMB002A, MEMB002B, MEMB002C, MEMB002D, MEMB0...</td>\n",
       "    </tr>\n",
       "    <tr>\n",
       "      <th>8</th>\n",
       "      <td>103</td>\n",
       "      <td>(MEMB002A, MEMB002B, MEMB002C, MEMB002D, MEMB0...</td>\n",
       "    </tr>\n",
       "    <tr>\n",
       "      <th>9</th>\n",
       "      <td>107</td>\n",
       "      <td>(MEMB002A, MEMB002B, MEMB002C, MEMB002D, MEMB0...</td>\n",
       "    </tr>\n",
       "  </tbody>\n",
       "</table>\n",
       "</div>"
      ],
      "text/plain": [
       "   Alignment Positions                      Species with TFBS at Position\n",
       "0                   25  (MEMB002A, MEMB003C, MEMB006B, MEMB007B, MEMB0...\n",
       "1                   27                     (MEMB002A, MEMB003C, MEMB007B)\n",
       "2                   31  (MEMB002A, MEMB003C, MEMB003F, MEMB004B, MEMB0...\n",
       "3                   34           (MEMB002A, MEMB002C, MEMB003C, MEMB003D)\n",
       "4                   49  (MEMB002A, MEMB002B, MEMB002C, MEMB003C, MEMB0...\n",
       "5                   53  (MEMB002A, MEMB002C, MEMB003C, MEMB006C, MEMB0...\n",
       "6                   54  (MEMB002A, MEMB002B, MEMB002C, MEMB003C, MEMB0...\n",
       "7                   97  (MEMB002A, MEMB002B, MEMB002C, MEMB002D, MEMB0...\n",
       "8                  103  (MEMB002A, MEMB002B, MEMB002C, MEMB002D, MEMB0...\n",
       "9                  107  (MEMB002A, MEMB002B, MEMB002C, MEMB002D, MEMB0..."
      ]
     },
     "execution_count": 144,
     "metadata": {},
     "output_type": "execute_result"
    }
   ],
   "source": [
    "position_species_tables[0].head(10)"
   ]
  },
  {
   "cell_type": "markdown",
   "metadata": {},
   "source": [
    "### group_by_combo_tables\n",
    "Another LIST of tables. Similar to position_species_tables, except each table provides:\n",
    "\n",
    "1. Index: the ID of each unique combination (starts from 0, 1, 2.....)\n",
    "2. Species with TFBS at Position: a tuple containing a list of species, in other words, 1 combination.\n",
    "3. Count: The frequency at which each combination occurs"
   ]
  },
  {
   "cell_type": "code",
   "execution_count": 145,
   "metadata": {
    "collapsed": false
   },
   "outputs": [],
   "source": [
    "group_by_combo_tables = []\n",
    "\n",
    "for p in position_species_tables:\n",
    "    group_by_combo = p.groupby(\"Species with TFBS at Position\",sort=False).count().reset_index()\n",
    "    group_by_combo.columns = [\"Species with TFBS at Position\", \"Count\"]\n",
    "    group_by_combo_tables.append(group_by_combo)\n",
    "    "
   ]
  },
  {
   "cell_type": "code",
   "execution_count": 146,
   "metadata": {
    "collapsed": false
   },
   "outputs": [
    {
     "data": {
      "text/html": [
       "<div>\n",
       "<table border=\"1\" class=\"dataframe\">\n",
       "  <thead>\n",
       "    <tr style=\"text-align: right;\">\n",
       "      <th></th>\n",
       "      <th>Species with TFBS at Position</th>\n",
       "      <th>Count</th>\n",
       "    </tr>\n",
       "  </thead>\n",
       "  <tbody>\n",
       "    <tr>\n",
       "      <th>0</th>\n",
       "      <td>(MEMB002A, MEMB003C, MEMB006B, MEMB007B, MEMB0...</td>\n",
       "      <td>1</td>\n",
       "    </tr>\n",
       "    <tr>\n",
       "      <th>1</th>\n",
       "      <td>(MEMB002A, MEMB003C, MEMB007B)</td>\n",
       "      <td>1</td>\n",
       "    </tr>\n",
       "    <tr>\n",
       "      <th>2</th>\n",
       "      <td>(MEMB002A, MEMB003C, MEMB003F, MEMB004B, MEMB0...</td>\n",
       "      <td>1</td>\n",
       "    </tr>\n",
       "    <tr>\n",
       "      <th>3</th>\n",
       "      <td>(MEMB002A, MEMB002C, MEMB003C, MEMB003D)</td>\n",
       "      <td>1</td>\n",
       "    </tr>\n",
       "    <tr>\n",
       "      <th>4</th>\n",
       "      <td>(MEMB002A, MEMB002B, MEMB002C, MEMB003C, MEMB0...</td>\n",
       "      <td>10</td>\n",
       "    </tr>\n",
       "    <tr>\n",
       "      <th>5</th>\n",
       "      <td>(MEMB002A, MEMB002C, MEMB003C, MEMB006C, MEMB0...</td>\n",
       "      <td>1</td>\n",
       "    </tr>\n",
       "    <tr>\n",
       "      <th>6</th>\n",
       "      <td>(MEMB002A, MEMB002B, MEMB002C, MEMB002D, MEMB0...</td>\n",
       "      <td>35</td>\n",
       "    </tr>\n",
       "    <tr>\n",
       "      <th>7</th>\n",
       "      <td>(MEMB002A, MEMB002B, MEMB002C, MEMB002D, MEMB0...</td>\n",
       "      <td>1</td>\n",
       "    </tr>\n",
       "    <tr>\n",
       "      <th>8</th>\n",
       "      <td>(MEMB002A, MEMB002B, MEMB002C, MEMB002F, MEMB0...</td>\n",
       "      <td>2</td>\n",
       "    </tr>\n",
       "    <tr>\n",
       "      <th>9</th>\n",
       "      <td>(MEMB002A, MEMB002B, MEMB002C, MEMB002F, MEMB0...</td>\n",
       "      <td>5</td>\n",
       "    </tr>\n",
       "  </tbody>\n",
       "</table>\n",
       "</div>"
      ],
      "text/plain": [
       "                       Species with TFBS at Position  Count\n",
       "0  (MEMB002A, MEMB003C, MEMB006B, MEMB007B, MEMB0...      1\n",
       "1                     (MEMB002A, MEMB003C, MEMB007B)      1\n",
       "2  (MEMB002A, MEMB003C, MEMB003F, MEMB004B, MEMB0...      1\n",
       "3           (MEMB002A, MEMB002C, MEMB003C, MEMB003D)      1\n",
       "4  (MEMB002A, MEMB002B, MEMB002C, MEMB003C, MEMB0...     10\n",
       "5  (MEMB002A, MEMB002C, MEMB003C, MEMB006C, MEMB0...      1\n",
       "6  (MEMB002A, MEMB002B, MEMB002C, MEMB002D, MEMB0...     35\n",
       "7  (MEMB002A, MEMB002B, MEMB002C, MEMB002D, MEMB0...      1\n",
       "8  (MEMB002A, MEMB002B, MEMB002C, MEMB002F, MEMB0...      2\n",
       "9  (MEMB002A, MEMB002B, MEMB002C, MEMB002F, MEMB0...      5"
      ]
     },
     "execution_count": 146,
     "metadata": {},
     "output_type": "execute_result"
    }
   ],
   "source": [
    "group_by_combo_tables[0].head(10)\n",
    "## group_by_combo_tables[0].shape # There are 389 unique IDs"
   ]
  },
  {
   "cell_type": "markdown",
   "metadata": {},
   "source": [
    "### counts_at_positions_tables\n",
    "Another LIST of tables. Each table is the merging of the respective tables from position_species and group_by_combo. This one summarizes all the information we've obtained so far."
   ]
  },
  {
   "cell_type": "code",
   "execution_count": 147,
   "metadata": {
    "collapsed": false
   },
   "outputs": [],
   "source": [
    "counts_at_positions_tables = []\n",
    "num_alignments = len(group_by_combo_tables)\n",
    "\n",
    "for n in range(num_alignments):\n",
    "    counts_at_positions = position_species_tables[n].merge(group_by_combo_tables[n], how=\"left\",sort=False)\n",
    "    counts_at_positions.set_index(\"Alignment Positions\", inplace=True)\n",
    "    counts_at_positions_tables.append(counts_at_positions)"
   ]
  },
  {
   "cell_type": "code",
   "execution_count": 148,
   "metadata": {
    "collapsed": false
   },
   "outputs": [
    {
     "data": {
      "text/html": [
       "<div>\n",
       "<table border=\"1\" class=\"dataframe\">\n",
       "  <thead>\n",
       "    <tr style=\"text-align: right;\">\n",
       "      <th></th>\n",
       "      <th>Species with TFBS at Position</th>\n",
       "      <th>Count</th>\n",
       "    </tr>\n",
       "    <tr>\n",
       "      <th>Alignment Positions</th>\n",
       "      <th></th>\n",
       "      <th></th>\n",
       "    </tr>\n",
       "  </thead>\n",
       "  <tbody>\n",
       "    <tr>\n",
       "      <th>25</th>\n",
       "      <td>(MEMB002A, MEMB003C, MEMB006B, MEMB007B, MEMB0...</td>\n",
       "      <td>1</td>\n",
       "    </tr>\n",
       "    <tr>\n",
       "      <th>27</th>\n",
       "      <td>(MEMB002A, MEMB003C, MEMB007B)</td>\n",
       "      <td>1</td>\n",
       "    </tr>\n",
       "    <tr>\n",
       "      <th>31</th>\n",
       "      <td>(MEMB002A, MEMB003C, MEMB003F, MEMB004B, MEMB0...</td>\n",
       "      <td>1</td>\n",
       "    </tr>\n",
       "    <tr>\n",
       "      <th>34</th>\n",
       "      <td>(MEMB002A, MEMB002C, MEMB003C, MEMB003D)</td>\n",
       "      <td>1</td>\n",
       "    </tr>\n",
       "    <tr>\n",
       "      <th>49</th>\n",
       "      <td>(MEMB002A, MEMB002B, MEMB002C, MEMB003C, MEMB0...</td>\n",
       "      <td>10</td>\n",
       "    </tr>\n",
       "    <tr>\n",
       "      <th>53</th>\n",
       "      <td>(MEMB002A, MEMB002C, MEMB003C, MEMB006C, MEMB0...</td>\n",
       "      <td>1</td>\n",
       "    </tr>\n",
       "    <tr>\n",
       "      <th>54</th>\n",
       "      <td>(MEMB002A, MEMB002B, MEMB002C, MEMB003C, MEMB0...</td>\n",
       "      <td>10</td>\n",
       "    </tr>\n",
       "    <tr>\n",
       "      <th>97</th>\n",
       "      <td>(MEMB002A, MEMB002B, MEMB002C, MEMB002D, MEMB0...</td>\n",
       "      <td>35</td>\n",
       "    </tr>\n",
       "    <tr>\n",
       "      <th>103</th>\n",
       "      <td>(MEMB002A, MEMB002B, MEMB002C, MEMB002D, MEMB0...</td>\n",
       "      <td>1</td>\n",
       "    </tr>\n",
       "    <tr>\n",
       "      <th>107</th>\n",
       "      <td>(MEMB002A, MEMB002B, MEMB002C, MEMB002D, MEMB0...</td>\n",
       "      <td>35</td>\n",
       "    </tr>\n",
       "    <tr>\n",
       "      <th>119</th>\n",
       "      <td>(MEMB002A, MEMB002B, MEMB002C, MEMB002F, MEMB0...</td>\n",
       "      <td>2</td>\n",
       "    </tr>\n",
       "    <tr>\n",
       "      <th>131</th>\n",
       "      <td>(MEMB002A, MEMB002B, MEMB002C, MEMB002F, MEMB0...</td>\n",
       "      <td>5</td>\n",
       "    </tr>\n",
       "    <tr>\n",
       "      <th>163</th>\n",
       "      <td>(MEMB002A, MEMB002B, MEMB002C, MEMB002D, MEMB0...</td>\n",
       "      <td>1</td>\n",
       "    </tr>\n",
       "    <tr>\n",
       "      <th>190</th>\n",
       "      <td>(MEMB002A, MEMB002B, MEMB002C, MEMB002D, MEMB0...</td>\n",
       "      <td>2</td>\n",
       "    </tr>\n",
       "    <tr>\n",
       "      <th>193</th>\n",
       "      <td>(MEMB002A, MEMB002B, MEMB002C, MEMB002D, MEMB0...</td>\n",
       "      <td>35</td>\n",
       "    </tr>\n",
       "    <tr>\n",
       "      <th>200</th>\n",
       "      <td>(MEMB002A, MEMB002B, MEMB002C, MEMB002D, MEMB0...</td>\n",
       "      <td>35</td>\n",
       "    </tr>\n",
       "    <tr>\n",
       "      <th>204</th>\n",
       "      <td>(MEMB002A, MEMB002B, MEMB002C, MEMB002D, MEMB0...</td>\n",
       "      <td>35</td>\n",
       "    </tr>\n",
       "    <tr>\n",
       "      <th>272</th>\n",
       "      <td>(MEMB002A, MEMB002B, MEMB002C, MEMB002D, MEMB0...</td>\n",
       "      <td>6</td>\n",
       "    </tr>\n",
       "    <tr>\n",
       "      <th>273</th>\n",
       "      <td>(MEMB002A, MEMB002B, MEMB002C, MEMB002D, MEMB0...</td>\n",
       "      <td>6</td>\n",
       "    </tr>\n",
       "    <tr>\n",
       "      <th>323</th>\n",
       "      <td>(MEMB002A, MEMB002B, MEMB002C, MEMB002E, MEMB0...</td>\n",
       "      <td>1</td>\n",
       "    </tr>\n",
       "    <tr>\n",
       "      <th>398</th>\n",
       "      <td>(MEMB002A, MEMB002B, MEMB002C, MEMB002D, MEMB0...</td>\n",
       "      <td>2</td>\n",
       "    </tr>\n",
       "    <tr>\n",
       "      <th>407</th>\n",
       "      <td>(MEMB002A, MEMB002B, MEMB002C, MEMB002D, MEMB0...</td>\n",
       "      <td>1</td>\n",
       "    </tr>\n",
       "    <tr>\n",
       "      <th>444</th>\n",
       "      <td>(MEMB002A, MEMB002B, MEMB002C, MEMB002D, MEMB0...</td>\n",
       "      <td>35</td>\n",
       "    </tr>\n",
       "    <tr>\n",
       "      <th>447</th>\n",
       "      <td>(MEMB002A, MEMB002B, MEMB002C, MEMB002E, MEMB0...</td>\n",
       "      <td>1</td>\n",
       "    </tr>\n",
       "    <tr>\n",
       "      <th>519</th>\n",
       "      <td>(MEMB002A, MEMB002B, MEMB002C, MEMB002D, MEMB0...</td>\n",
       "      <td>1</td>\n",
       "    </tr>\n",
       "    <tr>\n",
       "      <th>523</th>\n",
       "      <td>(MEMB002A, MEMB002B, MEMB002C, MEMB002E, MEMB0...</td>\n",
       "      <td>1</td>\n",
       "    </tr>\n",
       "    <tr>\n",
       "      <th>524</th>\n",
       "      <td>(MEMB002A, MEMB002B, MEMB002C, MEMB002F, MEMB0...</td>\n",
       "      <td>1</td>\n",
       "    </tr>\n",
       "    <tr>\n",
       "      <th>531</th>\n",
       "      <td>(MEMB002A, MEMB002C, MEMB002E, MEMB003C, MEMB0...</td>\n",
       "      <td>1</td>\n",
       "    </tr>\n",
       "    <tr>\n",
       "      <th>541</th>\n",
       "      <td>(MEMB002A, MEMB002B, MEMB004A)</td>\n",
       "      <td>2</td>\n",
       "    </tr>\n",
       "    <tr>\n",
       "      <th>545</th>\n",
       "      <td>(MEMB002A, MEMB002B, MEMB004A)</td>\n",
       "      <td>2</td>\n",
       "    </tr>\n",
       "    <tr>\n",
       "      <th>547</th>\n",
       "      <td>(MEMB002A, MEMB002B, MEMB002D, MEMB002F, MEMB0...</td>\n",
       "      <td>1</td>\n",
       "    </tr>\n",
       "    <tr>\n",
       "      <th>552</th>\n",
       "      <td>(MEMB002A, MEMB002B, MEMB002C, MEMB002F, MEMB0...</td>\n",
       "      <td>1</td>\n",
       "    </tr>\n",
       "    <tr>\n",
       "      <th>564</th>\n",
       "      <td>(MEMB002A, MEMB002B, MEMB002C, MEMB002F, MEMB0...</td>\n",
       "      <td>5</td>\n",
       "    </tr>\n",
       "    <tr>\n",
       "      <th>574</th>\n",
       "      <td>(MEMB002A, MEMB002B, MEMB002C, MEMB002F, MEMB0...</td>\n",
       "      <td>5</td>\n",
       "    </tr>\n",
       "    <tr>\n",
       "      <th>577</th>\n",
       "      <td>(MEMB002A, MEMB002B, MEMB002C, MEMB003C, MEMB0...</td>\n",
       "      <td>10</td>\n",
       "    </tr>\n",
       "    <tr>\n",
       "      <th>609</th>\n",
       "      <td>(MEMB002A, MEMB002F, MEMB003A, MEMB003B, MEMB0...</td>\n",
       "      <td>1</td>\n",
       "    </tr>\n",
       "    <tr>\n",
       "      <th>610</th>\n",
       "      <td>(MEMB002A, MEMB003B, MEMB007B)</td>\n",
       "      <td>1</td>\n",
       "    </tr>\n",
       "    <tr>\n",
       "      <th>614</th>\n",
       "      <td>(MEMB002A, MEMB002C, MEMB002E, MEMB002F, MEMB0...</td>\n",
       "      <td>1</td>\n",
       "    </tr>\n",
       "    <tr>\n",
       "      <th>639</th>\n",
       "      <td>(MEMB002A, MEMB002C, MEMB003C, MEMB003F, MEMB0...</td>\n",
       "      <td>2</td>\n",
       "    </tr>\n",
       "    <tr>\n",
       "      <th>651</th>\n",
       "      <td>(MEMB002A, MEMB002D, MEMB002E, MEMB003B, MEMB0...</td>\n",
       "      <td>1</td>\n",
       "    </tr>\n",
       "    <tr>\n",
       "      <th>654</th>\n",
       "      <td>(MEMB002A, MEMB002F, MEMB003F, MEMB005B, MEMB0...</td>\n",
       "      <td>1</td>\n",
       "    </tr>\n",
       "    <tr>\n",
       "      <th>659</th>\n",
       "      <td>(MEMB002A, MEMB002B, MEMB004A, MEMB007B)</td>\n",
       "      <td>2</td>\n",
       "    </tr>\n",
       "    <tr>\n",
       "      <th>674</th>\n",
       "      <td>(MEMB002A, MEMB002C, MEMB003C, MEMB007B)</td>\n",
       "      <td>5</td>\n",
       "    </tr>\n",
       "    <tr>\n",
       "      <th>800</th>\n",
       "      <td>(MEMB002A, MEMB003B, MEMB006B, MEMB007B, MEMB0...</td>\n",
       "      <td>1</td>\n",
       "    </tr>\n",
       "    <tr>\n",
       "      <th>807</th>\n",
       "      <td>(MEMB002A, MEMB002B, MEMB002C, MEMB003C, MEMB0...</td>\n",
       "      <td>10</td>\n",
       "    </tr>\n",
       "    <tr>\n",
       "      <th>810</th>\n",
       "      <td>(MEMB002A, MEMB002B, MEMB002C, MEMB003C, MEMB0...</td>\n",
       "      <td>10</td>\n",
       "    </tr>\n",
       "    <tr>\n",
       "      <th>828</th>\n",
       "      <td>(MEMB002A, MEMB002B, MEMB002C, MEMB002F, MEMB0...</td>\n",
       "      <td>1</td>\n",
       "    </tr>\n",
       "    <tr>\n",
       "      <th>841</th>\n",
       "      <td>(MEMB002A, MEMB002B, MEMB004A, MEMB007B)</td>\n",
       "      <td>2</td>\n",
       "    </tr>\n",
       "    <tr>\n",
       "      <th>844</th>\n",
       "      <td>(MEMB002A, MEMB007B, MEMB007D)</td>\n",
       "      <td>1</td>\n",
       "    </tr>\n",
       "    <tr>\n",
       "      <th>868</th>\n",
       "      <td>(MEMB002A, MEMB003C, MEMB005B, MEMB007B)</td>\n",
       "      <td>1</td>\n",
       "    </tr>\n",
       "  </tbody>\n",
       "</table>\n",
       "</div>"
      ],
      "text/plain": [
       "                                         Species with TFBS at Position  Count\n",
       "Alignment Positions                                                          \n",
       "25                   (MEMB002A, MEMB003C, MEMB006B, MEMB007B, MEMB0...      1\n",
       "27                                      (MEMB002A, MEMB003C, MEMB007B)      1\n",
       "31                   (MEMB002A, MEMB003C, MEMB003F, MEMB004B, MEMB0...      1\n",
       "34                            (MEMB002A, MEMB002C, MEMB003C, MEMB003D)      1\n",
       "49                   (MEMB002A, MEMB002B, MEMB002C, MEMB003C, MEMB0...     10\n",
       "53                   (MEMB002A, MEMB002C, MEMB003C, MEMB006C, MEMB0...      1\n",
       "54                   (MEMB002A, MEMB002B, MEMB002C, MEMB003C, MEMB0...     10\n",
       "97                   (MEMB002A, MEMB002B, MEMB002C, MEMB002D, MEMB0...     35\n",
       "103                  (MEMB002A, MEMB002B, MEMB002C, MEMB002D, MEMB0...      1\n",
       "107                  (MEMB002A, MEMB002B, MEMB002C, MEMB002D, MEMB0...     35\n",
       "119                  (MEMB002A, MEMB002B, MEMB002C, MEMB002F, MEMB0...      2\n",
       "131                  (MEMB002A, MEMB002B, MEMB002C, MEMB002F, MEMB0...      5\n",
       "163                  (MEMB002A, MEMB002B, MEMB002C, MEMB002D, MEMB0...      1\n",
       "190                  (MEMB002A, MEMB002B, MEMB002C, MEMB002D, MEMB0...      2\n",
       "193                  (MEMB002A, MEMB002B, MEMB002C, MEMB002D, MEMB0...     35\n",
       "200                  (MEMB002A, MEMB002B, MEMB002C, MEMB002D, MEMB0...     35\n",
       "204                  (MEMB002A, MEMB002B, MEMB002C, MEMB002D, MEMB0...     35\n",
       "272                  (MEMB002A, MEMB002B, MEMB002C, MEMB002D, MEMB0...      6\n",
       "273                  (MEMB002A, MEMB002B, MEMB002C, MEMB002D, MEMB0...      6\n",
       "323                  (MEMB002A, MEMB002B, MEMB002C, MEMB002E, MEMB0...      1\n",
       "398                  (MEMB002A, MEMB002B, MEMB002C, MEMB002D, MEMB0...      2\n",
       "407                  (MEMB002A, MEMB002B, MEMB002C, MEMB002D, MEMB0...      1\n",
       "444                  (MEMB002A, MEMB002B, MEMB002C, MEMB002D, MEMB0...     35\n",
       "447                  (MEMB002A, MEMB002B, MEMB002C, MEMB002E, MEMB0...      1\n",
       "519                  (MEMB002A, MEMB002B, MEMB002C, MEMB002D, MEMB0...      1\n",
       "523                  (MEMB002A, MEMB002B, MEMB002C, MEMB002E, MEMB0...      1\n",
       "524                  (MEMB002A, MEMB002B, MEMB002C, MEMB002F, MEMB0...      1\n",
       "531                  (MEMB002A, MEMB002C, MEMB002E, MEMB003C, MEMB0...      1\n",
       "541                                     (MEMB002A, MEMB002B, MEMB004A)      2\n",
       "545                                     (MEMB002A, MEMB002B, MEMB004A)      2\n",
       "547                  (MEMB002A, MEMB002B, MEMB002D, MEMB002F, MEMB0...      1\n",
       "552                  (MEMB002A, MEMB002B, MEMB002C, MEMB002F, MEMB0...      1\n",
       "564                  (MEMB002A, MEMB002B, MEMB002C, MEMB002F, MEMB0...      5\n",
       "574                  (MEMB002A, MEMB002B, MEMB002C, MEMB002F, MEMB0...      5\n",
       "577                  (MEMB002A, MEMB002B, MEMB002C, MEMB003C, MEMB0...     10\n",
       "609                  (MEMB002A, MEMB002F, MEMB003A, MEMB003B, MEMB0...      1\n",
       "610                                     (MEMB002A, MEMB003B, MEMB007B)      1\n",
       "614                  (MEMB002A, MEMB002C, MEMB002E, MEMB002F, MEMB0...      1\n",
       "639                  (MEMB002A, MEMB002C, MEMB003C, MEMB003F, MEMB0...      2\n",
       "651                  (MEMB002A, MEMB002D, MEMB002E, MEMB003B, MEMB0...      1\n",
       "654                  (MEMB002A, MEMB002F, MEMB003F, MEMB005B, MEMB0...      1\n",
       "659                           (MEMB002A, MEMB002B, MEMB004A, MEMB007B)      2\n",
       "674                           (MEMB002A, MEMB002C, MEMB003C, MEMB007B)      5\n",
       "800                  (MEMB002A, MEMB003B, MEMB006B, MEMB007B, MEMB0...      1\n",
       "807                  (MEMB002A, MEMB002B, MEMB002C, MEMB003C, MEMB0...     10\n",
       "810                  (MEMB002A, MEMB002B, MEMB002C, MEMB003C, MEMB0...     10\n",
       "828                  (MEMB002A, MEMB002B, MEMB002C, MEMB002F, MEMB0...      1\n",
       "841                           (MEMB002A, MEMB002B, MEMB004A, MEMB007B)      2\n",
       "844                                     (MEMB002A, MEMB007B, MEMB007D)      1\n",
       "868                           (MEMB002A, MEMB003C, MEMB005B, MEMB007B)      1"
      ]
     },
     "execution_count": 148,
     "metadata": {},
     "output_type": "execute_result"
    }
   ],
   "source": [
    "counts_at_positions_tables[0].head(50)"
   ]
  },
  {
   "cell_type": "code",
   "execution_count": 97,
   "metadata": {
    "collapsed": false
   },
   "outputs": [],
   "source": [
    "position_to_count_dictionaries = []\n",
    "\n",
    "for c in counts_at_positions_tables:\n",
    "    position = list(c.index.values)\n",
    "    dictionary = {}\n",
    "    for i in range(len(position)):\n",
    "        if i in position:\n",
    "            dictionary[i] = c[\"Count\"][i]\n",
    "        else:\n",
    "            dictionary[i] = 0\n",
    "    position_to_count_dictionaries.append(dictionary)"
   ]
  },
  {
   "cell_type": "code",
   "execution_count": 98,
   "metadata": {
    "collapsed": false
   },
   "outputs": [],
   "source": [
    "def freq_at_position(align_position, alignment):\n",
    "    \"\"\"\n",
    "    align_position: integer\n",
    "    alignment: integer\n",
    "    \n",
    "    Returns the frequency of the pattern occurring at the specified alignment position.\n",
    "    Must specify which alignment file is being used.\n",
    "    \"\"\"\n",
    "    return position_to_count_dictionaries[alignment][align_position]"
   ]
  },
  {
   "cell_type": "code",
   "execution_count": 99,
   "metadata": {
    "collapsed": false
   },
   "outputs": [
    {
     "data": {
      "text/plain": [
       "0"
      ]
     },
     "execution_count": 99,
     "metadata": {},
     "output_type": "execute_result"
    }
   ],
   "source": [
    "# Example: this is the frequency of the pattern occuring at position 12 in the first alignment.\n",
    "freq_at_position(12, 0)"
   ]
  },
  {
   "cell_type": "markdown",
   "metadata": {},
   "source": [
    "## Visualizations"
   ]
  },
  {
   "cell_type": "code",
   "execution_count": 67,
   "metadata": {
    "collapsed": false
   },
   "outputs": [
    {
     "data": {
      "text/plain": [
       "<matplotlib.text.Text at 0x10a39f7b8>"
      ]
     },
     "execution_count": 67,
     "metadata": {},
     "output_type": "execute_result"
    },
    {
     "data": {
      "image/png": "[encoded data removed]",
      "text/plain": [
       "<matplotlib.figure.Figure at 0x10a442f98>"
      ]
     },
     "metadata": {},
     "output_type": "display_data"
    }
   ],
   "source": [
    "pos = list(position_to_count_dictionaries[0].keys())\n",
    "y_pos = np.arange(len(pos))\n",
    "freqs = list(position_to_count_dictionaries[0].values())\n",
    " \n",
    "plt.bar(y_pos, freqs, align='center', alpha=0.5, width = 3)\n",
    "plt.xlabel(\"Alignment Position in Sequence Alignment #1\")\n",
    "plt.ylabel(\"Frequency of TFBS Combination at Position\")"
   ]
  },
  {
   "cell_type": "markdown",
   "metadata": {},
   "source": [
    "### ID Dictionary\n",
    "Use the function ID_dictionary (defined below) when you have an ID and want to view the pattern associated with that ID."
   ]
  },
  {
   "cell_type": "code",
   "execution_count": 149,
   "metadata": {
    "collapsed": false
   },
   "outputs": [],
   "source": [
    "# For convenience, here are dictionaries of IDs that map to a combination.\n",
    "\n",
    "all_combo_ids = []\n",
    "\n",
    "for g in group_by_combo_tables:\n",
    "    combo_ids = {}\n",
    "    for i in g.index.values:\n",
    "        combo = g[\"Species with TFBS at Position\"][i]\n",
    "        combo_ids[i] = combo\n",
    "    all_combo_ids.append(combo_ids)"
   ]
  },
  {
   "cell_type": "code",
   "execution_count": 150,
   "metadata": {
    "collapsed": false
   },
   "outputs": [],
   "source": [
    "def ID_dictionary(alignment, ID):\n",
    "    \"\"\"\n",
    "    alignment: integer specifying which alignment to analyze\n",
    "    ID: integer; ID linked to the unique TFBS combination\n",
    "    \"\"\"\n",
    "    return all_combo_ids[alignment][ID]"
   ]
  },
  {
   "cell_type": "code",
   "execution_count": 151,
   "metadata": {
    "collapsed": false
   },
   "outputs": [
    {
     "data": {
      "text/plain": [
       "('MEMB002A',\n",
       " 'MEMB002C',\n",
       " 'MEMB002D',\n",
       " 'MEMB002E',\n",
       " 'MEMB002F',\n",
       " 'MEMB003A',\n",
       " 'MEMB003B',\n",
       " 'MEMB003C',\n",
       " 'MEMB003D',\n",
       " 'MEMB003F',\n",
       " 'MEMB004B',\n",
       " 'MEMB004E',\n",
       " 'MEMB005B',\n",
       " 'MEMB005D',\n",
       " 'MEMB006C',\n",
       " 'MEMB007B',\n",
       " 'MEMB007C',\n",
       " 'MEMB007D',\n",
       " 'MEMB008C',\n",
       " 'dkik')"
      ]
     },
     "execution_count": 151,
     "metadata": {},
     "output_type": "execute_result"
    }
   ],
   "source": [
    "# Example: from alignment 2, ID #11 represents this combination of species.\n",
    "ID_dictionary(2, 11)"
   ]
  },
  {
   "cell_type": "markdown",
   "metadata": {},
   "source": [
    "# TLDR:\n",
    "#### These functions incorporate everything done above.\n",
    "1. Use **frequent_patterns** function to find the top few occurring TFBS patterns in your specified alignment file.\n",
    "2. Use **most_frequent_pattern** function to find the top occuring TFBS pattern in your specified alignment file."
   ]
  },
  {
   "cell_type": "code",
   "execution_count": 157,
   "metadata": {
    "collapsed": false
   },
   "outputs": [
    {
     "data": {
      "text/html": [
       "<div>\n",
       "<table border=\"1\" class=\"dataframe\">\n",
       "  <thead>\n",
       "    <tr style=\"text-align: right;\">\n",
       "      <th></th>\n",
       "      <th>Species with TFBS at Position</th>\n",
       "      <th>Count</th>\n",
       "    </tr>\n",
       "  </thead>\n",
       "  <tbody>\n",
       "    <tr>\n",
       "      <th>0</th>\n",
       "      <td>(MEMB002A, MEMB002C, MEMB002D, MEMB002E, MEMB0...</td>\n",
       "      <td>1</td>\n",
       "    </tr>\n",
       "    <tr>\n",
       "      <th>1</th>\n",
       "      <td>(MEMB002A, MEMB002B, MEMB002C, MEMB002F, MEMB0...</td>\n",
       "      <td>5</td>\n",
       "    </tr>\n",
       "    <tr>\n",
       "      <th>2</th>\n",
       "      <td>(MEMB002A, MEMB002C, MEMB002D, MEMB002E, MEMB0...</td>\n",
       "      <td>1</td>\n",
       "    </tr>\n",
       "    <tr>\n",
       "      <th>3</th>\n",
       "      <td>(MEMB002A, MEMB002B, MEMB002C, MEMB002D, MEMB0...</td>\n",
       "      <td>1</td>\n",
       "    </tr>\n",
       "    <tr>\n",
       "      <th>4</th>\n",
       "      <td>(MEMB002A, MEMB002B, MEMB002C, MEMB002D, MEMB0...</td>\n",
       "      <td>4</td>\n",
       "    </tr>\n",
       "    <tr>\n",
       "      <th>5</th>\n",
       "      <td>(MEMB002A, MEMB002B, MEMB002C, MEMB002D, MEMB0...</td>\n",
       "      <td>1</td>\n",
       "    </tr>\n",
       "    <tr>\n",
       "      <th>6</th>\n",
       "      <td>(MEMB002A, MEMB002C, MEMB003C, MEMB007B, MEMB0...</td>\n",
       "      <td>3</td>\n",
       "    </tr>\n",
       "    <tr>\n",
       "      <th>7</th>\n",
       "      <td>(MEMB002A, MEMB002B, MEMB002C, MEMB002D, MEMB0...</td>\n",
       "      <td>1</td>\n",
       "    </tr>\n",
       "    <tr>\n",
       "      <th>8</th>\n",
       "      <td>(MEMB002A, MEMB002B, MEMB002C, MEMB002D, MEMB0...</td>\n",
       "      <td>1</td>\n",
       "    </tr>\n",
       "    <tr>\n",
       "      <th>9</th>\n",
       "      <td>(MEMB002A, MEMB002B, MEMB002C, MEMB002D, MEMB0...</td>\n",
       "      <td>1</td>\n",
       "    </tr>\n",
       "    <tr>\n",
       "      <th>10</th>\n",
       "      <td>(MEMB002A, MEMB002C, MEMB002D, MEMB002E, MEMB0...</td>\n",
       "      <td>1</td>\n",
       "    </tr>\n",
       "    <tr>\n",
       "      <th>11</th>\n",
       "      <td>(MEMB002A, MEMB002B, MEMB002C, MEMB002D, MEMB0...</td>\n",
       "      <td>1</td>\n",
       "    </tr>\n",
       "    <tr>\n",
       "      <th>12</th>\n",
       "      <td>(MEMB002A, MEMB002B, MEMB002D, MEMB002E, MEMB0...</td>\n",
       "      <td>1</td>\n",
       "    </tr>\n",
       "    <tr>\n",
       "      <th>13</th>\n",
       "      <td>(MEMB002A, MEMB002B, MEMB002C, MEMB002D, MEMB0...</td>\n",
       "      <td>1</td>\n",
       "    </tr>\n",
       "    <tr>\n",
       "      <th>14</th>\n",
       "      <td>(MEMB002A, MEMB002B, MEMB002C, MEMB002D, MEMB0...</td>\n",
       "      <td>1</td>\n",
       "    </tr>\n",
       "    <tr>\n",
       "      <th>15</th>\n",
       "      <td>(MEMB002A, MEMB002C, MEMB003C, MEMB007B)</td>\n",
       "      <td>2</td>\n",
       "    </tr>\n",
       "    <tr>\n",
       "      <th>16</th>\n",
       "      <td>(MEMB002A, MEMB002B, MEMB002C, MEMB002E, MEMB0...</td>\n",
       "      <td>1</td>\n",
       "    </tr>\n",
       "    <tr>\n",
       "      <th>17</th>\n",
       "      <td>(MEMB002A, MEMB002B, MEMB002C, MEMB003C, MEMB0...</td>\n",
       "      <td>2</td>\n",
       "    </tr>\n",
       "    <tr>\n",
       "      <th>18</th>\n",
       "      <td>(MEMB002A, MEMB002B, MEMB002C, MEMB002E, MEMB0...</td>\n",
       "      <td>1</td>\n",
       "    </tr>\n",
       "    <tr>\n",
       "      <th>19</th>\n",
       "      <td>(MEMB002A, MEMB002B, MEMB002C, MEMB002E, MEMB0...</td>\n",
       "      <td>1</td>\n",
       "    </tr>\n",
       "    <tr>\n",
       "      <th>20</th>\n",
       "      <td>(MEMB002A, MEMB002C, MEMB002D, MEMB002E, MEMB0...</td>\n",
       "      <td>1</td>\n",
       "    </tr>\n",
       "    <tr>\n",
       "      <th>21</th>\n",
       "      <td>(MEMB002A, MEMB002B, MEMB002C, MEMB002D, MEMB0...</td>\n",
       "      <td>1</td>\n",
       "    </tr>\n",
       "    <tr>\n",
       "      <th>22</th>\n",
       "      <td>(MEMB002A, MEMB002B, MEMB002C, MEMB002D, MEMB0...</td>\n",
       "      <td>1</td>\n",
       "    </tr>\n",
       "    <tr>\n",
       "      <th>23</th>\n",
       "      <td>(MEMB002A, MEMB002B, MEMB002C, MEMB002F, MEMB0...</td>\n",
       "      <td>1</td>\n",
       "    </tr>\n",
       "    <tr>\n",
       "      <th>24</th>\n",
       "      <td>(MEMB002A, MEMB002B, MEMB002C, MEMB002D, MEMB0...</td>\n",
       "      <td>1</td>\n",
       "    </tr>\n",
       "    <tr>\n",
       "      <th>25</th>\n",
       "      <td>(MEMB002A, MEMB002B, MEMB002C, MEMB002F, MEMB0...</td>\n",
       "      <td>8</td>\n",
       "    </tr>\n",
       "    <tr>\n",
       "      <th>26</th>\n",
       "      <td>(MEMB002A, MEMB002B, MEMB002C, MEMB002D, MEMB0...</td>\n",
       "      <td>1</td>\n",
       "    </tr>\n",
       "    <tr>\n",
       "      <th>27</th>\n",
       "      <td>(MEMB002A, MEMB002B, MEMB002C, MEMB002D, MEMB0...</td>\n",
       "      <td>1</td>\n",
       "    </tr>\n",
       "    <tr>\n",
       "      <th>28</th>\n",
       "      <td>(MEMB002A, MEMB002B, MEMB002C, MEMB002D, MEMB0...</td>\n",
       "      <td>1</td>\n",
       "    </tr>\n",
       "    <tr>\n",
       "      <th>29</th>\n",
       "      <td>(MEMB002A, MEMB002B, MEMB002C, MEMB002D, MEMB0...</td>\n",
       "      <td>1</td>\n",
       "    </tr>\n",
       "    <tr>\n",
       "      <th>...</th>\n",
       "      <td>...</td>\n",
       "      <td>...</td>\n",
       "    </tr>\n",
       "    <tr>\n",
       "      <th>367</th>\n",
       "      <td>(MEMB005B, MEMB007D)</td>\n",
       "      <td>1</td>\n",
       "    </tr>\n",
       "    <tr>\n",
       "      <th>368</th>\n",
       "      <td>(MEMB005B, MEMB006B)</td>\n",
       "      <td>1</td>\n",
       "    </tr>\n",
       "    <tr>\n",
       "      <th>369</th>\n",
       "      <td>(MEMB005B, MEMB006B, MEMB006C, MEMB007C)</td>\n",
       "      <td>1</td>\n",
       "    </tr>\n",
       "    <tr>\n",
       "      <th>370</th>\n",
       "      <td>(MEMB005B, MEMB007B)</td>\n",
       "      <td>1</td>\n",
       "    </tr>\n",
       "    <tr>\n",
       "      <th>371</th>\n",
       "      <td>(MEMB005D,)</td>\n",
       "      <td>4</td>\n",
       "    </tr>\n",
       "    <tr>\n",
       "      <th>372</th>\n",
       "      <td>(MEMB005D, MEMB007C)</td>\n",
       "      <td>1</td>\n",
       "    </tr>\n",
       "    <tr>\n",
       "      <th>373</th>\n",
       "      <td>(MEMB005D, MEMB006A)</td>\n",
       "      <td>9</td>\n",
       "    </tr>\n",
       "    <tr>\n",
       "      <th>374</th>\n",
       "      <td>(MEMB005D, MEMB006B)</td>\n",
       "      <td>1</td>\n",
       "    </tr>\n",
       "    <tr>\n",
       "      <th>375</th>\n",
       "      <td>(MEMB005D, MEMB006A, MEMB006C)</td>\n",
       "      <td>1</td>\n",
       "    </tr>\n",
       "    <tr>\n",
       "      <th>376</th>\n",
       "      <td>(MEMB005D, MEMB006A, MEMB007D)</td>\n",
       "      <td>1</td>\n",
       "    </tr>\n",
       "    <tr>\n",
       "      <th>377</th>\n",
       "      <td>(MEMB006A,)</td>\n",
       "      <td>8</td>\n",
       "    </tr>\n",
       "    <tr>\n",
       "      <th>378</th>\n",
       "      <td>(MEMB006A, MEMB007C)</td>\n",
       "      <td>1</td>\n",
       "    </tr>\n",
       "    <tr>\n",
       "      <th>379</th>\n",
       "      <td>(MEMB006A, MEMB006C)</td>\n",
       "      <td>1</td>\n",
       "    </tr>\n",
       "    <tr>\n",
       "      <th>380</th>\n",
       "      <td>(MEMB006B,)</td>\n",
       "      <td>10</td>\n",
       "    </tr>\n",
       "    <tr>\n",
       "      <th>381</th>\n",
       "      <td>(MEMB006B, MEMB007D)</td>\n",
       "      <td>1</td>\n",
       "    </tr>\n",
       "    <tr>\n",
       "      <th>382</th>\n",
       "      <td>(MEMB006C, MEMB007D)</td>\n",
       "      <td>2</td>\n",
       "    </tr>\n",
       "    <tr>\n",
       "      <th>383</th>\n",
       "      <td>(MEMB006C,)</td>\n",
       "      <td>32</td>\n",
       "    </tr>\n",
       "    <tr>\n",
       "      <th>384</th>\n",
       "      <td>(MEMB006C, MEMB007B)</td>\n",
       "      <td>2</td>\n",
       "    </tr>\n",
       "    <tr>\n",
       "      <th>385</th>\n",
       "      <td>(MEMB006C, MEMB007C)</td>\n",
       "      <td>2</td>\n",
       "    </tr>\n",
       "    <tr>\n",
       "      <th>386</th>\n",
       "      <td>(MEMB006C, MEMB008C)</td>\n",
       "      <td>2</td>\n",
       "    </tr>\n",
       "    <tr>\n",
       "      <th>387</th>\n",
       "      <td>(MEMB006C, MEMB007D, MEMB008C)</td>\n",
       "      <td>1</td>\n",
       "    </tr>\n",
       "    <tr>\n",
       "      <th>388</th>\n",
       "      <td>(MEMB007B,)</td>\n",
       "      <td>72</td>\n",
       "    </tr>\n",
       "    <tr>\n",
       "      <th>389</th>\n",
       "      <td>(MEMB007B, MEMB007C)</td>\n",
       "      <td>1</td>\n",
       "    </tr>\n",
       "    <tr>\n",
       "      <th>390</th>\n",
       "      <td>(MEMB007B, MEMB008C)</td>\n",
       "      <td>1</td>\n",
       "    </tr>\n",
       "    <tr>\n",
       "      <th>391</th>\n",
       "      <td>(MEMB007C,)</td>\n",
       "      <td>24</td>\n",
       "    </tr>\n",
       "    <tr>\n",
       "      <th>392</th>\n",
       "      <td>(MEMB007C, dkik)</td>\n",
       "      <td>1</td>\n",
       "    </tr>\n",
       "    <tr>\n",
       "      <th>393</th>\n",
       "      <td>(MEMB007D,)</td>\n",
       "      <td>123</td>\n",
       "    </tr>\n",
       "    <tr>\n",
       "      <th>394</th>\n",
       "      <td>(MEMB007D, MEMB008C)</td>\n",
       "      <td>1</td>\n",
       "    </tr>\n",
       "    <tr>\n",
       "      <th>395</th>\n",
       "      <td>(MEMB008C,)</td>\n",
       "      <td>12</td>\n",
       "    </tr>\n",
       "    <tr>\n",
       "      <th>396</th>\n",
       "      <td>(dkik,)</td>\n",
       "      <td>7</td>\n",
       "    </tr>\n",
       "  </tbody>\n",
       "</table>\n",
       "<p>397 rows × 2 columns</p>\n",
       "</div>"
      ],
      "text/plain": [
       "                         Species with TFBS at Position  Count\n",
       "0    (MEMB002A, MEMB002C, MEMB002D, MEMB002E, MEMB0...      1\n",
       "1    (MEMB002A, MEMB002B, MEMB002C, MEMB002F, MEMB0...      5\n",
       "2    (MEMB002A, MEMB002C, MEMB002D, MEMB002E, MEMB0...      1\n",
       "3    (MEMB002A, MEMB002B, MEMB002C, MEMB002D, MEMB0...      1\n",
       "4    (MEMB002A, MEMB002B, MEMB002C, MEMB002D, MEMB0...      4\n",
       "5    (MEMB002A, MEMB002B, MEMB002C, MEMB002D, MEMB0...      1\n",
       "6    (MEMB002A, MEMB002C, MEMB003C, MEMB007B, MEMB0...      3\n",
       "7    (MEMB002A, MEMB002B, MEMB002C, MEMB002D, MEMB0...      1\n",
       "8    (MEMB002A, MEMB002B, MEMB002C, MEMB002D, MEMB0...      1\n",
       "9    (MEMB002A, MEMB002B, MEMB002C, MEMB002D, MEMB0...      1\n",
       "10   (MEMB002A, MEMB002C, MEMB002D, MEMB002E, MEMB0...      1\n",
       "11   (MEMB002A, MEMB002B, MEMB002C, MEMB002D, MEMB0...      1\n",
       "12   (MEMB002A, MEMB002B, MEMB002D, MEMB002E, MEMB0...      1\n",
       "13   (MEMB002A, MEMB002B, MEMB002C, MEMB002D, MEMB0...      1\n",
       "14   (MEMB002A, MEMB002B, MEMB002C, MEMB002D, MEMB0...      1\n",
       "15            (MEMB002A, MEMB002C, MEMB003C, MEMB007B)      2\n",
       "16   (MEMB002A, MEMB002B, MEMB002C, MEMB002E, MEMB0...      1\n",
       "17   (MEMB002A, MEMB002B, MEMB002C, MEMB003C, MEMB0...      2\n",
       "18   (MEMB002A, MEMB002B, MEMB002C, MEMB002E, MEMB0...      1\n",
       "19   (MEMB002A, MEMB002B, MEMB002C, MEMB002E, MEMB0...      1\n",
       "20   (MEMB002A, MEMB002C, MEMB002D, MEMB002E, MEMB0...      1\n",
       "21   (MEMB002A, MEMB002B, MEMB002C, MEMB002D, MEMB0...      1\n",
       "22   (MEMB002A, MEMB002B, MEMB002C, MEMB002D, MEMB0...      1\n",
       "23   (MEMB002A, MEMB002B, MEMB002C, MEMB002F, MEMB0...      1\n",
       "24   (MEMB002A, MEMB002B, MEMB002C, MEMB002D, MEMB0...      1\n",
       "25   (MEMB002A, MEMB002B, MEMB002C, MEMB002F, MEMB0...      8\n",
       "26   (MEMB002A, MEMB002B, MEMB002C, MEMB002D, MEMB0...      1\n",
       "27   (MEMB002A, MEMB002B, MEMB002C, MEMB002D, MEMB0...      1\n",
       "28   (MEMB002A, MEMB002B, MEMB002C, MEMB002D, MEMB0...      1\n",
       "29   (MEMB002A, MEMB002B, MEMB002C, MEMB002D, MEMB0...      1\n",
       "..                                                 ...    ...\n",
       "367                               (MEMB005B, MEMB007D)      1\n",
       "368                               (MEMB005B, MEMB006B)      1\n",
       "369           (MEMB005B, MEMB006B, MEMB006C, MEMB007C)      1\n",
       "370                               (MEMB005B, MEMB007B)      1\n",
       "371                                        (MEMB005D,)      4\n",
       "372                               (MEMB005D, MEMB007C)      1\n",
       "373                               (MEMB005D, MEMB006A)      9\n",
       "374                               (MEMB005D, MEMB006B)      1\n",
       "375                     (MEMB005D, MEMB006A, MEMB006C)      1\n",
       "376                     (MEMB005D, MEMB006A, MEMB007D)      1\n",
       "377                                        (MEMB006A,)      8\n",
       "378                               (MEMB006A, MEMB007C)      1\n",
       "379                               (MEMB006A, MEMB006C)      1\n",
       "380                                        (MEMB006B,)     10\n",
       "381                               (MEMB006B, MEMB007D)      1\n",
       "382                               (MEMB006C, MEMB007D)      2\n",
       "383                                        (MEMB006C,)     32\n",
       "384                               (MEMB006C, MEMB007B)      2\n",
       "385                               (MEMB006C, MEMB007C)      2\n",
       "386                               (MEMB006C, MEMB008C)      2\n",
       "387                     (MEMB006C, MEMB007D, MEMB008C)      1\n",
       "388                                        (MEMB007B,)     72\n",
       "389                               (MEMB007B, MEMB007C)      1\n",
       "390                               (MEMB007B, MEMB008C)      1\n",
       "391                                        (MEMB007C,)     24\n",
       "392                                   (MEMB007C, dkik)      1\n",
       "393                                        (MEMB007D,)    123\n",
       "394                               (MEMB007D, MEMB008C)      1\n",
       "395                                        (MEMB008C,)     12\n",
       "396                                            (dkik,)      7\n",
       "\n",
       "[397 rows x 2 columns]"
      ]
     },
     "execution_count": 157,
     "metadata": {},
     "output_type": "execute_result"
    }
   ],
   "source": [
    "def frequent_patterns(alignment_num, percentile=0):\n",
    "    \"\"\"\n",
    "    alignment_num: integer specifying which alignment to analyze\n",
    "    percentile: (integer) limit frequencies to only above this percentile\n",
    "    \n",
    "    Returns:\n",
    "    A table, like those in group_by_combo_tables, except w/only the largest counts\n",
    "    \"\"\"\n",
    "    counts = list(counts_at_positions_tables[alignment_num][\"Count\"])\n",
    "    table = group_by_combo_tables[alignment_num]\n",
    "    return table[table[\"Count\"] >= np.percentile(counts, percentile)]\n",
    "\n",
    "frequent_patterns(7)"
   ]
  },
  {
   "cell_type": "code",
   "execution_count": 158,
   "metadata": {
    "collapsed": false
   },
   "outputs": [
    {
     "data": {
      "text/html": [
       "<div>\n",
       "<table border=\"1\" class=\"dataframe\">\n",
       "  <thead>\n",
       "    <tr style=\"text-align: right;\">\n",
       "      <th></th>\n",
       "      <th>Species with TFBS at Position</th>\n",
       "      <th>Count</th>\n",
       "    </tr>\n",
       "  </thead>\n",
       "  <tbody>\n",
       "    <tr>\n",
       "      <th>0</th>\n",
       "      <td>(MEMB002A, MEMB002B, MEMB002C, MEMB002D, MEMB0...</td>\n",
       "      <td>65</td>\n",
       "    </tr>\n",
       "  </tbody>\n",
       "</table>\n",
       "</div>"
      ],
      "text/plain": [
       "                       Species with TFBS at Position  Count\n",
       "0  (MEMB002A, MEMB002B, MEMB002C, MEMB002D, MEMB0...     65"
      ]
     },
     "execution_count": 158,
     "metadata": {},
     "output_type": "execute_result"
    }
   ],
   "source": [
    "def most_frequent_pattern(alignment_num):\n",
    "    \"\"\"\n",
    "    alignment_num: integer specifying which alignment to analyze\n",
    "    \n",
    "    Returns:\n",
    "    A single-row table with the TFBS combo with the LARGEST count in the sequence\n",
    "    \"\"\"\n",
    "    max_count = max(list(counts_at_positions_tables[alignment_num][\"Count\"]))\n",
    "    table = group_by_combo_tables[alignment_num]\n",
    "    return table[table[\"Count\"] == max_count]\n",
    "\n",
    "most_frequent_pattern(1) # <- In the second alignment, the most frequent combo occurs 52 times."
   ]
  },
  {
   "cell_type": "markdown",
   "metadata": {},
   "source": [
    "#### More Analysis..."
   ]
  },
  {
   "cell_type": "markdown",
   "metadata": {},
   "source": [
    "The following cells join the tables together from all 50 alignments into **frequent_all_alignments**. There are no duplicate species."
   ]
  },
  {
   "cell_type": "code",
   "execution_count": 160,
   "metadata": {
    "collapsed": false
   },
   "outputs": [],
   "source": [
    "freq_tables = []\n",
    "for i in range(len(tables)): # len(tables) represents the alignments\n",
    "    t = frequent_patterns(i)\n",
    "    t[\"Alignment File\"] = [i] * t.count()[0]\n",
    "    freq_tables.append(t)\n",
    "\n",
    "frequent_all_alignments = pd.concat(freq_tables).sort_values(by=['Count'], ascending=False)\n"
   ]
  },
  {
   "cell_type": "code",
   "execution_count": 218,
   "metadata": {
    "collapsed": false
   },
   "outputs": [
    {
     "data": {
      "text/plain": [
       "(61955, 3)"
      ]
     },
     "execution_count": 218,
     "metadata": {},
     "output_type": "execute_result"
    }
   ],
   "source": [
    "frequent_all_alignments.head()"
   ]
  },
  {
   "cell_type": "code",
   "execution_count": 222,
   "metadata": {
    "collapsed": false
   },
   "outputs": [
    {
     "data": {
      "text/html": [
       "<div>\n",
       "<table border=\"1\" class=\"dataframe\">\n",
       "  <thead>\n",
       "    <tr style=\"text-align: right;\">\n",
       "      <th></th>\n",
       "      <th>Species with TFBS at Position</th>\n",
       "      <th>Count</th>\n",
       "      <th>Alignment File</th>\n",
       "      <th>Alignment File Name</th>\n",
       "    </tr>\n",
       "  </thead>\n",
       "  <tbody>\n",
       "    <tr>\n",
       "      <th>0</th>\n",
       "      <td>(MEMB007B,)</td>\n",
       "      <td>463</td>\n",
       "      <td>9</td>\n",
       "      <td>VT2660</td>\n",
       "    </tr>\n",
       "    <tr>\n",
       "      <th>1</th>\n",
       "      <td>(MEMB002A, MEMB002C, MEMB003C, MEMB007B)</td>\n",
       "      <td>99</td>\n",
       "      <td>9</td>\n",
       "      <td>VT2660</td>\n",
       "    </tr>\n",
       "    <tr>\n",
       "      <th>2</th>\n",
       "      <td>(MEMB005D,)</td>\n",
       "      <td>80</td>\n",
       "      <td>9</td>\n",
       "      <td>VT2660</td>\n",
       "    </tr>\n",
       "    <tr>\n",
       "      <th>3</th>\n",
       "      <td>(MEMB006A,)</td>\n",
       "      <td>68</td>\n",
       "      <td>9</td>\n",
       "      <td>VT2660</td>\n",
       "    </tr>\n",
       "    <tr>\n",
       "      <th>4</th>\n",
       "      <td>(MEMB002A, MEMB002C, MEMB003C)</td>\n",
       "      <td>60</td>\n",
       "      <td>9</td>\n",
       "      <td>VT2660</td>\n",
       "    </tr>\n",
       "  </tbody>\n",
       "</table>\n",
       "</div>"
      ],
      "text/plain": [
       "              Species with TFBS at Position  Count  Alignment File  \\\n",
       "0                               (MEMB007B,)    463               9   \n",
       "1  (MEMB002A, MEMB002C, MEMB003C, MEMB007B)     99               9   \n",
       "2                               (MEMB005D,)     80               9   \n",
       "3                               (MEMB006A,)     68               9   \n",
       "4            (MEMB002A, MEMB002C, MEMB003C)     60               9   \n",
       "\n",
       "  Alignment File Name  \n",
       "0              VT2660  \n",
       "1              VT2660  \n",
       "2              VT2660  \n",
       "3              VT2660  \n",
       "4              VT2660  "
      ]
     },
     "execution_count": 222,
     "metadata": {},
     "output_type": "execute_result"
    }
   ],
   "source": [
    "#### Get alignment file name and merge with frequent_all_alignments\n",
    "\n",
    "align_file = []\n",
    "for i in files[:200]:\n",
    "     align_file.append(os.path.basename(i))\n",
    "\n",
    "align_file_dict = {}\n",
    "for i in range(200):\n",
    "       align_file_dict[i] = align_file[i]\n",
    "\n",
    "file_key =  pd.DataFrame.from_dict(align_file_dict, orient='index')\n",
    "file_key = file_key.reset_index()\n",
    "file_key.columns = [\"Alignment File\", \"Alignment File Name\"]\n",
    "\n",
    "file_key['Alignment File Name'] = file_key['Alignment File Name'].str.split('_').str[5]\n",
    "file_key['Alignment File Name'] = file_key['Alignment File Name'].str.replace('.fa', '')\n",
    "\n",
    "occurance = frequent_all_alignments.merge(file_key,  how='outer')\n",
    "\n",
    "#occurance.shape # 61955\n",
    "#frequent_all_alignments.shape # 61955\n",
    "\n",
    "occurance.head()"
   ]
  },
  {
   "cell_type": "markdown",
   "metadata": {},
   "source": [
    "#### There is a combination involving 3 species:\n",
    "* 'VT19020|1|MEMB003A|-|4766'\n",
    "* 'VT19020|1|MEMB003D|+|4904'\n",
    "* 'VT19020|1|dkik|-|4763'\n",
    "#### and it reoccurs 94 times in alignment file 37."
   ]
  },
  {
   "cell_type": "code",
   "execution_count": null,
   "metadata": {
    "collapsed": false,
    "scrolled": false
   },
   "outputs": [],
   "source": [
    "ID_dictionary(37, 0)"
   ]
  },
  {
   "cell_type": "markdown",
   "metadata": {},
   "source": [
    "## Wrapping Into One Package"
   ]
  },
  {
   "cell_type": "code",
   "execution_count": null,
   "metadata": {
    "collapsed": true
   },
   "outputs": [],
   "source": [
    "def pipeline(align_path, motif_path, motif, alignment_num, percentile=80):\n",
    "    \"\"\"\n",
    "    align_path: a string specifying the path to alignment files you want to use.\n",
    "    motif_path: a string specifying the path to pwm files you want to use.\n",
    "    motif: integer specifying which motif to use (indexes into list of motifs)\n",
    "    alignment_num: an integer specifying the specific alignment you want to analyze.\n",
    "    percentile: cutoff for high frequency of combination\n",
    "    \n",
    "    Returns:\n",
    "    1) Table with unique alignment position, combinations at positions, and frequencies\n",
    "    2) Table of high-frequency combinations, with high frequency defined as >= ? percentile\n",
    "    3) Table containing information about the most frequency combination\n",
    "    \"\"\"\n",
    "    files = glob(align_path)\n",
    "    all_motifs = glob(motif_path)\n",
    "    \n",
    "    filtered_tables = []\n",
    "    for i in files[:10]: # CHANGE NUMBER\n",
    "        table = calculate_one_dfs_TFBS(i, [all_motifs[motif]])\n",
    "        f = filter_95_percentile(table, \"cad_FlyReg.fm\").drop(['seq_len', 'position'], axis=1)\n",
    "        filtered_tables.append(f)\n",
    "\n",
    "    position_species_tables = []\n",
    "    for f in filtered_tables:\n",
    "        positions_with_TFBS = list(f[\"align_position\"])\n",
    "        combos = {} # Dictionary with position index : list of species that have TFBS at this position\n",
    "        for i in positions_with_TFBS:\n",
    "            combos[i] = list(f[f[\"align_position\"] == i][\"species\"])\n",
    "        d = {'Alignment Positions': list(combos.keys()),\n",
    "             'Species with TFBS at Position': list(combos.values())}\n",
    "        positions_species = pd.DataFrame(data=d)\n",
    "        positions_species[\"Species with TFBS at Position\"] = [tuple(i) for i in positions_species[\"Species with TFBS at Position\"]]\n",
    "        position_species_tables.append(positions_species)\n",
    "\n",
    "    group_by_combo_tables = []\n",
    "    for p in position_species_tables:\n",
    "        group_by_combo = p.groupby(\"Species with TFBS at Position\",sort=False).count().reset_index()\n",
    "        group_by_combo.columns = [\"Species with TFBS at Position\", \"Count\"]\n",
    "        group_by_combo_tables.append(group_by_combo)\n",
    "\n",
    "    counts_at_positions_tables = [] # table to return\n",
    "    num_alignments = len(group_by_combo_tables)\n",
    "    for n in range(num_alignments):\n",
    "        counts_at_positions = position_species_tables[n].merge(group_by_combo_tables[n], how=\"left\",sort=False)\n",
    "        counts_at_positions.set_index(\"Alignment Positions\", inplace=True)\n",
    "        counts_at_positions_tables.append(counts_at_positions)\n",
    "    \n",
    "    counts = list(counts_at_positions_tables[alignment_num][\"Count\"])\n",
    "    g_table = group_by_combo_tables[alignment_num]\n",
    "    freq_patterns = g_table[g_table[\"Count\"] >= np.percentile(counts, percentile)] # return\n",
    "\n",
    "    max_count = max(list(counts_at_positions_tables[alignment_num][\"Count\"]))\n",
    "    table = group_by_combo_tables[alignment_num]\n",
    "    most_freq_pattern = table[table[\"Count\"] == max_count] #return\n",
    "\n",
    "    return counts_at_positions_tables[alignment_num], freq_patterns, most_freq_pattern"
   ]
  },
  {
   "cell_type": "markdown",
   "metadata": {},
   "source": [
    "External functions used in pipeline:\n",
    "* calculate_one_dfs_TFBS\n",
    "* filter_95_percentile\n",
    "\n",
    "Deleted from original map motif:\n",
    "* pwm_threshold\n",
    "* calculate_dfs_TFBS"
   ]
  },
  {
   "cell_type": "code",
   "execution_count": null,
   "metadata": {
    "collapsed": false
   },
   "outputs": [],
   "source": [
    "results = pipeline('../data/alignments/*0.fa','../data/pwm/*.fm',1,2)"
   ]
  },
  {
   "cell_type": "code",
   "execution_count": null,
   "metadata": {
    "collapsed": false
   },
   "outputs": [],
   "source": [
    "results[0].head()"
   ]
  },
  {
   "cell_type": "code",
   "execution_count": null,
   "metadata": {
    "collapsed": false
   },
   "outputs": [],
   "source": [
    "results[1]"
   ]
  },
  {
   "cell_type": "code",
   "execution_count": null,
   "metadata": {
    "collapsed": false
   },
   "outputs": [],
   "source": [
    "results[2]"
   ]
  },
  {
   "cell_type": "code",
   "execution_count": null,
   "metadata": {
    "collapsed": true
   },
   "outputs": [],
   "source": []
  }
 ],
 "metadata": {
  "kernelspec": {
   "display_name": "Python 3",
   "language": "python",
   "name": "python3"
  },
  "language_info": {
   "codemirror_mode": {
    "name": "ipython",
    "version": 3
   },
   "file_extension": ".py",
   "mimetype": "text/x-python",
   "name": "python",
   "nbconvert_exporter": "python",
   "pygments_lexer": "ipython3",
   "version": "3.6.2"
  }
 },
 "nbformat": 4,
 "nbformat_minor": 2
}
