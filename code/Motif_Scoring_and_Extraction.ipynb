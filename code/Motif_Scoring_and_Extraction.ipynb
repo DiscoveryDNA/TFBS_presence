{
 "cells": [
  {
   "cell_type": "markdown",
   "metadata": {},
   "source": [
    "## Motif Mapping\n",
    "\n",
    "Using Ciera Martinez's map_motif.py in a generalized jupyter notebook function.\n",
    "\n",
    "Author: Jemima Shi"
   ]
  },
  {
   "cell_type": "code",
   "execution_count": 210,
   "metadata": {
    "collapsed": false
   },
   "outputs": [],
   "source": [
    "import numpy as np\n",
    "import pandas as pd\n",
    "import re\n",
    "import Bio\n",
    "\n",
    "# For computations\n",
    "import string\n",
    "import random\n",
    "import matplotlib.pyplot as plt; plt.rcdefaults()\n",
    "import matplotlib.pyplot as plt\n",
    "\n",
    "from Bio import SeqIO\n",
    "from Bio import pairwise2\n",
    "from IPython.display import Image\n",
    "from Bio.pairwise2 import format_alignment\n",
    "from glob import glob\n",
    "import seaborn as sns\n",
    "import matplotlib.pyplot as plt\n",
    "from IPython.display import display\n",
    "%matplotlib inline\n",
    "plt.style.use('fivethirtyeight')\n",
    "\n",
    "import os, sys\n",
    "from Bio import motifs\n",
    "from Bio.Seq import Seq\n",
    "from Bio.SeqRecord import SeqRecord\n",
    "from Bio.Alphabet import IUPAC, generic_dna, generic_protein"
   ]
  },
  {
   "cell_type": "markdown",
   "metadata": {},
   "source": [
    "## Data Processing\n",
    "\n",
    "Reads in the alligned raw DNA sequences and motifs to be pipelined:\n",
    "\n",
    "1. Saves a copy of the sequence without the '$-$' included.\n",
    "\n",
    "2. Casts the undashed version as IUPACUnambiguousDNA().\n",
    "\n",
    "3. Calculates the thresholds to be used in assigning scores for likihood of the motif appearing.\n",
    "\n",
    "4. Takes the indicies that have been scored and maps them to the corresponding raw sequence index, taking into consideration if the strand was positive or negative.\n",
    "\n",
    "5. Returns a df with $\\scriptsize{[\\textbf{position}, \\textbf{score, sequence length}, \\textbf{species}, \\textbf{raw_position index}, \\textbf{strand positioning}, \\textbf{aligned position}]}$.\n",
    "\n",
    "$\\textbf{*calculate_all_TFBS(files, all_motifs) will start the pipeline}$"
   ]
  },
  {
   "cell_type": "markdown",
   "metadata": {},
   "source": [
    "The following reads in the files from the local directory and filters them according to the file types.\n",
    "\n",
    "Both sequences and motifs are saved as lists. [files has 3540 fasta files & all_motifs has 91 motif files]"
   ]
  },
  {
   "cell_type": "code",
   "execution_count": 211,
   "metadata": {
    "collapsed": false
   },
   "outputs": [],
   "source": [
    "#Reads through and saves the names of all same files(.fa and .fm respectively) found in the same directory.\n",
    "\n",
    "files = glob('../data/alignments/*0.fa')\n",
    "all_motifs = glob('../data/pwm/*.fm')"
   ]
  },
  {
   "cell_type": "code",
   "execution_count": 212,
   "metadata": {
    "collapsed": true
   },
   "outputs": [],
   "source": [
    "\n",
    "def read_records(file):\n",
    "    \"\"\"\n",
    "    file: a single .fa file within the directory.\n",
    "    \n",
    "    Returns the records from a .fa file as a list .\n",
    "    \"\"\"\n",
    "    return list(SeqIO.parse(file, \"fasta\"))"
   ]
  },
  {
   "cell_type": "code",
   "execution_count": 213,
   "metadata": {
    "collapsed": true
   },
   "outputs": [],
   "source": [
    "\n",
    "def read_motif(motif):\n",
    "    \"\"\"\n",
    "    motif: a single .fm file within the directory.\n",
    "    \n",
    "    Returns a motif.jaspar.Motif (the motif matrix) from the .fm file.\n",
    "    \"\"\"\n",
    "    return motifs.read(open(motif), \"pfm\")"
   ]
  },
  {
   "cell_type": "code",
   "execution_count": 214,
   "metadata": {
    "collapsed": false
   },
   "outputs": [],
   "source": [
    "first_file = read_records(files[0])\n",
    "first_motif = read_motif(all_motifs[2])"
   ]
  },
  {
   "cell_type": "markdown",
   "metadata": {},
   "source": [
    "The following functions clean the read in alligned sequences, taking out the '-' in them and then casting them as needed. We then feed this cleaned format to create a pssm (PositionSpecificScoringMatrix) with a patser_threshold applied on it to output a score with a corresponding index. Depending on the sign of the position we labeled the DNA strand as positive or negative and then saved all the calculated values as columns in a pandas df."
   ]
  },
  {
   "cell_type": "code",
   "execution_count": 215,
   "metadata": {
    "collapsed": true
   },
   "outputs": [],
   "source": [
    "\n",
    "def raw_sequence_ungap(records):\n",
    "    \"\"\"\n",
    "    records: a list of species within a single .fa file.\n",
    "    \n",
    "    Returns a list of Sequences with an ungapped('-') sequence.\n",
    "    \"\"\"\n",
    "    raw_sequences = []\n",
    "    for record in records:\n",
    "        raw_sequences.append(SeqRecord(record.seq.ungap(\"-\"), id = record.id))\n",
    "    return raw_sequences"
   ]
  },
  {
   "cell_type": "code",
   "execution_count": 216,
   "metadata": {
    "collapsed": true
   },
   "outputs": [],
   "source": [
    "\n",
    "def cast_sequence(ungapped_sequence):\n",
    "    \"\"\"\n",
    "    ungapped_sequence: a list with the sequence and id for all the species in a file.\n",
    "    \n",
    "    Returns a list sequences with the type cast as c.\n",
    "    \"\"\"\n",
    "    casted = []\n",
    "    for record in ungapped_sequence:\n",
    "        casted.append(Seq(str(record.seq), IUPAC.IUPACUnambiguousDNA()))\n",
    "    return casted"
   ]
  },
  {
   "cell_type": "code",
   "execution_count": 217,
   "metadata": {
    "collapsed": true,
    "scrolled": true
   },
   "outputs": [],
   "source": [
    "first_raw_ungapped = raw_sequence_ungap(first_file)"
   ]
  },
  {
   "cell_type": "code",
   "execution_count": 218,
   "metadata": {
    "collapsed": true,
    "scrolled": true
   },
   "outputs": [],
   "source": [
    "first_cast = cast_sequence(first_raw_ungapped)"
   ]
  },
  {
   "cell_type": "code",
   "execution_count": 219,
   "metadata": {
    "collapsed": false,
    "scrolled": true
   },
   "outputs": [
    {
     "data": {
      "text/plain": [
       "SeqRecord(seq=Seq('AACTTTTTGGCACACCTTTGGAAAACATTTTTCGTACAGAAAAGTTACAAATTC...ACA', SingleLetterAlphabet()), id='VT0850|1|MEMB007D|+|2300', name='<unknown name>', description='<unknown description>', dbxrefs=[])"
      ]
     },
     "execution_count": 219,
     "metadata": {},
     "output_type": "execute_result"
    }
   ],
   "source": [
    "first_raw_ungapped[0]"
   ]
  },
  {
   "cell_type": "code",
   "execution_count": 220,
   "metadata": {
    "collapsed": false
   },
   "outputs": [
    {
     "data": {
      "text/plain": [
       "Seq('AACTTTTTGGCACACCTTTGGAAAACATTTTTCGTACAGAAAAGTTACAAATTC...ACA', IUPACUnambiguousDNA())"
      ]
     },
     "execution_count": 220,
     "metadata": {},
     "output_type": "execute_result"
    }
   ],
   "source": [
    "first_cast[0]"
   ]
  },
  {
   "cell_type": "code",
   "execution_count": 221,
   "metadata": {
    "collapsed": true
   },
   "outputs": [],
   "source": [
    "\n",
    "def calculate_pssm(chosen_motif, pseudocounts=0.0):\n",
    "    \"\"\"\n",
    "    chosen_motif: Chosen motif sequence to be used in creating the pwm\n",
    "    pseudocounts: Default set to 0.0, otherwise added to the counts before calculating position-weight matrix.\n",
    "    \n",
    "    Returns the pssm (PositionSpecificScoringMatrix)\n",
    "    \"\"\"\n",
    "    pwm = chosen_motif.counts.normalize(pseudocounts)\n",
    "    return pwm.log_odds()"
   ]
  },
  {
   "cell_type": "code",
   "execution_count": 222,
   "metadata": {
    "collapsed": true
   },
   "outputs": [],
   "source": [
    "\n",
    "def pwm_threshold(cast_sequences, chosen_motif):\n",
    "    \"\"\"\n",
    "    cast_sequences: A list of sequences that have been ungapped and casted.\n",
    "    chosen_motif: Chosen motif sequence to be used in creating the pwm\n",
    "    \n",
    "    Returns a list of pssm values\n",
    "    \"\"\"\n",
    "    pssm = calculate_pssm(chosen_motif)\n",
    "    pssm_list = [ ]\n",
    "    for seq in cast_sequences:\n",
    "        pssm_list.append(pssm.calculate(seq))\n",
    "    return pssm_list"
   ]
  },
  {
   "cell_type": "code",
   "execution_count": 223,
   "metadata": {
    "collapsed": true
   },
   "outputs": [],
   "source": [
    "\n",
    "def extract_len_id(raw_seq, raw_seq2):\n",
    "    \"\"\"\n",
    "    raw_seq: A list of raw sequences that hasn't yet been cast.\n",
    "    raw_seq2: A list of cast & ungapped sequences.\n",
    "    \n",
    "    Returns a list of dictionary pairs for the species and seq_len of each sequence.\n",
    "    \"\"\"\n",
    "    raw_id = []\n",
    "    record_length = []\n",
    "    for seq in raw_seq:\n",
    "        try:\n",
    "            raw_id.append(seq.id)\n",
    "        except AttributeError:\n",
    "            raw_id.append('n/a')\n",
    "            \n",
    "    for record in raw_seq2:\n",
    "            record_length.append(len(record))\n",
    "    return [{'species': x, 'seq_len': y} for x, y in zip(raw_id, record_length)]"
   ]
  },
  {
   "cell_type": "markdown",
   "metadata": {},
   "source": [
    "Below are functions used to find the corresponding positions in the sequence and then mark them as negative or positive strands based on if the value was below or above 0 respectively. "
   ]
  },
  {
   "cell_type": "code",
   "execution_count": 224,
   "metadata": {
    "collapsed": true
   },
   "outputs": [],
   "source": [
    "\n",
    "def positions(raw_sequence, cast_sequences, motif, chosen_precision=10**4):\n",
    "    \"\"\"\n",
    "    raw_sequence: A list of the sequences that have been ungapped but not casted.\n",
    "    cast_sequences: A list of sequences that have been ungapped and casted.\n",
    "    motif: the chosen motif file read in using read_motif\n",
    "    precision: default precision set to 10**4 to be used in the pssm distribution.\n",
    "    \n",
    "    Returns a list of positions\n",
    "    \"\"\"\n",
    "    pssm = calculate_pssm(motif)\n",
    "    distribution = pssm.distribution(background=motif.background, precision= chosen_precision)\n",
    "    patser_threshold = distribution.threshold_patser()\n",
    "    \n",
    "    position_list = []\n",
    "    len_and_ids = extract_len_id(raw_sequence, cast_sequences)\n",
    "    for i in range(len(len_and_ids)):\n",
    "        for position, score in pssm.search(cast_sequences[i], threshold= patser_threshold):\n",
    "            positions = {'species': len_and_ids[i].get('species'), 'score':score, \n",
    "                         'position':position, 'seq_len': len_and_ids[i].get('seq_len') }\n",
    "            position_list.append(positions)\n",
    "    return position_list"
   ]
  },
  {
   "cell_type": "code",
   "execution_count": 225,
   "metadata": {
    "collapsed": true
   },
   "outputs": [],
   "source": [
    "\n",
    "def positive_positions(df):\n",
    "    \"\"\"\n",
    "    df: The df with position, score, seq_len, and species.\n",
    "    \n",
    "    Returns a df where the position arguments are translated into positive ints.\n",
    "    \"\"\"\n",
    "    temp_pos = df[df[\"position\"] >= 0].copy()\n",
    "    temp_neg = df[df[\"position\"] < 0].copy()\n",
    "    temp_pos[\"raw_position\"] = temp_pos[\"position\"]\n",
    "    temp_neg[\"raw_position\"] = temp_neg[\"seq_len\"] + temp_neg[\"position\"]  \n",
    "    temp_together = temp_pos.append(temp_neg).reset_index().sort_values(\"index\")\n",
    "\n",
    "    return temp_together.set_index(\"index\")"
   ]
  },
  {
   "cell_type": "code",
   "execution_count": 226,
   "metadata": {
    "collapsed": true
   },
   "outputs": [],
   "source": [
    "\n",
    "def define_sign(df):\n",
    "    \"\"\"\n",
    "    df: The df with position, score, seq_len, species, and raw_position.\n",
    "    \n",
    "    Returns the df with a strand sign column appended on.\n",
    "    \"\"\"\n",
    "    df[\"strand\"] = np.where(df['position'] >= 0, 'positive', 'negative')\n",
    "    return df"
   ]
  },
  {
   "cell_type": "code",
   "execution_count": 227,
   "metadata": {
    "collapsed": true
   },
   "outputs": [],
   "source": [
    "\n",
    "def merge_align_df(raw_df, aligned_seq, raw_id_len):\n",
    "    \"\"\"\n",
    "    raw_df: A pandas df that contains the positions, score, seq_len, species, and strand orientation.\n",
    "    aligned_seq: Original inputted sequence with the '-' still included.\n",
    "    raw_id_len: The length of the o\n",
    "    \n",
    "    Returns a df with alignned index appended to raw_df sorted by ['species', 'raw_position'] \n",
    "    with N/A values dropped.\n",
    "    \n",
    "    \"\"\"\n",
    "    remap_list = []\n",
    "    nuc_list = ['A', 'a', 'G', 'g', 'C', 'c', 'T', 't', 'N', 'n']\n",
    "\n",
    "    for i in range(raw_id_len):\n",
    "        counter = 0\n",
    "        for xInd, x in enumerate(aligned_seq[i].seq):    \n",
    "            if x in nuc_list:\n",
    "                remaps = {'raw_position': counter, 'align_position':xInd, 'species':aligned_seq[i].id}\n",
    "                counter += 1\n",
    "                remap_list.append(remaps)\n",
    "            \n",
    "    remap_DF = pd.DataFrame(remap_list)\n",
    "    TFBS_map_DF_all = pd.merge(raw_df, remap_DF, on=['species', 'raw_position'], how='outer')\n",
    "    TFBS_map_DF_all = TFBS_map_DF_all.sort_values(by=['species','align_position'], ascending=[True, True])\n",
    "\n",
    "    return TFBS_map_DF_all.dropna()   "
   ]
  },
  {
   "cell_type": "code",
   "execution_count": 228,
   "metadata": {
    "collapsed": true
   },
   "outputs": [],
   "source": [
    "\n",
    "def save_df(TFBS_df, align_file, motif_file):\n",
    "    \"\"\"\n",
    "    TFBS_df: A pandas df with the raw/aligned position, score, and file names.\n",
    "    align_file: Name of read in alignment file.\n",
    "    motif_file: Name of read in motif file.\n",
    "    \n",
    "    Returns a csv copy of the df stored in the current directory\n",
    "    \"\"\"\n",
    "    return TFBS_df.to_csv(motif_file + \".csv\", sep='\\t', na_rep=\"NA\")"
   ]
  },
  {
   "cell_type": "markdown",
   "metadata": {},
   "source": [
    "A generalized function that can be run on the files and motif lists to generate all possible permuations. This will return a df like this one for:\n",
    "\n",
    "$\\scriptsize\\textbf{Fasta}$: 'align_outlier_rm_with_length_VT0809.fa'\n",
    "\n",
    "$\\scriptsize\\textbf{Motif}$: 'bcd_cell2008.fm'\n",
    "\n",
    "\n",
    "<img src=\"attachment:Screen%20Shot%202018-04-26%20at%2012.06.24%20AM.png\" width=\"60%\">"
   ]
  },
  {
   "cell_type": "code",
   "execution_count": 229,
   "metadata": {
    "collapsed": true
   },
   "outputs": [],
   "source": [
    "\n",
    "def calculate_dfs_TFBS(files, all_motifs):\n",
    "    \"\"\"\n",
    "    files: A list of all the .fa files in the current directory.\n",
    "    all_motifs: A list of all the .fm files in the current directory.\n",
    "    \n",
    "    Returns a df with the positions, score, and orientation saved into the current directory for all files.\n",
    "    \"\"\"\n",
    "    for file in files:\n",
    "        for motif in all_motifs:\n",
    "            curr_file = read_records(file)\n",
    "            curr_motif = read_motif(motif)\n",
    "            curr_raw = raw_sequence_ungap(curr_file)\n",
    "            curr_cast = cast_sequence(curr_raw)\n",
    "            \n",
    "            len_raw = len(extract_len_id(curr_raw, curr_cast))\n",
    "            raw_df = pd.DataFrame(positions(curr_raw, curr_cast, curr_motif))\n",
    "            temp_df = positive_positions(raw_df)\n",
    "            temp_df = define_sign(temp_df)\n",
    "            \n",
    "            align_name = re.split(r'_', files[0])[-1]\n",
    "            final_df = merge_align_df(temp_df, curr_file, len_raw)\n",
    "            \n",
    "            save_df(final_df, align_name, motif)\n",
    "            return final_df"
   ]
  },
  {
   "cell_type": "markdown",
   "metadata": {},
   "source": [
    "# Creating a Standard Score Distribution\n",
    "The following 4 cells generate a random sequence, finds the 95 percentile cutoff point in the scores of the random sequence (differs depending on which motif you use), and uses this as the standard cutoff point for your own observed scores."
   ]
  },
  {
   "cell_type": "code",
   "execution_count": 230,
   "metadata": {
    "collapsed": false
   },
   "outputs": [],
   "source": [
    "\n",
    "# Randomly generates a sequence\n",
    "def generate_one_seq():\n",
    "    header = \"VT0000|1|MEMB001A|-|\"+str(np.random.randint(1000,9000))\n",
    "    random_list = [random.choice(\"ACGT-\") for i in range(5000)]\n",
    "    sequence = \"\".join(random_list) # 1 long string\n",
    "    return header + \"\\n\" + sequence"
   ]
  },
  {
   "cell_type": "code",
   "execution_count": 231,
   "metadata": {
    "collapsed": true
   },
   "outputs": [],
   "source": [
    "# Creates a fasta file with randomly generated sequences\n",
    "ofile = open(\"../data/alignments/random_fasta.txt\", \"w\")\n",
    "\n",
    "for i in range(24):\n",
    "    ofile.write(\">\" + generate_one_seq() + \"\\n\")\n",
    "\n",
    "ofile.close()\n",
    "\n",
    "standard_file = glob('../data/alignments/*random_fasta.txt')[0]"
   ]
  },
  {
   "cell_type": "code",
   "execution_count": 232,
   "metadata": {
    "collapsed": true
   },
   "outputs": [],
   "source": [
    "def stand_cutoff(file, motifs, motif_to_use):\n",
    "    \"\"\"\n",
    "    files: one fasta file (string)\n",
    "    motifs: a list of motifs\n",
    "    motif_to_use: a number to index into (chose 1 motif you want to use)\n",
    "    Returns the 95th percentile of the scores, and the mean of the scores \n",
    "    \"\"\"\n",
    "    motif = motifs[motif_to_use]\n",
    "    curr_file = read_records(file)\n",
    "    curr_motif = read_motif(motif)\n",
    "    curr_raw = raw_sequence_ungap(curr_file)\n",
    "    curr_cast = cast_sequence(curr_raw)\n",
    "\n",
    "    len_raw = len(extract_len_id(curr_raw, curr_cast))\n",
    "    raw_df = pd.DataFrame(positions(curr_raw, curr_cast, curr_motif))\n",
    "    temp_df = positive_positions(raw_df)\n",
    "    percentile_95 = np.percentile(temp_df[\"score\"], 95)\n",
    "    standard_mean = temp_df[\"score\"].mean()\n",
    "    return (percentile_95, standard_mean)"
   ]
  },
  {
   "cell_type": "markdown",
   "metadata": {},
   "source": [
    "#### The following cell prints out:\n",
    "1. the standard 95 percentile \"cutoff\" point for the 2nd motif ('../data/pwm/cad_FlyReg.fm')\n",
    "2. The 50th percentile (mean)"
   ]
  },
  {
   "cell_type": "code",
   "execution_count": 233,
   "metadata": {
    "collapsed": false
   },
   "outputs": [
    {
     "name": "stdout",
     "output_type": "stream",
     "text": [
      "(2.5869240760803223, 1.0431760862704709)\n"
     ]
    }
   ],
   "source": [
    "print(stand_cutoff(standard_file, all_motifs, 2))"
   ]
  },
  {
   "cell_type": "markdown",
   "metadata": {},
   "source": [
    "## Data Extraction\n",
    "\n",
    "Taking the dfs that come from the \"calculate_all_TFBS\" function we filter out those with a score above the 95th percentile. With the filtered out values we match the species with their respective DNA sequences and then locate and save the given motif within the DNA sequence. Whether the strand is positive or negative is treated individually and the -'s are included in the sequence indexing. This newly extracted information is saved as columns and appended to the df.\n",
    "\n",
    "<img src=\"attachment:Screen%20Shot%202018-04-26%20at%2012.23.58%20AM.png\" width=\"60%\">!"
   ]
  },
  {
   "cell_type": "markdown",
   "metadata": {},
   "source": [
    "The following 3 cells provide a convenient way to access the standard \"cutoff\" point when using the 4 motifs printed below. cutoff_dict is used in the filter_95_percentile function."
   ]
  },
  {
   "cell_type": "code",
   "execution_count": 234,
   "metadata": {
    "collapsed": false,
    "scrolled": true
   },
   "outputs": [
    {
     "data": {
      "text/plain": [
       "['../data/pwm/bcd_FlyReg.fm',\n",
       " '../data/pwm/cad_FlyReg.fm',\n",
       " '../data/pwm/eve_new6.fm',\n",
       " '../data/pwm/zelda_.fm']"
      ]
     },
     "execution_count": 234,
     "metadata": {},
     "output_type": "execute_result"
    }
   ],
   "source": [
    "all_motifs"
   ]
  },
  {
   "cell_type": "code",
   "execution_count": 235,
   "metadata": {
    "collapsed": false
   },
   "outputs": [],
   "source": [
    "cutoff_dict = {}\n",
    "cutoff_dict[\"Motif 1\"] = stand_cutoff(standard_file, all_motifs, 0)[0]\n",
    "cutoff_dict[\"Motif 2\"] = stand_cutoff(standard_file, all_motifs, 1)[0]\n",
    "cutoff_dict[\"Motif 3\"] = stand_cutoff(standard_file, all_motifs, 2)[0]\n",
    "cutoff_dict[\"Motif 4\"] = stand_cutoff(standard_file, all_motifs, 3)[0]"
   ]
  },
  {
   "cell_type": "code",
   "execution_count": 236,
   "metadata": {
    "collapsed": false
   },
   "outputs": [
    {
     "data": {
      "text/plain": [
       "{'Motif 1': 3.3171534538269043,\n",
       " 'Motif 2': 2.6483244895935059,\n",
       " 'Motif 3': 2.5869240760803223,\n",
       " 'Motif 4': 6.6781315803527832}"
      ]
     },
     "execution_count": 236,
     "metadata": {},
     "output_type": "execute_result"
    }
   ],
   "source": [
    "cutoff_dict"
   ]
  },
  {
   "cell_type": "code",
   "execution_count": 237,
   "metadata": {
    "collapsed": true
   },
   "outputs": [],
   "source": [
    "def filter_95_percentile(TFBS_df, motif_used):\n",
    "    \"\"\"\n",
    "    motif_used: a string that specifies the motif you used (e.g. \"Motif 2\")\n",
    "    TFBS_df: A pandas df with the raw/aligned position, score, and file names.\n",
    "    \n",
    "    returns the TFBS_df with only values above the 95th percentile.\n",
    "    \"\"\"\n",
    "    minimum = cutoff_dict[motif_used]\n",
    "    filtered_df = TFBS_df[TFBS_df[\"score\"] >= minimum]\n",
    "    print(\"Filtered to scores above\", minimum, \"based on\", motif_used)\n",
    "    return filtered_df"
   ]
  },
  {
   "cell_type": "markdown",
   "metadata": {},
   "source": [
    "#### From here on, we're going to apply these functions to the files we imported in, using Motif 2."
   ]
  },
  {
   "cell_type": "code",
   "execution_count": 238,
   "metadata": {
    "collapsed": true
   },
   "outputs": [],
   "source": [
    "# *** Debugged version of calculate_dfs_TFB\n",
    "\n",
    "def calculate_one_dfs_TFBS(file, all_motifs):\n",
    "    \"\"\"\n",
    "    file: A single .fa file from the current directory.\n",
    "    all_motifs: A list of all the .fm files in the current directory.\n",
    "    \n",
    "    Returns a df with the positions, score, and orientation saved into the current directory for all files.\n",
    "    \"\"\"\n",
    "\n",
    "    for motif in all_motifs:\n",
    "        curr_file = read_records(file)\n",
    "        curr_motif = read_motif(motif)\n",
    "        curr_raw = raw_sequence_ungap(curr_file)\n",
    "        curr_cast = cast_sequence(curr_raw)\n",
    "\n",
    "        len_raw = len(extract_len_id(curr_raw, curr_cast))\n",
    "        raw_df = pd.DataFrame(positions(curr_raw, curr_cast, curr_motif))\n",
    "        temp_df = positive_positions(raw_df)\n",
    "        temp_df = define_sign(temp_df)\n",
    "\n",
    "        align_name = re.split(r'_', files[0])[-1]\n",
    "        final_df = merge_align_df(temp_df, curr_file, len_raw)\n",
    "\n",
    "    return final_df"
   ]
  },
  {
   "cell_type": "code",
   "execution_count": 239,
   "metadata": {
    "collapsed": false,
    "scrolled": false
   },
   "outputs": [
    {
     "data": {
      "text/html": [
       "<div>\n",
       "<table border=\"1\" class=\"dataframe\">\n",
       "  <thead>\n",
       "    <tr style=\"text-align: right;\">\n",
       "      <th></th>\n",
       "      <th>position</th>\n",
       "      <th>score</th>\n",
       "      <th>seq_len</th>\n",
       "      <th>species</th>\n",
       "      <th>raw_position</th>\n",
       "      <th>strand</th>\n",
       "      <th>align_position</th>\n",
       "    </tr>\n",
       "  </thead>\n",
       "  <tbody>\n",
       "    <tr>\n",
       "      <th>465</th>\n",
       "      <td>23.0</td>\n",
       "      <td>2.304673</td>\n",
       "      <td>2035.0</td>\n",
       "      <td>VT0850|1|MEMB002A|-|2035</td>\n",
       "      <td>23.0</td>\n",
       "      <td>positive</td>\n",
       "      <td>25</td>\n",
       "    </tr>\n",
       "    <tr>\n",
       "      <th>466</th>\n",
       "      <td>-1918.0</td>\n",
       "      <td>2.304673</td>\n",
       "      <td>2035.0</td>\n",
       "      <td>VT0850|1|MEMB002A|-|2035</td>\n",
       "      <td>117.0</td>\n",
       "      <td>negative</td>\n",
       "      <td>139</td>\n",
       "    </tr>\n",
       "    <tr>\n",
       "      <th>467</th>\n",
       "      <td>125.0</td>\n",
       "      <td>2.304673</td>\n",
       "      <td>2035.0</td>\n",
       "      <td>VT0850|1|MEMB002A|-|2035</td>\n",
       "      <td>125.0</td>\n",
       "      <td>positive</td>\n",
       "      <td>154</td>\n",
       "    </tr>\n",
       "    <tr>\n",
       "      <th>468</th>\n",
       "      <td>-1879.0</td>\n",
       "      <td>2.304673</td>\n",
       "      <td>2035.0</td>\n",
       "      <td>VT0850|1|MEMB002A|-|2035</td>\n",
       "      <td>156.0</td>\n",
       "      <td>negative</td>\n",
       "      <td>191</td>\n",
       "    </tr>\n",
       "    <tr>\n",
       "      <th>469</th>\n",
       "      <td>-1856.0</td>\n",
       "      <td>2.304673</td>\n",
       "      <td>2035.0</td>\n",
       "      <td>VT0850|1|MEMB002A|-|2035</td>\n",
       "      <td>179.0</td>\n",
       "      <td>negative</td>\n",
       "      <td>230</td>\n",
       "    </tr>\n",
       "  </tbody>\n",
       "</table>\n",
       "</div>"
      ],
      "text/plain": [
       "     position     score  seq_len                   species  raw_position  \\\n",
       "465      23.0  2.304673   2035.0  VT0850|1|MEMB002A|-|2035          23.0   \n",
       "466   -1918.0  2.304673   2035.0  VT0850|1|MEMB002A|-|2035         117.0   \n",
       "467     125.0  2.304673   2035.0  VT0850|1|MEMB002A|-|2035         125.0   \n",
       "468   -1879.0  2.304673   2035.0  VT0850|1|MEMB002A|-|2035         156.0   \n",
       "469   -1856.0  2.304673   2035.0  VT0850|1|MEMB002A|-|2035         179.0   \n",
       "\n",
       "       strand  align_position  \n",
       "465  positive              25  \n",
       "466  negative             139  \n",
       "467  positive             154  \n",
       "468  negative             191  \n",
       "469  negative             230  "
      ]
     },
     "execution_count": 239,
     "metadata": {},
     "output_type": "execute_result"
    }
   ],
   "source": [
    "# EXAMPLE\n",
    "TBFS_df = calculate_one_dfs_TFBS(files[0], all_motifs)\n",
    "TBFS_df.head()"
   ]
  },
  {
   "cell_type": "code",
   "execution_count": 240,
   "metadata": {
    "collapsed": false
   },
   "outputs": [],
   "source": [
    "# LOOP THROUGH & APPLY TO ALL THE ALIGNMENTS\n",
    "tables = []\n",
    "for i in files[:50]:\n",
    "    tables.append(calculate_one_dfs_TFBS(i, [all_motifs[1]]))"
   ]
  },
  {
   "cell_type": "code",
   "execution_count": 241,
   "metadata": {
    "collapsed": false,
    "scrolled": false
   },
   "outputs": [
    {
     "name": "stdout",
     "output_type": "stream",
     "text": [
      "Filtered to scores above 2.64832448959 based on Motif 2\n"
     ]
    },
    {
     "data": {
      "text/html": [
       "<div>\n",
       "<table border=\"1\" class=\"dataframe\">\n",
       "  <thead>\n",
       "    <tr style=\"text-align: right;\">\n",
       "      <th></th>\n",
       "      <th>score</th>\n",
       "      <th>species</th>\n",
       "      <th>raw_position</th>\n",
       "      <th>strand</th>\n",
       "      <th>align_position</th>\n",
       "    </tr>\n",
       "  </thead>\n",
       "  <tbody>\n",
       "    <tr>\n",
       "      <th>472</th>\n",
       "      <td>6.678132</td>\n",
       "      <td>VT0850|1|MEMB002A|-|2035</td>\n",
       "      <td>255.0</td>\n",
       "      <td>positive</td>\n",
       "      <td>325</td>\n",
       "    </tr>\n",
       "    <tr>\n",
       "      <th>475</th>\n",
       "      <td>6.678132</td>\n",
       "      <td>VT0850|1|MEMB002A|-|2035</td>\n",
       "      <td>328.0</td>\n",
       "      <td>positive</td>\n",
       "      <td>441</td>\n",
       "    </tr>\n",
       "    <tr>\n",
       "      <th>476</th>\n",
       "      <td>6.678132</td>\n",
       "      <td>VT0850|1|MEMB002A|-|2035</td>\n",
       "      <td>332.0</td>\n",
       "      <td>negative</td>\n",
       "      <td>445</td>\n",
       "    </tr>\n",
       "    <tr>\n",
       "      <th>477</th>\n",
       "      <td>6.678132</td>\n",
       "      <td>VT0850|1|MEMB002A|-|2035</td>\n",
       "      <td>336.0</td>\n",
       "      <td>negative</td>\n",
       "      <td>482</td>\n",
       "    </tr>\n",
       "    <tr>\n",
       "      <th>480</th>\n",
       "      <td>6.678132</td>\n",
       "      <td>VT0850|1|MEMB002A|-|2035</td>\n",
       "      <td>399.0</td>\n",
       "      <td>positive</td>\n",
       "      <td>584</td>\n",
       "    </tr>\n",
       "  </tbody>\n",
       "</table>\n",
       "</div>"
      ],
      "text/plain": [
       "        score                   species  raw_position    strand  \\\n",
       "472  6.678132  VT0850|1|MEMB002A|-|2035         255.0  positive   \n",
       "475  6.678132  VT0850|1|MEMB002A|-|2035         328.0  positive   \n",
       "476  6.678132  VT0850|1|MEMB002A|-|2035         332.0  negative   \n",
       "477  6.678132  VT0850|1|MEMB002A|-|2035         336.0  negative   \n",
       "480  6.678132  VT0850|1|MEMB002A|-|2035         399.0  positive   \n",
       "\n",
       "     align_position  \n",
       "472             325  \n",
       "475             441  \n",
       "476             445  \n",
       "477             482  \n",
       "480             584  "
      ]
     },
     "execution_count": 241,
     "metadata": {},
     "output_type": "execute_result"
    }
   ],
   "source": [
    "# EXAMPLE\n",
    "# Only show the rows with scores above the 95% threshold.\n",
    "# Also removes a few unnecessary columns\n",
    "filtered = filter_95_percentile(TBFS_df, \"Motif 2\")\n",
    "filtered = filtered.drop(['seq_len', 'position'], axis=1)\n",
    "filtered.head()"
   ]
  },
  {
   "cell_type": "code",
   "execution_count": 242,
   "metadata": {
    "collapsed": false
   },
   "outputs": [
    {
     "name": "stdout",
     "output_type": "stream",
     "text": [
      "Filtered to scores above 2.64832448959 based on Motif 2\n",
      "Filtered to scores above 2.64832448959 based on Motif 2\n",
      "Filtered to scores above 2.64832448959 based on Motif 2\n",
      "Filtered to scores above 2.64832448959 based on Motif 2\n",
      "Filtered to scores above 2.64832448959 based on Motif 2\n",
      "Filtered to scores above 2.64832448959 based on Motif 2\n",
      "Filtered to scores above 2.64832448959 based on Motif 2\n",
      "Filtered to scores above 2.64832448959 based on Motif 2\n",
      "Filtered to scores above 2.64832448959 based on Motif 2\n",
      "Filtered to scores above 2.64832448959 based on Motif 2\n",
      "Filtered to scores above 2.64832448959 based on Motif 2\n",
      "Filtered to scores above 2.64832448959 based on Motif 2\n",
      "Filtered to scores above 2.64832448959 based on Motif 2\n",
      "Filtered to scores above 2.64832448959 based on Motif 2\n",
      "Filtered to scores above 2.64832448959 based on Motif 2\n",
      "Filtered to scores above 2.64832448959 based on Motif 2\n",
      "Filtered to scores above 2.64832448959 based on Motif 2\n",
      "Filtered to scores above 2.64832448959 based on Motif 2\n",
      "Filtered to scores above 2.64832448959 based on Motif 2\n",
      "Filtered to scores above 2.64832448959 based on Motif 2\n",
      "Filtered to scores above 2.64832448959 based on Motif 2\n",
      "Filtered to scores above 2.64832448959 based on Motif 2\n",
      "Filtered to scores above 2.64832448959 based on Motif 2\n",
      "Filtered to scores above 2.64832448959 based on Motif 2\n",
      "Filtered to scores above 2.64832448959 based on Motif 2\n",
      "Filtered to scores above 2.64832448959 based on Motif 2\n",
      "Filtered to scores above 2.64832448959 based on Motif 2\n",
      "Filtered to scores above 2.64832448959 based on Motif 2\n",
      "Filtered to scores above 2.64832448959 based on Motif 2\n",
      "Filtered to scores above 2.64832448959 based on Motif 2\n",
      "Filtered to scores above 2.64832448959 based on Motif 2\n",
      "Filtered to scores above 2.64832448959 based on Motif 2\n",
      "Filtered to scores above 2.64832448959 based on Motif 2\n",
      "Filtered to scores above 2.64832448959 based on Motif 2\n",
      "Filtered to scores above 2.64832448959 based on Motif 2\n",
      "Filtered to scores above 2.64832448959 based on Motif 2\n",
      "Filtered to scores above 2.64832448959 based on Motif 2\n",
      "Filtered to scores above 2.64832448959 based on Motif 2\n",
      "Filtered to scores above 2.64832448959 based on Motif 2\n",
      "Filtered to scores above 2.64832448959 based on Motif 2\n",
      "Filtered to scores above 2.64832448959 based on Motif 2\n",
      "Filtered to scores above 2.64832448959 based on Motif 2\n",
      "Filtered to scores above 2.64832448959 based on Motif 2\n",
      "Filtered to scores above 2.64832448959 based on Motif 2\n",
      "Filtered to scores above 2.64832448959 based on Motif 2\n",
      "Filtered to scores above 2.64832448959 based on Motif 2\n",
      "Filtered to scores above 2.64832448959 based on Motif 2\n",
      "Filtered to scores above 2.64832448959 based on Motif 2\n",
      "Filtered to scores above 2.64832448959 based on Motif 2\n",
      "Filtered to scores above 2.64832448959 based on Motif 2\n"
     ]
    }
   ],
   "source": [
    "# LOOP THROUGH & APPLY TO ALL THE ALIGNMENTS\n",
    "filtered_tables = []\n",
    "for i in tables:\n",
    "    f = filter_95_percentile(i, \"Motif 2\").drop(['seq_len', 'position'], axis=1)\n",
    "    filtered_tables.append(f)"
   ]
  },
  {
   "cell_type": "code",
   "execution_count": 243,
   "metadata": {
    "collapsed": true
   },
   "outputs": [],
   "source": [
    "def map_raw_seq(TFBS_df, seq_file):\n",
    "    \"\"\"\n",
    "    TFBS_df: The TFBS_df with entries only above the 95th percentile.\n",
    "    seq_file: a single .fa file within the directory.\n",
    "    \n",
    "    returns a df with scores in the upper 5th percentile along with the species'\n",
    "    corresponding raw sequence.\n",
    "    \"\"\"\n",
    "    \n",
    "    values = [[record.seq, record.description] for record in seq_file]\n",
    "    sequences = pd.DataFrame(values)\n",
    "    sequences.rename(columns={0 : 'Sequence', 1: 'Description'}, inplace=True)\n",
    "    sequences = sequences.set_index(\"Description\")\n",
    "    mapping = sequences.to_dict(\"index\")\n",
    "    \n",
    "    upper_fifth = filter_95_percentile(TFBS_df, \"Motif 2\")\n",
    "    upper_fifth = upper_fifth[[\"species\", \"raw_position\",'align_position', \"strand\"]]\n",
    "    upper_fifth[\"sequence\"] = upper_fifth[\"species\"].apply(lambda x: str(mapping.get(x).get(\"Sequence\")))\n",
    "    \n",
    "    upper_fifth = upper_fifth.reset_index().drop(\"index\", axis=1)\n",
    "    \n",
    "    return upper_fifth"
   ]
  },
  {
   "cell_type": "code",
   "execution_count": 244,
   "metadata": {
    "collapsed": true
   },
   "outputs": [],
   "source": [
    "def positive_index_seq(matched_df, motif):\n",
    "    \"\"\"\n",
    "    matched_df: df with the species matched with their corresponding raw sequence.\n",
    "    motif: a single .fm file within the directory.\n",
    "    \n",
    "    returns the df with appended columns of the DNA sequences/indices starting from the \n",
    "    raw_index from positively oriented scores and then going on until the proper number\n",
    "    of letters have been found.\n",
    "    \"\"\"\n",
    "    motif = str(first_motif.consensus)\n",
    "    motif_len = len(motif)\n",
    "    \n",
    "    extracted_seqs = []\n",
    "    extracted_indices = []\n",
    "    \n",
    "    pos = matched_df[matched_df[\"strand\"] == \"positive\"]\n",
    "    final = pos.copy()\n",
    "    for i in np.arange(pos.shape[0]):\n",
    "        curr_row = pos.iloc[i]\n",
    "        curr_seq = curr_row[\"sequence\"]\n",
    "        index = int(curr_row[\"raw_position\"])\n",
    "        \n",
    "        selected_seq = curr_seq[index:index + motif_len]     \n",
    "        letters = re.findall(r'[^-]', selected_seq)\n",
    "        additional_indicies = 0\n",
    "        \n",
    "        if len(letters) != motif_len: \n",
    "            while len(re.findall(r'[^-]', selected_seq)) != motif_len:\n",
    "                additional_indicies += 1\n",
    "                selected_seq = curr_seq[index:index + motif_len + additional_indicies]\n",
    "                 \n",
    "        selected_index = \"{0}:{1}\".format(index, index + motif_len + additional_indicies)\n",
    "        extracted_seqs.append(selected_seq)\n",
    "        extracted_indices.append(selected_index)\n",
    "        \n",
    "    final[\"extracted_seq\"] = extracted_seqs\n",
    "    final[\"extracted_indices\"] = extracted_indices\n",
    "    return final"
   ]
  },
  {
   "cell_type": "code",
   "execution_count": 245,
   "metadata": {
    "collapsed": true
   },
   "outputs": [],
   "source": [
    "def negative_index_seq(matched_df, motif):\n",
    "    \"\"\"\n",
    "    matched_df: df with the species matched with their corresponding raw sequence.\n",
    "    motif: a single .fm file within the directory.\n",
    "    \n",
    "    returns the df with appended columns of the DNA sequences/indices starting from the \n",
    "    raw_index from negatively oriented scores and then going on until the proper number\n",
    "    of letters have been found.\n",
    "    \"\"\"\n",
    "    motif = str(first_motif.consensus)\n",
    "    motif_len = len(motif)\n",
    "    \n",
    "    extracted_seqs = []\n",
    "    extracted_indices = []\n",
    "    \n",
    "    d={'A':'T','T':'A', 'C':'G', 'G':'C'}\n",
    "    \n",
    "    neg = matched_df[matched_df[\"strand\"] == \"negative\"]\n",
    "    final = neg.copy()\n",
    "    for i in np.arange(neg.shape[0]):\n",
    "        curr_row = neg.iloc[i]\n",
    "        curr_seq = curr_row[\"sequence\"]\n",
    "        \n",
    "        index = int(curr_row[\"raw_position\"])\n",
    "        \n",
    "        selected_seq = curr_seq[-(index + motif_len + 1): -(index + 1)]     \n",
    "        letters = re.findall(r'[^-]', selected_seq)\n",
    "        additional_indicies = 0\n",
    "        \n",
    "        if len(letters) != motif_len: \n",
    "            while len(re.findall(r'[^-]', selected_seq)) != motif_len:\n",
    "                additional_indicies += 1\n",
    "                selected_seq = curr_seq[-(index + motif_len + additional_indicies + 1): -(index + 1)]\n",
    "                 \n",
    "        selected_index = \"{0}:{1}\".format(-(index + motif_len + additional_indicies + 1), -(index + 1)) \n",
    "        \n",
    "        swapped_seq = ''.join(d[s] if s in d else s for s in selected_seq)\n",
    "        reversed_seq = swapped_seq[::-1]\n",
    "        extracted_seqs.append(reversed_seq)\n",
    "        extracted_indices.append(selected_index)\n",
    "        \n",
    "    final[\"extracted_seq\"] = extracted_seqs\n",
    "    final[\"extracted_indices\"] = extracted_indices\n",
    "    return final"
   ]
  },
  {
   "cell_type": "code",
   "execution_count": 246,
   "metadata": {
    "collapsed": true
   },
   "outputs": [],
   "source": [
    "def find_motif_pipeline(TFBS_df, seq_file, motif):\n",
    "    \"\"\"\n",
    "    TFBS_df: A pandas df with the raw/aligned position, score, and file names.\n",
    "    seq_file: a single .fa file within the directory.\n",
    "    motif: a single .fm file within the directory.\n",
    "    \n",
    "    returns the execution of the pipeline for filtering out the calculated motif locations\n",
    "    and the actual DNA sequence.\n",
    "    \"\"\"\n",
    "    matched = map_raw_seq(TFBS_df, seq_file)\n",
    "    final_p = positive_index_seq(matched, motif)\n",
    "    final_n = negative_index_seq(matched, motif)\n",
    "    final = final_p.reset_index().merge(final_n.reset_index(), how='outer').sort_values('index').set_index('index')\n",
    "    final[\"gap_less_seq\"] = [re.sub(r'-', '', x) for x in final[\"extracted_seq\"]]\n",
    "    return final[[\"species\", \"raw_position\", \"strand\",\"gap_less_seq\", \"extracted_indices\", 'align_position']]\n"
   ]
  },
  {
   "cell_type": "markdown",
   "metadata": {},
   "source": [
    "A pipeline for reading in the list of fasta files and motifs and then generating all possible combinations between the two lists to create the specific motif's sequence logo and the corresponding stripplot for locations of the motif against all the species. Currently saves the images into the current directory. \n",
    "\n",
    "Example output for $\\scriptsize\\textbf{Fasta}$: 'align_outlier_rm_with_length_VT0809.fa'\n",
    "$\\scriptsize\\textbf{Motif}$: 'bcd_cell2008.fm'\n",
    "\n",
    "<img src=\"attachment:Screen%20Shot%202018-04-26%20at%209.23.37%20AM.png\" width=\"80%\">\n"
   ]
  },
  {
   "cell_type": "markdown",
   "metadata": {},
   "source": [
    "#### *final_df is the scored table of everything \n",
    "#### *indexed_df has the upper 95th percentile / extracted motifs and their locations"
   ]
  },
  {
   "cell_type": "code",
   "execution_count": 247,
   "metadata": {
    "collapsed": true
   },
   "outputs": [],
   "source": [
    "\n",
    "def calculate_one_TFBS(file, motif):\n",
    "    \"\"\"\n",
    "    file: A single .fa file in the current directory.\n",
    "    motif: A single .fm file in the current directory.\n",
    "    \n",
    "    Returns a csv with the positions, score, and orientation saved into the current directory for the specified \n",
    "    .fa and .fm files.\n",
    "    \"\"\"\n",
    "    curr_file = read_records(file)\n",
    "    curr_motif = read_motif(motif)\n",
    "    curr_raw = raw_sequence_ungap(curr_file)\n",
    "    curr_cast = cast_sequence(curr_raw)\n",
    "            \n",
    "    len_raw = len(extract_len_id(curr_raw, curr_cast))    \n",
    "    raw_df = pd.DataFrame(positions(curr_raw, curr_cast, curr_motif))\n",
    "    temp_df = positive_positions(raw_df)\n",
    "    temp_df = define_sign(temp_df)\n",
    "            \n",
    "    align_name = re.split(r'_', files[0])[-1]\n",
    "    final_df = merge_align_df(temp_df, curr_file, len_raw)\n",
    "    save_df(final_df, align_name, motif)\n",
    "    \n",
    "    new_path = curr_motif.weblogo(\"{}.png\".format(motif), format= 'PNG', stack_width= 'large')\n",
    "    display(Image(\"{}.png\".format(motif), width= 200, height= 300))\n",
    "\n",
    "    indexed_df = find_motif_pipeline(final_df, curr_file, curr_motif)\n",
    "    testing_pos = indexed_df[indexed_df[\"strand\"] == 'positive']\n",
    "    testing_neg = indexed_df[indexed_df['strand'] == 'negative']\n",
    "\n",
    "    fig = plt.figure(figsize=(20, 15))\n",
    "    plt.subplot(2, 1, 1)\n",
    "    sns.stripplot(x=\"align_position\", y=\"species\", hue=\"strand\", data=testing_pos, dodge=True, linewidth=1)\n",
    "    plt.legend(bbox_to_anchor=(1.05, 1), loc=2, borderaxespad=0.,title='Orientation', fontsize='x-large')\n",
    "    plt.xlabel('')\n",
    "    plt.title('{} & {} Alignment'.format(align_name, motif))\n",
    "\n",
    "    plt.subplot(2, 1, 2)\n",
    "    sns.stripplot(x=\"align_position\", y=\"species\", hue=\"strand\", data=testing_neg,\n",
    "                  palette=\"Set2\", dodge=True, linewidth=1)\n",
    "    plt.legend(bbox_to_anchor=(1.05, 1), loc=2, borderaxespad=0.,title='Orientation', fontsize='x-large')\n",
    "    plt.xlabel('')\n",
    "    \n",
    "    #fig.savefig('{} & {}.png'.format(align_name, motif), dpi=fig.dpi, bbox_inches='tight', pad_inches=0.5)\n",
    "    return final_df\n"
   ]
  },
  {
   "cell_type": "code",
   "execution_count": 248,
   "metadata": {
    "collapsed": false
   },
   "outputs": [],
   "source": [
    "#calculate_one_TFBS(files[0],all_motifs[0])"
   ]
  },
  {
   "cell_type": "code",
   "execution_count": 249,
   "metadata": {
    "collapsed": true
   },
   "outputs": [],
   "source": [
    "\n",
    "def calculate_all_TFBS(files, all_motifs):\n",
    "    \"\"\"\n",
    "    files: A list of all the .fa files in the current directory.\n",
    "    all_motifs: A list of all the .fm files in the current directory.\n",
    "    \n",
    "    Returns a csv with the positions, score, and orientation saved into the current directory for all files.\n",
    "    \"\"\"\n",
    "    for file in files:\n",
    "        for motif in all_motifs:\n",
    "            calculate_one_TFBS(file, motif)\n",
    "            "
   ]
  },
  {
   "cell_type": "code",
   "execution_count": 250,
   "metadata": {
    "collapsed": false,
    "scrolled": false
   },
   "outputs": [],
   "source": [
    "#calculate_all_TFBS(files[:1], all_motifs[:2])"
   ]
  },
  {
   "cell_type": "code",
   "execution_count": 251,
   "metadata": {
    "collapsed": true
   },
   "outputs": [],
   "source": [
    "#Run this cell to generate the plots for all the files with all the possible motif files.\n",
    "#Will save the scored df, motif sequence logo, and file/motif stripplot into the current directory.\n",
    "\n",
    "#calculate_all_TFBS(files, all_motifs)"
   ]
  },
  {
   "cell_type": "markdown",
   "metadata": {},
   "source": [
    "#### June 21 Task - Begin reading from here"
   ]
  },
  {
   "cell_type": "markdown",
   "metadata": {},
   "source": [
    "### Filtered_tables\n",
    "* filtered_tables is a LIST of TABLES; each table in this list represents ONE alignment file. In every table, 1 row represents a spot on the sequence that we've chosen to label as TFBS, based on our 95% criteria. You can index into filtered_tables to view any one table. For example, alignment 1:"
   ]
  },
  {
   "cell_type": "code",
   "execution_count": 252,
   "metadata": {
    "collapsed": false
   },
   "outputs": [
    {
     "data": {
      "text/html": [
       "<div>\n",
       "<table border=\"1\" class=\"dataframe\">\n",
       "  <thead>\n",
       "    <tr style=\"text-align: right;\">\n",
       "      <th></th>\n",
       "      <th>score</th>\n",
       "      <th>species</th>\n",
       "      <th>raw_position</th>\n",
       "      <th>strand</th>\n",
       "      <th>align_position</th>\n",
       "    </tr>\n",
       "  </thead>\n",
       "  <tbody>\n",
       "    <tr>\n",
       "      <th>10649</th>\n",
       "      <td>2.648324</td>\n",
       "      <td>VT0850|1|MEMB002A|-|2035</td>\n",
       "      <td>10.0</td>\n",
       "      <td>positive</td>\n",
       "      <td>12</td>\n",
       "    </tr>\n",
       "    <tr>\n",
       "      <th>10684</th>\n",
       "      <td>2.648324</td>\n",
       "      <td>VT0850|1|MEMB002A|-|2035</td>\n",
       "      <td>47.0</td>\n",
       "      <td>positive</td>\n",
       "      <td>56</td>\n",
       "    </tr>\n",
       "    <tr>\n",
       "      <th>10707</th>\n",
       "      <td>2.648324</td>\n",
       "      <td>VT0850|1|MEMB002A|-|2035</td>\n",
       "      <td>71.0</td>\n",
       "      <td>positive</td>\n",
       "      <td>92</td>\n",
       "    </tr>\n",
       "    <tr>\n",
       "      <th>10710</th>\n",
       "      <td>2.648324</td>\n",
       "      <td>VT0850|1|MEMB002A|-|2035</td>\n",
       "      <td>75.0</td>\n",
       "      <td>positive</td>\n",
       "      <td>96</td>\n",
       "    </tr>\n",
       "    <tr>\n",
       "      <th>10740</th>\n",
       "      <td>2.700792</td>\n",
       "      <td>VT0850|1|MEMB002A|-|2035</td>\n",
       "      <td>106.0</td>\n",
       "      <td>negative</td>\n",
       "      <td>128</td>\n",
       "    </tr>\n",
       "  </tbody>\n",
       "</table>\n",
       "</div>"
      ],
      "text/plain": [
       "          score                   species  raw_position    strand  \\\n",
       "10649  2.648324  VT0850|1|MEMB002A|-|2035          10.0  positive   \n",
       "10684  2.648324  VT0850|1|MEMB002A|-|2035          47.0  positive   \n",
       "10707  2.648324  VT0850|1|MEMB002A|-|2035          71.0  positive   \n",
       "10710  2.648324  VT0850|1|MEMB002A|-|2035          75.0  positive   \n",
       "10740  2.700792  VT0850|1|MEMB002A|-|2035         106.0  negative   \n",
       "\n",
       "       align_position  \n",
       "10649              12  \n",
       "10684              56  \n",
       "10707              92  \n",
       "10710              96  \n",
       "10740             128  "
      ]
     },
     "execution_count": 252,
     "metadata": {},
     "output_type": "execute_result"
    }
   ],
   "source": [
    "filtered_tables[0].head()"
   ]
  },
  {
   "cell_type": "markdown",
   "metadata": {},
   "source": [
    "### position_species_tables\n",
    "(See below for example) position_species_tables is also a LIST of TABLES. Again, each element in the list represents ONE alignment file. Each table tells you:\n",
    "\n",
    "1. The raw position\n",
    "2. A tuple containing all the species that have TBFS's at that position"
   ]
  },
  {
   "cell_type": "code",
   "execution_count": 253,
   "metadata": {
    "collapsed": false
   },
   "outputs": [],
   "source": [
    "position_species_tables = []\n",
    "\n",
    "for f in filtered_tables:\n",
    "    positions_with_TFBS = list(f[\"raw_position\"]) # there are ~2,000 positions\n",
    "    combos = {} # Dictionary with position index : list of species that have TFBS at this position\n",
    "    for i in positions_with_TFBS:\n",
    "        combos[i] = list(f[f[\"raw_position\"] == i][\"species\"])\n",
    "\n",
    "    d = {'Raw Positions': list(combos.keys()),\n",
    "         'Species with TFBS at Position': list(combos.values())}\n",
    "    positions_species = pd.DataFrame(data=d)\n",
    "    positions_species[\"Species with TFBS at Position\"] = [tuple(i) for i in positions_species[\"Species with TFBS at Position\"]]\n",
    "\n",
    "    position_species_tables.append(positions_species)"
   ]
  },
  {
   "cell_type": "code",
   "execution_count": 254,
   "metadata": {
    "collapsed": false
   },
   "outputs": [
    {
     "data": {
      "text/html": [
       "<div>\n",
       "<table border=\"1\" class=\"dataframe\">\n",
       "  <thead>\n",
       "    <tr style=\"text-align: right;\">\n",
       "      <th></th>\n",
       "      <th>Raw Positions</th>\n",
       "      <th>Species with TFBS at Position</th>\n",
       "    </tr>\n",
       "  </thead>\n",
       "  <tbody>\n",
       "    <tr>\n",
       "      <th>0</th>\n",
       "      <td>10.0</td>\n",
       "      <td>(VT0850|1|MEMB002A|-|2035, VT0850|1|MEMB002B|-...</td>\n",
       "    </tr>\n",
       "    <tr>\n",
       "      <th>1</th>\n",
       "      <td>12.0</td>\n",
       "      <td>(VT0850|1|MEMB002D|+|2189, VT0850|1|MEMB002F|+...</td>\n",
       "    </tr>\n",
       "    <tr>\n",
       "      <th>2</th>\n",
       "      <td>30.0</td>\n",
       "      <td>(VT0850|1|MEMB002E|+|2250, VT0850|1|MEMB003A|-...</td>\n",
       "    </tr>\n",
       "  </tbody>\n",
       "</table>\n",
       "</div>"
      ],
      "text/plain": [
       "   Raw Positions                      Species with TFBS at Position\n",
       "0           10.0  (VT0850|1|MEMB002A|-|2035, VT0850|1|MEMB002B|-...\n",
       "1           12.0  (VT0850|1|MEMB002D|+|2189, VT0850|1|MEMB002F|+...\n",
       "2           30.0  (VT0850|1|MEMB002E|+|2250, VT0850|1|MEMB003A|-..."
      ]
     },
     "execution_count": 254,
     "metadata": {},
     "output_type": "execute_result"
    }
   ],
   "source": [
    "position_species_tables[0].head(3)"
   ]
  },
  {
   "cell_type": "markdown",
   "metadata": {},
   "source": [
    "### group_by_combo_tables\n",
    "Another LIST of tables. Similar to position_species_tables, except each table provides:\n",
    "\n",
    "1. Index: the ID of each unique combination (starts from 0, 1, 2.....)\n",
    "2. Species with TFBS at Position: a tuple containing a list of species, in other words, 1 combination.\n",
    "3. Count: The frequency at which each combination occurs"
   ]
  },
  {
   "cell_type": "code",
   "execution_count": 255,
   "metadata": {
    "collapsed": false
   },
   "outputs": [],
   "source": [
    "group_by_combo_tables = []\n",
    "\n",
    "for p in position_species_tables:\n",
    "    group_by_combo = p.groupby(\"Species with TFBS at Position\",sort=False).count().reset_index()\n",
    "    group_by_combo.columns = [\"Species with TFBS at Position\", \"Count\"]\n",
    "    group_by_combo_tables.append(group_by_combo)\n"
   ]
  },
  {
   "cell_type": "code",
   "execution_count": 256,
   "metadata": {
    "collapsed": false
   },
   "outputs": [
    {
     "data": {
      "text/html": [
       "<div>\n",
       "<table border=\"1\" class=\"dataframe\">\n",
       "  <thead>\n",
       "    <tr style=\"text-align: right;\">\n",
       "      <th></th>\n",
       "      <th>Species with TFBS at Position</th>\n",
       "      <th>Count</th>\n",
       "    </tr>\n",
       "  </thead>\n",
       "  <tbody>\n",
       "    <tr>\n",
       "      <th>0</th>\n",
       "      <td>(VT0850|1|MEMB002A|-|2035, VT0850|1|MEMB002B|-...</td>\n",
       "      <td>1</td>\n",
       "    </tr>\n",
       "    <tr>\n",
       "      <th>1</th>\n",
       "      <td>(VT0850|1|MEMB002D|+|2189, VT0850|1|MEMB002F|+...</td>\n",
       "      <td>2</td>\n",
       "    </tr>\n",
       "    <tr>\n",
       "      <th>2</th>\n",
       "      <td>(VT0850|1|MEMB002E|+|2250, VT0850|1|MEMB003A|-...</td>\n",
       "      <td>1</td>\n",
       "    </tr>\n",
       "  </tbody>\n",
       "</table>\n",
       "</div>"
      ],
      "text/plain": [
       "                       Species with TFBS at Position  Count\n",
       "0  (VT0850|1|MEMB002A|-|2035, VT0850|1|MEMB002B|-...      1\n",
       "1  (VT0850|1|MEMB002D|+|2189, VT0850|1|MEMB002F|+...      2\n",
       "2  (VT0850|1|MEMB002E|+|2250, VT0850|1|MEMB003A|-...      1"
      ]
     },
     "execution_count": 256,
     "metadata": {},
     "output_type": "execute_result"
    }
   ],
   "source": [
    "group_by_combo_tables[0].head(3)"
   ]
  },
  {
   "cell_type": "markdown",
   "metadata": {},
   "source": [
    "### counts_at_positions_tables\n",
    "Another LIST of tables. Each table is the merging of the respective tables from position_species and group_by_combo. This one summarizes all the information we've obtained so far."
   ]
  },
  {
   "cell_type": "code",
   "execution_count": 257,
   "metadata": {
    "collapsed": false
   },
   "outputs": [],
   "source": [
    "counts_at_positions_tables = []\n",
    "num_alignments = len(group_by_combo_tables)\n",
    "\n",
    "for n in range(num_alignments):\n",
    "    counts_at_positions = position_species_tables[n].merge(group_by_combo_tables[n], how=\"left\",sort=False)\n",
    "    counts_at_positions.set_index(\"Raw Positions\", inplace=True)\n",
    "    counts_at_positions_tables.append(counts_at_positions)"
   ]
  },
  {
   "cell_type": "code",
   "execution_count": 258,
   "metadata": {
    "collapsed": false
   },
   "outputs": [
    {
     "data": {
      "text/html": [
       "<div>\n",
       "<table border=\"1\" class=\"dataframe\">\n",
       "  <thead>\n",
       "    <tr style=\"text-align: right;\">\n",
       "      <th></th>\n",
       "      <th>Species with TFBS at Position</th>\n",
       "      <th>Count</th>\n",
       "    </tr>\n",
       "    <tr>\n",
       "      <th>Raw Positions</th>\n",
       "      <th></th>\n",
       "      <th></th>\n",
       "    </tr>\n",
       "  </thead>\n",
       "  <tbody>\n",
       "    <tr>\n",
       "      <th>10.0</th>\n",
       "      <td>(VT0850|1|MEMB002A|-|2035, VT0850|1|MEMB002B|-...</td>\n",
       "      <td>1</td>\n",
       "    </tr>\n",
       "    <tr>\n",
       "      <th>12.0</th>\n",
       "      <td>(VT0850|1|MEMB002D|+|2189, VT0850|1|MEMB002F|+...</td>\n",
       "      <td>2</td>\n",
       "    </tr>\n",
       "    <tr>\n",
       "      <th>30.0</th>\n",
       "      <td>(VT0850|1|MEMB002E|+|2250, VT0850|1|MEMB003A|-...</td>\n",
       "      <td>1</td>\n",
       "    </tr>\n",
       "  </tbody>\n",
       "</table>\n",
       "</div>"
      ],
      "text/plain": [
       "                                   Species with TFBS at Position  Count\n",
       "Raw Positions                                                          \n",
       "10.0           (VT0850|1|MEMB002A|-|2035, VT0850|1|MEMB002B|-...      1\n",
       "12.0           (VT0850|1|MEMB002D|+|2189, VT0850|1|MEMB002F|+...      2\n",
       "30.0           (VT0850|1|MEMB002E|+|2250, VT0850|1|MEMB003A|-...      1"
      ]
     },
     "execution_count": 258,
     "metadata": {},
     "output_type": "execute_result"
    }
   ],
   "source": [
    "counts_at_positions_tables[0].head(3)"
   ]
  },
  {
   "cell_type": "code",
   "execution_count": 259,
   "metadata": {
    "collapsed": false
   },
   "outputs": [],
   "source": [
    "position_to_count_dictionaries = []\n",
    "\n",
    "for c in counts_at_positions_tables:\n",
    "    positions = list(c.index.values)\n",
    "    dictionary = {}\n",
    "    for i in range(len(positions)):\n",
    "        if i in positions:\n",
    "            dictionary[i] = c[\"Count\"][i]\n",
    "        else:\n",
    "            dictionary[i] = 0\n",
    "    position_to_count_dictionaries.append(dictionary)"
   ]
  },
  {
   "cell_type": "code",
   "execution_count": 260,
   "metadata": {
    "collapsed": false
   },
   "outputs": [],
   "source": [
    "def freq_at_position(raw_position, alignment):\n",
    "    \"\"\"\n",
    "    raw_position: intege\n",
    "    alignment: integer\n",
    "    \n",
    "    Returns the frequency of the pattern occurring at the specified raw position.\n",
    "    Must specify which alignment file is being used.\n",
    "    \"\"\"\n",
    "    return position_to_count_dictionaries[alignment][raw_position]"
   ]
  },
  {
   "cell_type": "code",
   "execution_count": 261,
   "metadata": {
    "collapsed": false
   },
   "outputs": [
    {
     "data": {
      "text/plain": [
       "2"
      ]
     },
     "execution_count": 261,
     "metadata": {},
     "output_type": "execute_result"
    }
   ],
   "source": [
    "# Example: this is the frequency of the pattern occuring at position 12 in the first alignment.\n",
    "freq_at_position(12, 0)"
   ]
  },
  {
   "cell_type": "markdown",
   "metadata": {},
   "source": [
    "## Visualizations"
   ]
  },
  {
   "cell_type": "code",
   "execution_count": 262,
   "metadata": {
    "collapsed": false
   },
   "outputs": [
    {
     "data": {
      "text/plain": [
       "<matplotlib.text.Text at 0x1534e6f60>"
      ]
     },
     "execution_count": 262,
     "metadata": {},
     "output_type": "execute_result"
    },
    {
     "data": {
      "image/png": "[encoded data removed]",
      "text/plain": [
       "<matplotlib.figure.Figure at 0x1534df550>"
      ]
     },
     "metadata": {},
     "output_type": "display_data"
    }
   ],
   "source": [
    "pos = list(position_to_count_dictionaries[0].keys())\n",
    "y_pos = np.arange(len(pos))\n",
    "freqs = list(position_to_count_dictionaries[0].values())\n",
    " \n",
    "plt.bar(y_pos, freqs, align='center', alpha=0.5, width = 3)\n",
    "plt.xlabel(\"Raw Position in Sequence Alignment #1\")\n",
    "plt.ylabel(\"Frequency of TFBS Combination at Position\")"
   ]
  },
  {
   "cell_type": "markdown",
   "metadata": {},
   "source": [
    "### ID Dictionary\n",
    "Use the function ID_dictionary (defined below) when you have an ID and want to view the pattern associated with that ID."
   ]
  },
  {
   "cell_type": "code",
   "execution_count": 263,
   "metadata": {
    "collapsed": false
   },
   "outputs": [],
   "source": [
    "# For convenience, here are dictionaries of IDs that map to a combination.\n",
    "\n",
    "all_combo_ids = []\n",
    "\n",
    "for g in group_by_combo_tables:\n",
    "    combo_ids = {}\n",
    "    for i in g.index.values:\n",
    "        combo = g[\"Species with TFBS at Position\"][i]\n",
    "        combo_ids[i] = combo\n",
    "    all_combo_ids.append(combo_ids)"
   ]
  },
  {
   "cell_type": "code",
   "execution_count": 264,
   "metadata": {
    "collapsed": false
   },
   "outputs": [],
   "source": [
    "def ID_dictionary(alignment, ID):\n",
    "    \"\"\"\n",
    "    alignment: integer specifying which alignment to analyze\n",
    "    ID: integer; ID linked to the unique TFBS combination\n",
    "    \"\"\"\n",
    "    return all_combo_ids[alignment][ID]"
   ]
  },
  {
   "cell_type": "code",
   "execution_count": 265,
   "metadata": {
    "collapsed": false
   },
   "outputs": [
    {
     "data": {
      "text/plain": [
       "('VT10600|0|MEMB002E|-|729',\n",
       " 'VT10600|0|MEMB003A|+|713',\n",
       " 'VT10600|0|MEMB003B|+|702',\n",
       " 'VT10600|0|MEMB003D|-|714',\n",
       " 'VT10600|0|MEMB004B|-|689',\n",
       " 'VT10600|0|MEMB004E|-|727',\n",
       " 'VT10600|0|MEMB005B|+|719',\n",
       " 'VT10600|0|MEMB005D|-|733',\n",
       " 'VT10600|0|MEMB006A|-|740',\n",
       " 'VT10600|0|MEMB006B|+|689',\n",
       " 'VT10600|0|MEMB006C|+|713',\n",
       " 'VT10600|0|MEMB007C|+|679',\n",
       " 'VT10600|0|MEMB008C|+|711',\n",
       " 'VT10600|0|dkik|+|726')"
      ]
     },
     "execution_count": 265,
     "metadata": {},
     "output_type": "execute_result"
    }
   ],
   "source": [
    "# Example: from alignment 2, ID #11 represents this combination of species.\n",
    "ID_dictionary(2, 11)"
   ]
  },
  {
   "cell_type": "markdown",
   "metadata": {},
   "source": [
    "# TLDR:\n",
    "#### These functions incorporate everything done above.\n",
    "1. Use **frequent_patterns** function to find the top few occurring TFBS patterns in your specified alignment file.\n",
    "2. Use **most_frequent_pattern** function to find the top occuring TFBS pattern in your specified alignment file."
   ]
  },
  {
   "cell_type": "code",
   "execution_count": 266,
   "metadata": {
    "collapsed": false
   },
   "outputs": [
    {
     "data": {
      "text/html": [
       "<div>\n",
       "<table border=\"1\" class=\"dataframe\">\n",
       "  <thead>\n",
       "    <tr style=\"text-align: right;\">\n",
       "      <th></th>\n",
       "      <th>Species with TFBS at Position</th>\n",
       "      <th>Count</th>\n",
       "    </tr>\n",
       "  </thead>\n",
       "  <tbody>\n",
       "    <tr>\n",
       "      <th>9</th>\n",
       "      <td>(VT0850|1|MEMB005B|-|2353,)</td>\n",
       "      <td>38</td>\n",
       "    </tr>\n",
       "    <tr>\n",
       "      <th>11</th>\n",
       "      <td>(VT0850|1|MEMB006C|+|2323,)</td>\n",
       "      <td>43</td>\n",
       "    </tr>\n",
       "    <tr>\n",
       "      <th>12</th>\n",
       "      <td>(VT0850|1|MEMB002F|+|2216,)</td>\n",
       "      <td>38</td>\n",
       "    </tr>\n",
       "    <tr>\n",
       "      <th>27</th>\n",
       "      <td>(VT0850|1|MEMB007D|+|2300,)</td>\n",
       "      <td>42</td>\n",
       "    </tr>\n",
       "    <tr>\n",
       "      <th>30</th>\n",
       "      <td>(VT0850|1|MEMB006A|+|2240,)</td>\n",
       "      <td>40</td>\n",
       "    </tr>\n",
       "    <tr>\n",
       "      <th>34</th>\n",
       "      <td>(VT0850|1|MEMB003B|+|2201,)</td>\n",
       "      <td>38</td>\n",
       "    </tr>\n",
       "    <tr>\n",
       "      <th>44</th>\n",
       "      <td>(VT0850|1|MEMB008C|+|2426,)</td>\n",
       "      <td>42</td>\n",
       "    </tr>\n",
       "    <tr>\n",
       "      <th>53</th>\n",
       "      <td>(VT0850|1|dkik|-|2904,)</td>\n",
       "      <td>53</td>\n",
       "    </tr>\n",
       "  </tbody>\n",
       "</table>\n",
       "</div>"
      ],
      "text/plain": [
       "   Species with TFBS at Position  Count\n",
       "9    (VT0850|1|MEMB005B|-|2353,)     38\n",
       "11   (VT0850|1|MEMB006C|+|2323,)     43\n",
       "12   (VT0850|1|MEMB002F|+|2216,)     38\n",
       "27   (VT0850|1|MEMB007D|+|2300,)     42\n",
       "30   (VT0850|1|MEMB006A|+|2240,)     40\n",
       "34   (VT0850|1|MEMB003B|+|2201,)     38\n",
       "44   (VT0850|1|MEMB008C|+|2426,)     42\n",
       "53       (VT0850|1|dkik|-|2904,)     53"
      ]
     },
     "execution_count": 266,
     "metadata": {},
     "output_type": "execute_result"
    }
   ],
   "source": [
    "def frequent_patterns(alignment_num, percentile=80):\n",
    "    \"\"\"\n",
    "    alignment_num: integer specifying which alignment to analyze\n",
    "    percentile: (integer) limit frequencies to only above this percentile\n",
    "    \n",
    "    Returns:\n",
    "    A table, like those in group_by_combo_tables, except w/only the largest counts\n",
    "    \"\"\"\n",
    "    counts = list(counts_at_positions_tables[alignment_num][\"Count\"])\n",
    "    table = group_by_combo_tables[alignment_num]\n",
    "    return table[table[\"Count\"] >= np.percentile(counts, percentile)]\n",
    "\n",
    "frequent_patterns(0)"
   ]
  },
  {
   "cell_type": "code",
   "execution_count": 267,
   "metadata": {
    "collapsed": false
   },
   "outputs": [
    {
     "data": {
      "text/html": [
       "<div>\n",
       "<table border=\"1\" class=\"dataframe\">\n",
       "  <thead>\n",
       "    <tr style=\"text-align: right;\">\n",
       "      <th></th>\n",
       "      <th>Species with TFBS at Position</th>\n",
       "      <th>Count</th>\n",
       "    </tr>\n",
       "  </thead>\n",
       "  <tbody>\n",
       "    <tr>\n",
       "      <th>66</th>\n",
       "      <td>(VT0870|0|MEMB007B|+|2647,)</td>\n",
       "      <td>52</td>\n",
       "    </tr>\n",
       "  </tbody>\n",
       "</table>\n",
       "</div>"
      ],
      "text/plain": [
       "   Species with TFBS at Position  Count\n",
       "66   (VT0870|0|MEMB007B|+|2647,)     52"
      ]
     },
     "execution_count": 267,
     "metadata": {},
     "output_type": "execute_result"
    }
   ],
   "source": [
    "def most_frequent_pattern(alignment_num):\n",
    "    \"\"\"\n",
    "    alignment_num: integer specifying which alignment to analyze\n",
    "    \n",
    "    Returns:\n",
    "    A single-row table with the TFBS combo with the LARGEST count in the sequence\n",
    "    \"\"\"\n",
    "    max_count = max(list(counts_at_positions_tables[alignment_num][\"Count\"]))\n",
    "    table = group_by_combo_tables[alignment_num]\n",
    "    return table[table[\"Count\"] == max_count]\n",
    "\n",
    "most_frequent_pattern(1) # <- In the second alignment, the most frequent combo occurs 52 times."
   ]
  }
 ],
 "metadata": {
  "kernelspec": {
   "display_name": "Python [Root]",
   "language": "python",
   "name": "Python [Root]"
  },
  "language_info": {
   "codemirror_mode": {
    "name": "ipython",
    "version": 3
   },
   "file_extension": ".py",
   "mimetype": "text/x-python",
   "name": "python",
   "nbconvert_exporter": "python",
   "pygments_lexer": "ipython3",
   "version": "3.5.2"
  }
 },
 "nbformat": 4,
 "nbformat_minor": 2
}
