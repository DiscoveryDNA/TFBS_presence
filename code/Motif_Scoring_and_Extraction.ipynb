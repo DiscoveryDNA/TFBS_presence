{
 "cells": [
  {
   "cell_type": "markdown",
   "metadata": {},
   "source": [
    "## Motif Mapping\n",
    "\n",
    "Using Ciera Martinez's map_motif.py in a generalized jupyter notebook function."
   ]
  },
  {
   "cell_type": "code",
   "execution_count": 1,
   "metadata": {},
   "outputs": [],
   "source": [
    "# Import definitions & functions from .py file:\n",
    "from MSE import *"
   ]
  },
  {
   "cell_type": "markdown",
   "metadata": {},
   "source": [
    "### Pipeline\n",
    "* The following cell uses **all** of the functions in MSE.py through the pipeline function, and compiles all the results in the variable align3_results.\n",
    "* pipeline might take a minute to run!"
   ]
  },
  {
   "cell_type": "code",
   "execution_count": 2,
   "metadata": {},
   "outputs": [],
   "source": [
    "align_path = '../data/alignments/*0.fa' # Multiple alignment files\n",
    "motif_path = '../data/pwm/bcd_FlyReg.fm' # 1 motif file\n",
    "files = glob(align_path)"
   ]
  },
  {
   "cell_type": "code",
   "execution_count": 3,
   "metadata": {},
   "outputs": [],
   "source": [
    "s = stand_cutoff(motif_path)"
   ]
  },
  {
   "cell_type": "code",
   "execution_count": 4,
   "metadata": {},
   "outputs": [],
   "source": [
    "align3_results = pipeline(files[3], motif_path, s, percentile=95)"
   ]
  },
  {
   "cell_type": "markdown",
   "metadata": {},
   "source": [
    "## Viewing the Results\n",
    "* view_data is merely a convenience function that allows users to specify which part of the (very large) output to look at.\n",
    "* See the documentation of view_data for more info"
   ]
  },
  {
   "cell_type": "code",
   "execution_count": 5,
   "metadata": {
    "scrolled": false
   },
   "outputs": [
    {
     "data": {
      "text/html": [
       "<div>\n",
       "<style scoped>\n",
       "    .dataframe tbody tr th:only-of-type {\n",
       "        vertical-align: middle;\n",
       "    }\n",
       "\n",
       "    .dataframe tbody tr th {\n",
       "        vertical-align: top;\n",
       "    }\n",
       "\n",
       "    .dataframe thead th {\n",
       "        text-align: right;\n",
       "    }\n",
       "</style>\n",
       "<table border=\"1\" class=\"dataframe\">\n",
       "  <thead>\n",
       "    <tr style=\"text-align: right;\">\n",
       "      <th></th>\n",
       "      <th>nucleotide</th>\n",
       "      <th>score</th>\n",
       "      <th>species</th>\n",
       "      <th>raw_position</th>\n",
       "      <th>strand</th>\n",
       "      <th>align_position</th>\n",
       "      <th>motif</th>\n",
       "    </tr>\n",
       "  </thead>\n",
       "  <tbody>\n",
       "    <tr>\n",
       "      <th>21583</th>\n",
       "      <td>TTTA</td>\n",
       "      <td>3.355628</td>\n",
       "      <td>VT10670|1|MEMB002A|-|2087</td>\n",
       "      <td>30</td>\n",
       "      <td>negative</td>\n",
       "      <td>37</td>\n",
       "      <td>bcd_FlyReg.fm</td>\n",
       "    </tr>\n",
       "    <tr>\n",
       "      <th>21684</th>\n",
       "      <td>TAAA</td>\n",
       "      <td>3.355628</td>\n",
       "      <td>VT10670|1|MEMB002A|-|2087</td>\n",
       "      <td>81</td>\n",
       "      <td>positive</td>\n",
       "      <td>97</td>\n",
       "      <td>bcd_FlyReg.fm</td>\n",
       "    </tr>\n",
       "    <tr>\n",
       "      <th>21771</th>\n",
       "      <td>TTTA</td>\n",
       "      <td>3.355628</td>\n",
       "      <td>VT10670|1|MEMB002A|-|2087</td>\n",
       "      <td>124</td>\n",
       "      <td>negative</td>\n",
       "      <td>167</td>\n",
       "      <td>bcd_FlyReg.fm</td>\n",
       "    </tr>\n",
       "    <tr>\n",
       "      <th>21852</th>\n",
       "      <td>TAAA</td>\n",
       "      <td>3.355628</td>\n",
       "      <td>VT10670|1|MEMB002A|-|2087</td>\n",
       "      <td>165</td>\n",
       "      <td>positive</td>\n",
       "      <td>218</td>\n",
       "      <td>bcd_FlyReg.fm</td>\n",
       "    </tr>\n",
       "    <tr>\n",
       "      <th>21941</th>\n",
       "      <td>GTTA</td>\n",
       "      <td>4.317153</td>\n",
       "      <td>VT10670|1|MEMB002A|-|2087</td>\n",
       "      <td>209</td>\n",
       "      <td>negative</td>\n",
       "      <td>283</td>\n",
       "      <td>bcd_FlyReg.fm</td>\n",
       "    </tr>\n",
       "  </tbody>\n",
       "</table>\n",
       "</div>"
      ],
      "text/plain": [
       "      nucleotide     score                    species  raw_position    strand  \\\n",
       "21583       TTTA  3.355628  VT10670|1|MEMB002A|-|2087            30  negative   \n",
       "21684       TAAA  3.355628  VT10670|1|MEMB002A|-|2087            81  positive   \n",
       "21771       TTTA  3.355628  VT10670|1|MEMB002A|-|2087           124  negative   \n",
       "21852       TAAA  3.355628  VT10670|1|MEMB002A|-|2087           165  positive   \n",
       "21941       GTTA  4.317153  VT10670|1|MEMB002A|-|2087           209  negative   \n",
       "\n",
       "       align_position          motif  \n",
       "21583              37  bcd_FlyReg.fm  \n",
       "21684              97  bcd_FlyReg.fm  \n",
       "21771             167  bcd_FlyReg.fm  \n",
       "21852             218  bcd_FlyReg.fm  \n",
       "21941             283  bcd_FlyReg.fm  "
      ]
     },
     "execution_count": 5,
     "metadata": {},
     "output_type": "execute_result"
    }
   ],
   "source": [
    "view_data(align3_results, \"filtered\").head()"
   ]
  },
  {
   "cell_type": "code",
   "execution_count": 6,
   "metadata": {},
   "outputs": [
    {
     "data": {
      "text/html": [
       "<div>\n",
       "<style scoped>\n",
       "    .dataframe tbody tr th:only-of-type {\n",
       "        vertical-align: middle;\n",
       "    }\n",
       "\n",
       "    .dataframe tbody tr th {\n",
       "        vertical-align: top;\n",
       "    }\n",
       "\n",
       "    .dataframe thead th {\n",
       "        text-align: right;\n",
       "    }\n",
       "</style>\n",
       "<table border=\"1\" class=\"dataframe\">\n",
       "  <thead>\n",
       "    <tr style=\"text-align: right;\">\n",
       "      <th></th>\n",
       "      <th>Species with TFBS at Position</th>\n",
       "      <th>Count</th>\n",
       "    </tr>\n",
       "  </thead>\n",
       "  <tbody>\n",
       "    <tr>\n",
       "      <th>0</th>\n",
       "      <td>(VT10670|1|MEMB002A|-|2087, VT10670|1|MEMB002B...</td>\n",
       "      <td>13</td>\n",
       "    </tr>\n",
       "    <tr>\n",
       "      <th>1</th>\n",
       "      <td>(VT10670|1|MEMB002A|-|2087, VT10670|1|MEMB002B...</td>\n",
       "      <td>1</td>\n",
       "    </tr>\n",
       "    <tr>\n",
       "      <th>2</th>\n",
       "      <td>(VT10670|1|MEMB002A|-|2087, VT10670|1|MEMB002B...</td>\n",
       "      <td>4</td>\n",
       "    </tr>\n",
       "    <tr>\n",
       "      <th>3</th>\n",
       "      <td>(VT10670|1|MEMB002A|-|2087, VT10670|1|MEMB002B...</td>\n",
       "      <td>1</td>\n",
       "    </tr>\n",
       "    <tr>\n",
       "      <th>4</th>\n",
       "      <td>(VT10670|1|MEMB002A|-|2087, VT10670|1|MEMB002B...</td>\n",
       "      <td>1</td>\n",
       "    </tr>\n",
       "  </tbody>\n",
       "</table>\n",
       "</div>"
      ],
      "text/plain": [
       "                       Species with TFBS at Position  Count\n",
       "0  (VT10670|1|MEMB002A|-|2087, VT10670|1|MEMB002B...     13\n",
       "1  (VT10670|1|MEMB002A|-|2087, VT10670|1|MEMB002B...      1\n",
       "2  (VT10670|1|MEMB002A|-|2087, VT10670|1|MEMB002B...      4\n",
       "3  (VT10670|1|MEMB002A|-|2087, VT10670|1|MEMB002B...      1\n",
       "4  (VT10670|1|MEMB002A|-|2087, VT10670|1|MEMB002B...      1"
      ]
     },
     "execution_count": 6,
     "metadata": {},
     "output_type": "execute_result"
    }
   ],
   "source": [
    "view_data(align3_results, \"grouped\").head()"
   ]
  },
  {
   "cell_type": "code",
   "execution_count": 7,
   "metadata": {
    "scrolled": false
   },
   "outputs": [
    {
     "data": {
      "text/html": [
       "<div>\n",
       "<style scoped>\n",
       "    .dataframe tbody tr th:only-of-type {\n",
       "        vertical-align: middle;\n",
       "    }\n",
       "\n",
       "    .dataframe tbody tr th {\n",
       "        vertical-align: top;\n",
       "    }\n",
       "\n",
       "    .dataframe thead th {\n",
       "        text-align: right;\n",
       "    }\n",
       "</style>\n",
       "<table border=\"1\" class=\"dataframe\">\n",
       "  <thead>\n",
       "    <tr style=\"text-align: right;\">\n",
       "      <th></th>\n",
       "      <th>Species with TFBS at Position</th>\n",
       "      <th>Count</th>\n",
       "    </tr>\n",
       "  </thead>\n",
       "  <tbody>\n",
       "    <tr>\n",
       "      <th>0</th>\n",
       "      <td>(VT10670|1|MEMB002A|-|2087, VT10670|1|MEMB002B...</td>\n",
       "      <td>13</td>\n",
       "    </tr>\n",
       "    <tr>\n",
       "      <th>83</th>\n",
       "      <td>(VT10670|1|MEMB002E|+|2138,)</td>\n",
       "      <td>13</td>\n",
       "    </tr>\n",
       "    <tr>\n",
       "      <th>96</th>\n",
       "      <td>(VT10670|1|MEMB002F|-|2363,)</td>\n",
       "      <td>33</td>\n",
       "    </tr>\n",
       "    <tr>\n",
       "      <th>113</th>\n",
       "      <td>(VT10670|1|MEMB003B|+|2146,)</td>\n",
       "      <td>8</td>\n",
       "    </tr>\n",
       "    <tr>\n",
       "      <th>134</th>\n",
       "      <td>(VT10670|1|MEMB004E|-|2132,)</td>\n",
       "      <td>11</td>\n",
       "    </tr>\n",
       "    <tr>\n",
       "      <th>135</th>\n",
       "      <td>(VT10670|1|MEMB005B|+|2166,)</td>\n",
       "      <td>8</td>\n",
       "    </tr>\n",
       "    <tr>\n",
       "      <th>140</th>\n",
       "      <td>(VT10670|1|MEMB006A|-|2951,)</td>\n",
       "      <td>32</td>\n",
       "    </tr>\n",
       "    <tr>\n",
       "      <th>141</th>\n",
       "      <td>(VT10670|1|MEMB006B|-|2132,)</td>\n",
       "      <td>8</td>\n",
       "    </tr>\n",
       "    <tr>\n",
       "      <th>146</th>\n",
       "      <td>(VT10670|1|MEMB007D|+|2132,)</td>\n",
       "      <td>13</td>\n",
       "    </tr>\n",
       "  </tbody>\n",
       "</table>\n",
       "</div>"
      ],
      "text/plain": [
       "                         Species with TFBS at Position  Count\n",
       "0    (VT10670|1|MEMB002A|-|2087, VT10670|1|MEMB002B...     13\n",
       "83                        (VT10670|1|MEMB002E|+|2138,)     13\n",
       "96                        (VT10670|1|MEMB002F|-|2363,)     33\n",
       "113                       (VT10670|1|MEMB003B|+|2146,)      8\n",
       "134                       (VT10670|1|MEMB004E|-|2132,)     11\n",
       "135                       (VT10670|1|MEMB005B|+|2166,)      8\n",
       "140                       (VT10670|1|MEMB006A|-|2951,)     32\n",
       "141                       (VT10670|1|MEMB006B|-|2132,)      8\n",
       "146                       (VT10670|1|MEMB007D|+|2132,)     13"
      ]
     },
     "execution_count": 7,
     "metadata": {},
     "output_type": "execute_result"
    }
   ],
   "source": [
    "view_data(align3_results, \"frequent\")"
   ]
  },
  {
   "cell_type": "code",
   "execution_count": 7,
   "metadata": {},
   "outputs": [
    {
     "data": {
      "text/html": [
       "<div>\n",
       "<style scoped>\n",
       "    .dataframe tbody tr th:only-of-type {\n",
       "        vertical-align: middle;\n",
       "    }\n",
       "\n",
       "    .dataframe tbody tr th {\n",
       "        vertical-align: top;\n",
       "    }\n",
       "\n",
       "    .dataframe thead th {\n",
       "        text-align: right;\n",
       "    }\n",
       "</style>\n",
       "<table border=\"1\" class=\"dataframe\">\n",
       "  <thead>\n",
       "    <tr style=\"text-align: right;\">\n",
       "      <th></th>\n",
       "      <th>Species with TFBS at Position</th>\n",
       "      <th>Count</th>\n",
       "    </tr>\n",
       "  </thead>\n",
       "  <tbody>\n",
       "    <tr>\n",
       "      <th>5</th>\n",
       "      <td>(VT10670|1|MEMB002F|-|2363,)</td>\n",
       "      <td>33</td>\n",
       "    </tr>\n",
       "  </tbody>\n",
       "</table>\n",
       "</div>"
      ],
      "text/plain": [
       "  Species with TFBS at Position  Count\n",
       "5  (VT10670|1|MEMB002F|-|2363,)     33"
      ]
     },
     "execution_count": 7,
     "metadata": {},
     "output_type": "execute_result"
    }
   ],
   "source": [
    "view_data(align3_results, \"most frequent\")"
   ]
  },
  {
   "cell_type": "code",
   "execution_count": 12,
   "metadata": {},
   "outputs": [],
   "source": [
    "#trial = frequent_across_alignments(files[0:2], motif_path, 95)"
   ]
  },
  {
   "cell_type": "code",
   "execution_count": 13,
   "metadata": {
    "scrolled": true
   },
   "outputs": [],
   "source": [
    "#trial.head(15)"
   ]
  },
  {
   "cell_type": "markdown",
   "metadata": {},
   "source": [
    "## 2/4 Scratchwork"
   ]
  },
  {
   "cell_type": "markdown",
   "metadata": {},
   "source": [
    "Modified \"positions\" function in threshold_setter.py to yield nucleotides at positions"
   ]
  },
  {
   "cell_type": "code",
   "execution_count": 8,
   "metadata": {},
   "outputs": [],
   "source": [
    "file = files[0]\n",
    "motif = '../data/pwm/cad_FlyReg.fm'"
   ]
  },
  {
   "cell_type": "code",
   "execution_count": 9,
   "metadata": {},
   "outputs": [],
   "source": [
    "\n",
    "curr_file = read_records(file)\n",
    "curr_motif = read_motif(motif)\n",
    "curr_raw = raw_sequence_ungap(curr_file)\n",
    "curr_cast = cast_sequence(curr_raw)\n",
    "curr_motif_name = os.path.basename(motif) \n",
    "\n",
    "len_raw = len(extract_len_id(curr_raw, curr_cast))\n",
    "raw_df = pd.DataFrame(positions(curr_raw, curr_cast, curr_motif))\n",
    "temp_df = positive_positions(raw_df)\n",
    "temp_df = define_sign(temp_df)\n",
    "\n",
    "final_df = merge_align_df(temp_df, curr_file, len_raw)\n",
    "final_df['motif'] = curr_motif_name"
   ]
  },
  {
   "cell_type": "code",
   "execution_count": 10,
   "metadata": {},
   "outputs": [
    {
     "data": {
      "text/html": [
       "<div>\n",
       "<style scoped>\n",
       "    .dataframe tbody tr th:only-of-type {\n",
       "        vertical-align: middle;\n",
       "    }\n",
       "\n",
       "    .dataframe tbody tr th {\n",
       "        vertical-align: top;\n",
       "    }\n",
       "\n",
       "    .dataframe thead th {\n",
       "        text-align: right;\n",
       "    }\n",
       "</style>\n",
       "<table border=\"1\" class=\"dataframe\">\n",
       "  <thead>\n",
       "    <tr style=\"text-align: right;\">\n",
       "      <th></th>\n",
       "      <th>nucleotide</th>\n",
       "      <th>position</th>\n",
       "      <th>score</th>\n",
       "      <th>seq_len</th>\n",
       "      <th>species</th>\n",
       "    </tr>\n",
       "  </thead>\n",
       "  <tbody>\n",
       "    <tr>\n",
       "      <th>0</th>\n",
       "      <td>AACT</td>\n",
       "      <td>0</td>\n",
       "      <td>1.593877</td>\n",
       "      <td>2300</td>\n",
       "      <td>VT0850|1|MEMB007D|+|2300</td>\n",
       "    </tr>\n",
       "    <tr>\n",
       "      <th>1</th>\n",
       "      <td>AACT</td>\n",
       "      <td>-2300</td>\n",
       "      <td>-2.991086</td>\n",
       "      <td>2300</td>\n",
       "      <td>VT0850|1|MEMB007D|+|2300</td>\n",
       "    </tr>\n",
       "    <tr>\n",
       "      <th>2</th>\n",
       "      <td>ACTT</td>\n",
       "      <td>1</td>\n",
       "      <td>-2.991086</td>\n",
       "      <td>2300</td>\n",
       "      <td>VT0850|1|MEMB007D|+|2300</td>\n",
       "    </tr>\n",
       "    <tr>\n",
       "      <th>3</th>\n",
       "      <td>ACTT</td>\n",
       "      <td>-2299</td>\n",
       "      <td>-0.406123</td>\n",
       "      <td>2300</td>\n",
       "      <td>VT0850|1|MEMB007D|+|2300</td>\n",
       "    </tr>\n",
       "    <tr>\n",
       "      <th>4</th>\n",
       "      <td>CTTT</td>\n",
       "      <td>2</td>\n",
       "      <td>-1.406123</td>\n",
       "      <td>2300</td>\n",
       "      <td>VT0850|1|MEMB007D|+|2300</td>\n",
       "    </tr>\n",
       "  </tbody>\n",
       "</table>\n",
       "</div>"
      ],
      "text/plain": [
       "  nucleotide  position     score  seq_len                   species\n",
       "0       AACT         0  1.593877     2300  VT0850|1|MEMB007D|+|2300\n",
       "1       AACT     -2300 -2.991086     2300  VT0850|1|MEMB007D|+|2300\n",
       "2       ACTT         1 -2.991086     2300  VT0850|1|MEMB007D|+|2300\n",
       "3       ACTT     -2299 -0.406123     2300  VT0850|1|MEMB007D|+|2300\n",
       "4       CTTT         2 -1.406123     2300  VT0850|1|MEMB007D|+|2300"
      ]
     },
     "execution_count": 10,
     "metadata": {},
     "output_type": "execute_result"
    }
   ],
   "source": [
    "raw_df.head()"
   ]
  }
 ],
 "metadata": {
  "anaconda-cloud": {},
  "kernelspec": {
   "display_name": "Python 3",
   "language": "python",
   "name": "python3"
  },
  "language_info": {
   "codemirror_mode": {
    "name": "ipython",
    "version": 3
   },
   "file_extension": ".py",
   "mimetype": "text/x-python",
   "name": "python",
   "nbconvert_exporter": "python",
   "pygments_lexer": "ipython3",
   "version": "3.7.1"
  }
 },
 "nbformat": 4,
 "nbformat_minor": 2
}
