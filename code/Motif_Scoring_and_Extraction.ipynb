{
 "cells": [
  {
   "cell_type": "markdown",
   "metadata": {},
   "source": [
    "## Motif Mapping\n",
    "\n",
    "Using Ciera Martinez's map_motif.py in a generalized jupyter notebook function."
   ]
  },
  {
   "cell_type": "code",
   "execution_count": 2,
   "metadata": {
    "collapsed": false
   },
   "outputs": [],
   "source": [
    "import numpy as np\n",
    "import pandas as pd\n",
    "import re\n",
    "import Bio\n",
    "\n",
    "# For computations\n",
    "import string\n",
    "import random\n",
    "import matplotlib.pyplot as plt; plt.rcdefaults()\n",
    "import matplotlib.pyplot as plt\n",
    "\n",
    "from Bio import SeqIO\n",
    "from Bio import pairwise2\n",
    "from IPython.display import Image\n",
    "from Bio.pairwise2 import format_alignment\n",
    "from glob import glob\n",
    "import seaborn as sns\n",
    "import matplotlib.pyplot as plt\n",
    "from IPython.display import display\n",
    "%matplotlib inline\n",
    "plt.style.use('fivethirtyeight')\n",
    "\n",
    "import os, sys\n",
    "from Bio import motifs\n",
    "from Bio.Seq import Seq\n",
    "from Bio.SeqRecord import SeqRecord\n",
    "from Bio.Alphabet import IUPAC, generic_dna, generic_protein\n",
    "\n",
    "# Import definitions & functions from .py file:\n",
    "from MSE import *"
   ]
  },
  {
   "cell_type": "markdown",
   "metadata": {},
   "source": [
    "### Pipeline\n",
    "* The following cell uses **all** of the functions in MSE.py through the pipeline function, and compiles all the results in the variable align3_results.\n",
    "* pipeline may take a few minutes to run!"
   ]
  },
  {
   "cell_type": "code",
   "execution_count": 3,
   "metadata": {
    "collapsed": false
   },
   "outputs": [],
   "source": [
    "align_path = '../data/alignments/*0.fa' # Multiple alignment files\n",
    "motif_path = '../data/pwm/bcd_FlyReg.fm' # 1 motif file\n",
    "align3_results = pipeline(align_path, motif_path, 3, percentile=95)"
   ]
  },
  {
   "cell_type": "markdown",
   "metadata": {},
   "source": [
    "## Viewing the Results\n",
    "* view_data is merely a convenience function that allows users to specify which part of the (very large) output to look at.\n",
    "* See the documentation of view_data for more info"
   ]
  },
  {
   "cell_type": "code",
   "execution_count": 5,
   "metadata": {
    "collapsed": false,
    "scrolled": false
   },
   "outputs": [
    {
     "data": {
      "text/html": [
       "<div>\n",
       "<table border=\"1\" class=\"dataframe\">\n",
       "  <thead>\n",
       "    <tr style=\"text-align: right;\">\n",
       "      <th></th>\n",
       "      <th>score</th>\n",
       "      <th>species</th>\n",
       "      <th>raw_position</th>\n",
       "      <th>strand</th>\n",
       "      <th>align_position</th>\n",
       "      <th>motif</th>\n",
       "    </tr>\n",
       "  </thead>\n",
       "  <tbody>\n",
       "    <tr>\n",
       "      <th>5865</th>\n",
       "      <td>3.255753</td>\n",
       "      <td>VT10670|1|MEMB002A|-|2087</td>\n",
       "      <td>5.0</td>\n",
       "      <td>negative</td>\n",
       "      <td>6</td>\n",
       "      <td>bcd_FlyReg.fm</td>\n",
       "    </tr>\n",
       "    <tr>\n",
       "      <th>5880</th>\n",
       "      <td>3.355628</td>\n",
       "      <td>VT10670|1|MEMB002A|-|2087</td>\n",
       "      <td>30.0</td>\n",
       "      <td>negative</td>\n",
       "      <td>37</td>\n",
       "      <td>bcd_FlyReg.fm</td>\n",
       "    </tr>\n",
       "    <tr>\n",
       "      <th>5889</th>\n",
       "      <td>3.255753</td>\n",
       "      <td>VT10670|1|MEMB002A|-|2087</td>\n",
       "      <td>42.0</td>\n",
       "      <td>positive</td>\n",
       "      <td>49</td>\n",
       "      <td>bcd_FlyReg.fm</td>\n",
       "    </tr>\n",
       "    <tr>\n",
       "      <th>5906</th>\n",
       "      <td>3.255753</td>\n",
       "      <td>VT10670|1|MEMB002A|-|2087</td>\n",
       "      <td>70.0</td>\n",
       "      <td>negative</td>\n",
       "      <td>85</td>\n",
       "      <td>bcd_FlyReg.fm</td>\n",
       "    </tr>\n",
       "    <tr>\n",
       "      <th>5914</th>\n",
       "      <td>3.355628</td>\n",
       "      <td>VT10670|1|MEMB002A|-|2087</td>\n",
       "      <td>81.0</td>\n",
       "      <td>positive</td>\n",
       "      <td>97</td>\n",
       "      <td>bcd_FlyReg.fm</td>\n",
       "    </tr>\n",
       "  </tbody>\n",
       "</table>\n",
       "</div>"
      ],
      "text/plain": [
       "         score                    species  raw_position    strand  \\\n",
       "5865  3.255753  VT10670|1|MEMB002A|-|2087           5.0  negative   \n",
       "5880  3.355628  VT10670|1|MEMB002A|-|2087          30.0  negative   \n",
       "5889  3.255753  VT10670|1|MEMB002A|-|2087          42.0  positive   \n",
       "5906  3.255753  VT10670|1|MEMB002A|-|2087          70.0  negative   \n",
       "5914  3.355628  VT10670|1|MEMB002A|-|2087          81.0  positive   \n",
       "\n",
       "      align_position          motif  \n",
       "5865               6  bcd_FlyReg.fm  \n",
       "5880              37  bcd_FlyReg.fm  \n",
       "5889              49  bcd_FlyReg.fm  \n",
       "5906              85  bcd_FlyReg.fm  \n",
       "5914              97  bcd_FlyReg.fm  "
      ]
     },
     "execution_count": 5,
     "metadata": {},
     "output_type": "execute_result"
    }
   ],
   "source": [
    "view_data(align3_results, \"filtered\").head()"
   ]
  },
  {
   "cell_type": "code",
   "execution_count": 6,
   "metadata": {
    "collapsed": false
   },
   "outputs": [
    {
     "data": {
      "text/html": [
       "<div>\n",
       "<table border=\"1\" class=\"dataframe\">\n",
       "  <thead>\n",
       "    <tr style=\"text-align: right;\">\n",
       "      <th></th>\n",
       "      <th>Species with TFBS at Position</th>\n",
       "      <th>Count</th>\n",
       "    </tr>\n",
       "  </thead>\n",
       "  <tbody>\n",
       "    <tr>\n",
       "      <th>0</th>\n",
       "      <td>(VT10670|1|MEMB006B|-|2132,)</td>\n",
       "      <td>14</td>\n",
       "    </tr>\n",
       "    <tr>\n",
       "      <th>1</th>\n",
       "      <td>(VT10670|1|MEMB002F|-|2363, VT10670|1|MEMB003B...</td>\n",
       "      <td>1</td>\n",
       "    </tr>\n",
       "    <tr>\n",
       "      <th>2</th>\n",
       "      <td>(VT10670|1|MEMB003D|-|2148,)</td>\n",
       "      <td>3</td>\n",
       "    </tr>\n",
       "    <tr>\n",
       "      <th>3</th>\n",
       "      <td>(VT10670|1|MEMB002A|-|2087, VT10670|1|MEMB002B...</td>\n",
       "      <td>31</td>\n",
       "    </tr>\n",
       "    <tr>\n",
       "      <th>4</th>\n",
       "      <td>(VT10670|1|MEMB002A|-|2087, VT10670|1|MEMB002B...</td>\n",
       "      <td>1</td>\n",
       "    </tr>\n",
       "  </tbody>\n",
       "</table>\n",
       "</div>"
      ],
      "text/plain": [
       "                       Species with TFBS at Position  Count\n",
       "0                       (VT10670|1|MEMB006B|-|2132,)     14\n",
       "1  (VT10670|1|MEMB002F|-|2363, VT10670|1|MEMB003B...      1\n",
       "2                       (VT10670|1|MEMB003D|-|2148,)      3\n",
       "3  (VT10670|1|MEMB002A|-|2087, VT10670|1|MEMB002B...     31\n",
       "4  (VT10670|1|MEMB002A|-|2087, VT10670|1|MEMB002B...      1"
      ]
     },
     "execution_count": 6,
     "metadata": {},
     "output_type": "execute_result"
    }
   ],
   "source": [
    "view_data(align3_results, \"grouped\").head()"
   ]
  },
  {
   "cell_type": "code",
   "execution_count": 7,
   "metadata": {
    "collapsed": false,
    "scrolled": false
   },
   "outputs": [
    {
     "data": {
      "text/html": [
       "<div>\n",
       "<table border=\"1\" class=\"dataframe\">\n",
       "  <thead>\n",
       "    <tr style=\"text-align: right;\">\n",
       "      <th></th>\n",
       "      <th>Species with TFBS at Position</th>\n",
       "      <th>Count</th>\n",
       "    </tr>\n",
       "  </thead>\n",
       "  <tbody>\n",
       "    <tr>\n",
       "      <th>0</th>\n",
       "      <td>(VT10670|1|MEMB006B|-|2132,)</td>\n",
       "      <td>14</td>\n",
       "    </tr>\n",
       "    <tr>\n",
       "      <th>3</th>\n",
       "      <td>(VT10670|1|MEMB002A|-|2087, VT10670|1|MEMB002B...</td>\n",
       "      <td>31</td>\n",
       "    </tr>\n",
       "    <tr>\n",
       "      <th>7</th>\n",
       "      <td>(VT10670|1|MEMB006A|-|2951,)</td>\n",
       "      <td>71</td>\n",
       "    </tr>\n",
       "    <tr>\n",
       "      <th>12</th>\n",
       "      <td>(VT10670|1|MEMB005B|+|2166,)</td>\n",
       "      <td>15</td>\n",
       "    </tr>\n",
       "    <tr>\n",
       "      <th>18</th>\n",
       "      <td>(VT10670|1|MEMB007C|+|2121,)</td>\n",
       "      <td>12</td>\n",
       "    </tr>\n",
       "  </tbody>\n",
       "</table>\n",
       "</div>"
      ],
      "text/plain": [
       "                        Species with TFBS at Position  Count\n",
       "0                        (VT10670|1|MEMB006B|-|2132,)     14\n",
       "3   (VT10670|1|MEMB002A|-|2087, VT10670|1|MEMB002B...     31\n",
       "7                        (VT10670|1|MEMB006A|-|2951,)     71\n",
       "12                       (VT10670|1|MEMB005B|+|2166,)     15\n",
       "18                       (VT10670|1|MEMB007C|+|2121,)     12"
      ]
     },
     "execution_count": 7,
     "metadata": {},
     "output_type": "execute_result"
    }
   ],
   "source": [
    "view_data(align3_results, \"frequent\").head()"
   ]
  },
  {
   "cell_type": "code",
   "execution_count": 8,
   "metadata": {
    "collapsed": false
   },
   "outputs": [
    {
     "data": {
      "text/html": [
       "<div>\n",
       "<table border=\"1\" class=\"dataframe\">\n",
       "  <thead>\n",
       "    <tr style=\"text-align: right;\">\n",
       "      <th></th>\n",
       "      <th>Species with TFBS at Position</th>\n",
       "      <th>Count</th>\n",
       "    </tr>\n",
       "  </thead>\n",
       "  <tbody>\n",
       "    <tr>\n",
       "      <th>7</th>\n",
       "      <td>(VT10670|1|MEMB006A|-|2951,)</td>\n",
       "      <td>71</td>\n",
       "    </tr>\n",
       "  </tbody>\n",
       "</table>\n",
       "</div>"
      ],
      "text/plain": [
       "  Species with TFBS at Position  Count\n",
       "7  (VT10670|1|MEMB006A|-|2951,)     71"
      ]
     },
     "execution_count": 8,
     "metadata": {},
     "output_type": "execute_result"
    }
   ],
   "source": [
    "view_data(align3_results, \"most frequent\")"
   ]
  },
  {
   "cell_type": "code",
   "execution_count": null,
   "metadata": {
    "collapsed": true
   },
   "outputs": [],
   "source": []
  }
 ],
 "metadata": {
  "anaconda-cloud": {},
  "kernelspec": {
   "display_name": "Python [Root]",
   "language": "python",
   "name": "Python [Root]"
  },
  "language_info": {
   "codemirror_mode": {
    "name": "ipython",
    "version": 3
   },
   "file_extension": ".py",
   "mimetype": "text/x-python",
   "name": "python",
   "nbconvert_exporter": "python",
   "pygments_lexer": "ipython3",
   "version": "3.5.2"
  }
 },
 "nbformat": 4,
 "nbformat_minor": 2
}
