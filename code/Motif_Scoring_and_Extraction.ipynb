{
 "cells": [
  {
   "cell_type": "markdown",
   "metadata": {},
   "source": [
    "## Motif Mapping\n",
    "\n",
    "Using Ciera Martinez's map_motif.py in a generalized jupyter notebook function."
   ]
  },
  {
   "cell_type": "code",
   "execution_count": 12,
   "metadata": {
    "collapsed": false
   },
   "outputs": [],
   "source": [
    "# Import definitions & functions from .py file:\n",
    "from MSE import *"
   ]
  },
  {
   "cell_type": "markdown",
   "metadata": {},
   "source": [
    "### Pipeline\n",
    "* The following cell uses **all** of the functions in MSE.py through the pipeline function, and compiles all the results in the variable align3_results.\n",
    "* pipeline might take a minute to run!"
   ]
  },
  {
   "cell_type": "code",
   "execution_count": 13,
   "metadata": {
    "collapsed": false
   },
   "outputs": [],
   "source": [
    "align_path = '../data/alignments/*0.fa' # Multiple alignment files\n",
    "motif_path = '../data/pwm/bcd_FlyReg.fm' # 1 motif file\n",
    "files = glob(align_path)\n",
    "align3_results = pipeline(files[3], motif_path, percentile=95)"
   ]
  },
  {
   "cell_type": "markdown",
   "metadata": {},
   "source": [
    "## Viewing the Results\n",
    "* view_data is merely a convenience function that allows users to specify which part of the (very large) output to look at.\n",
    "* See the documentation of view_data for more info"
   ]
  },
  {
   "cell_type": "code",
   "execution_count": 4,
   "metadata": {
    "collapsed": false,
    "scrolled": false
   },
   "outputs": [
    {
     "data": {
      "text/html": [
       "<div>\n",
       "<table border=\"1\" class=\"dataframe\">\n",
       "  <thead>\n",
       "    <tr style=\"text-align: right;\">\n",
       "      <th></th>\n",
       "      <th>score</th>\n",
       "      <th>species</th>\n",
       "      <th>raw_position</th>\n",
       "      <th>strand</th>\n",
       "      <th>align_position</th>\n",
       "      <th>motif</th>\n",
       "    </tr>\n",
       "  </thead>\n",
       "  <tbody>\n",
       "    <tr>\n",
       "      <th>5865</th>\n",
       "      <td>3.255753</td>\n",
       "      <td>VT10670|1|MEMB002A|-|2087</td>\n",
       "      <td>5.0</td>\n",
       "      <td>negative</td>\n",
       "      <td>6</td>\n",
       "      <td>bcd_FlyReg.fm</td>\n",
       "    </tr>\n",
       "    <tr>\n",
       "      <th>5880</th>\n",
       "      <td>3.355628</td>\n",
       "      <td>VT10670|1|MEMB002A|-|2087</td>\n",
       "      <td>30.0</td>\n",
       "      <td>negative</td>\n",
       "      <td>37</td>\n",
       "      <td>bcd_FlyReg.fm</td>\n",
       "    </tr>\n",
       "    <tr>\n",
       "      <th>5889</th>\n",
       "      <td>3.255753</td>\n",
       "      <td>VT10670|1|MEMB002A|-|2087</td>\n",
       "      <td>42.0</td>\n",
       "      <td>positive</td>\n",
       "      <td>49</td>\n",
       "      <td>bcd_FlyReg.fm</td>\n",
       "    </tr>\n",
       "    <tr>\n",
       "      <th>5906</th>\n",
       "      <td>3.255753</td>\n",
       "      <td>VT10670|1|MEMB002A|-|2087</td>\n",
       "      <td>70.0</td>\n",
       "      <td>negative</td>\n",
       "      <td>85</td>\n",
       "      <td>bcd_FlyReg.fm</td>\n",
       "    </tr>\n",
       "    <tr>\n",
       "      <th>5914</th>\n",
       "      <td>3.355628</td>\n",
       "      <td>VT10670|1|MEMB002A|-|2087</td>\n",
       "      <td>81.0</td>\n",
       "      <td>positive</td>\n",
       "      <td>97</td>\n",
       "      <td>bcd_FlyReg.fm</td>\n",
       "    </tr>\n",
       "  </tbody>\n",
       "</table>\n",
       "</div>"
      ],
      "text/plain": [
       "         score                    species  raw_position    strand  \\\n",
       "5865  3.255753  VT10670|1|MEMB002A|-|2087           5.0  negative   \n",
       "5880  3.355628  VT10670|1|MEMB002A|-|2087          30.0  negative   \n",
       "5889  3.255753  VT10670|1|MEMB002A|-|2087          42.0  positive   \n",
       "5906  3.255753  VT10670|1|MEMB002A|-|2087          70.0  negative   \n",
       "5914  3.355628  VT10670|1|MEMB002A|-|2087          81.0  positive   \n",
       "\n",
       "      align_position          motif  \n",
       "5865               6  bcd_FlyReg.fm  \n",
       "5880              37  bcd_FlyReg.fm  \n",
       "5889              49  bcd_FlyReg.fm  \n",
       "5906              85  bcd_FlyReg.fm  \n",
       "5914              97  bcd_FlyReg.fm  "
      ]
     },
     "execution_count": 4,
     "metadata": {},
     "output_type": "execute_result"
    }
   ],
   "source": [
    "view_data(align3_results, \"filtered\").head()"
   ]
  },
  {
   "cell_type": "code",
   "execution_count": 5,
   "metadata": {
    "collapsed": false
   },
   "outputs": [
    {
     "data": {
      "text/html": [
       "<div>\n",
       "<table border=\"1\" class=\"dataframe\">\n",
       "  <thead>\n",
       "    <tr style=\"text-align: right;\">\n",
       "      <th></th>\n",
       "      <th>Species with TFBS at Position</th>\n",
       "      <th>Count</th>\n",
       "    </tr>\n",
       "  </thead>\n",
       "  <tbody>\n",
       "    <tr>\n",
       "      <th>0</th>\n",
       "      <td>(VT10670|1|MEMB006B|-|2132,)</td>\n",
       "      <td>14</td>\n",
       "    </tr>\n",
       "    <tr>\n",
       "      <th>1</th>\n",
       "      <td>(VT10670|1|MEMB002F|-|2363, VT10670|1|MEMB003B...</td>\n",
       "      <td>1</td>\n",
       "    </tr>\n",
       "    <tr>\n",
       "      <th>2</th>\n",
       "      <td>(VT10670|1|MEMB003D|-|2148,)</td>\n",
       "      <td>3</td>\n",
       "    </tr>\n",
       "    <tr>\n",
       "      <th>3</th>\n",
       "      <td>(VT10670|1|MEMB002A|-|2087, VT10670|1|MEMB002B...</td>\n",
       "      <td>31</td>\n",
       "    </tr>\n",
       "    <tr>\n",
       "      <th>4</th>\n",
       "      <td>(VT10670|1|MEMB002A|-|2087, VT10670|1|MEMB002B...</td>\n",
       "      <td>1</td>\n",
       "    </tr>\n",
       "  </tbody>\n",
       "</table>\n",
       "</div>"
      ],
      "text/plain": [
       "                       Species with TFBS at Position  Count\n",
       "0                       (VT10670|1|MEMB006B|-|2132,)     14\n",
       "1  (VT10670|1|MEMB002F|-|2363, VT10670|1|MEMB003B...      1\n",
       "2                       (VT10670|1|MEMB003D|-|2148,)      3\n",
       "3  (VT10670|1|MEMB002A|-|2087, VT10670|1|MEMB002B...     31\n",
       "4  (VT10670|1|MEMB002A|-|2087, VT10670|1|MEMB002B...      1"
      ]
     },
     "execution_count": 5,
     "metadata": {},
     "output_type": "execute_result"
    }
   ],
   "source": [
    "view_data(align3_results, \"grouped\").head()"
   ]
  },
  {
   "cell_type": "code",
   "execution_count": 6,
   "metadata": {
    "collapsed": false,
    "scrolled": false
   },
   "outputs": [
    {
     "data": {
      "text/html": [
       "<div>\n",
       "<table border=\"1\" class=\"dataframe\">\n",
       "  <thead>\n",
       "    <tr style=\"text-align: right;\">\n",
       "      <th></th>\n",
       "      <th>Species with TFBS at Position</th>\n",
       "      <th>Count</th>\n",
       "    </tr>\n",
       "  </thead>\n",
       "  <tbody>\n",
       "    <tr>\n",
       "      <th>0</th>\n",
       "      <td>(VT10670|1|MEMB006B|-|2132,)</td>\n",
       "      <td>14</td>\n",
       "    </tr>\n",
       "    <tr>\n",
       "      <th>3</th>\n",
       "      <td>(VT10670|1|MEMB002A|-|2087, VT10670|1|MEMB002B...</td>\n",
       "      <td>31</td>\n",
       "    </tr>\n",
       "    <tr>\n",
       "      <th>7</th>\n",
       "      <td>(VT10670|1|MEMB006A|-|2951,)</td>\n",
       "      <td>71</td>\n",
       "    </tr>\n",
       "    <tr>\n",
       "      <th>12</th>\n",
       "      <td>(VT10670|1|MEMB005B|+|2166,)</td>\n",
       "      <td>15</td>\n",
       "    </tr>\n",
       "    <tr>\n",
       "      <th>18</th>\n",
       "      <td>(VT10670|1|MEMB007C|+|2121,)</td>\n",
       "      <td>12</td>\n",
       "    </tr>\n",
       "    <tr>\n",
       "      <th>24</th>\n",
       "      <td>(VT10670|1|MEMB002D|+|2107,)</td>\n",
       "      <td>12</td>\n",
       "    </tr>\n",
       "    <tr>\n",
       "      <th>27</th>\n",
       "      <td>(VT10670|1|MEMB003F|-|2171,)</td>\n",
       "      <td>8</td>\n",
       "    </tr>\n",
       "    <tr>\n",
       "      <th>34</th>\n",
       "      <td>(VT10670|1|MEMB004E|-|2132,)</td>\n",
       "      <td>14</td>\n",
       "    </tr>\n",
       "    <tr>\n",
       "      <th>37</th>\n",
       "      <td>(VT10670|1|MEMB002F|-|2363,)</td>\n",
       "      <td>44</td>\n",
       "    </tr>\n",
       "    <tr>\n",
       "      <th>44</th>\n",
       "      <td>(VT10670|1|MEMB003B|+|2146,)</td>\n",
       "      <td>14</td>\n",
       "    </tr>\n",
       "    <tr>\n",
       "      <th>45</th>\n",
       "      <td>(VT10670|1|MEMB007D|+|2132,)</td>\n",
       "      <td>25</td>\n",
       "    </tr>\n",
       "    <tr>\n",
       "      <th>53</th>\n",
       "      <td>(VT10670|1|MEMB002E|+|2138,)</td>\n",
       "      <td>13</td>\n",
       "    </tr>\n",
       "    <tr>\n",
       "      <th>64</th>\n",
       "      <td>(VT10670|1|MEMB008C|-|2217,)</td>\n",
       "      <td>17</td>\n",
       "    </tr>\n",
       "    <tr>\n",
       "      <th>74</th>\n",
       "      <td>(VT10670|1|MEMB004B|+|2152,)</td>\n",
       "      <td>12</td>\n",
       "    </tr>\n",
       "    <tr>\n",
       "      <th>129</th>\n",
       "      <td>(VT10670|1|MEMB003A|-|2112, VT10670|1|MEMB003D...</td>\n",
       "      <td>7</td>\n",
       "    </tr>\n",
       "  </tbody>\n",
       "</table>\n",
       "</div>"
      ],
      "text/plain": [
       "                         Species with TFBS at Position  Count\n",
       "0                         (VT10670|1|MEMB006B|-|2132,)     14\n",
       "3    (VT10670|1|MEMB002A|-|2087, VT10670|1|MEMB002B...     31\n",
       "7                         (VT10670|1|MEMB006A|-|2951,)     71\n",
       "12                        (VT10670|1|MEMB005B|+|2166,)     15\n",
       "18                        (VT10670|1|MEMB007C|+|2121,)     12\n",
       "24                        (VT10670|1|MEMB002D|+|2107,)     12\n",
       "27                        (VT10670|1|MEMB003F|-|2171,)      8\n",
       "34                        (VT10670|1|MEMB004E|-|2132,)     14\n",
       "37                        (VT10670|1|MEMB002F|-|2363,)     44\n",
       "44                        (VT10670|1|MEMB003B|+|2146,)     14\n",
       "45                        (VT10670|1|MEMB007D|+|2132,)     25\n",
       "53                        (VT10670|1|MEMB002E|+|2138,)     13\n",
       "64                        (VT10670|1|MEMB008C|-|2217,)     17\n",
       "74                        (VT10670|1|MEMB004B|+|2152,)     12\n",
       "129  (VT10670|1|MEMB003A|-|2112, VT10670|1|MEMB003D...      7"
      ]
     },
     "execution_count": 6,
     "metadata": {},
     "output_type": "execute_result"
    }
   ],
   "source": [
    "view_data(align3_results, \"frequent\")"
   ]
  },
  {
   "cell_type": "code",
   "execution_count": 7,
   "metadata": {
    "collapsed": false
   },
   "outputs": [
    {
     "data": {
      "text/html": [
       "<div>\n",
       "<table border=\"1\" class=\"dataframe\">\n",
       "  <thead>\n",
       "    <tr style=\"text-align: right;\">\n",
       "      <th></th>\n",
       "      <th>Species with TFBS at Position</th>\n",
       "      <th>Count</th>\n",
       "    </tr>\n",
       "  </thead>\n",
       "  <tbody>\n",
       "    <tr>\n",
       "      <th>7</th>\n",
       "      <td>(VT10670|1|MEMB006A|-|2951,)</td>\n",
       "      <td>71</td>\n",
       "    </tr>\n",
       "  </tbody>\n",
       "</table>\n",
       "</div>"
      ],
      "text/plain": [
       "  Species with TFBS at Position  Count\n",
       "7  (VT10670|1|MEMB006A|-|2951,)     71"
      ]
     },
     "execution_count": 7,
     "metadata": {},
     "output_type": "execute_result"
    }
   ],
   "source": [
    "view_data(align3_results, \"most frequent\")"
   ]
  },
  {
   "cell_type": "code",
   "execution_count": 8,
   "metadata": {
    "collapsed": false
   },
   "outputs": [],
   "source": [
    "trial = frequent_across_alignments(files[0:2], motif_path, 95)"
   ]
  },
  {
   "cell_type": "code",
   "execution_count": 9,
   "metadata": {
    "collapsed": false
   },
   "outputs": [
    {
     "data": {
      "text/html": [
       "<div>\n",
       "<table border=\"1\" class=\"dataframe\">\n",
       "  <thead>\n",
       "    <tr style=\"text-align: right;\">\n",
       "      <th></th>\n",
       "      <th>Species with TFBS at Position</th>\n",
       "      <th>Count</th>\n",
       "      <th>Alignment File</th>\n",
       "    </tr>\n",
       "  </thead>\n",
       "  <tbody>\n",
       "    <tr>\n",
       "      <th>0</th>\n",
       "      <td>(VT0850|1|dkik|-|2904,)</td>\n",
       "      <td>77</td>\n",
       "      <td>VT0850.fa</td>\n",
       "    </tr>\n",
       "    <tr>\n",
       "      <th>31</th>\n",
       "      <td>(VT0870|0|MEMB005D|-|2612,)</td>\n",
       "      <td>53</td>\n",
       "      <td>VT0870.fa</td>\n",
       "    </tr>\n",
       "    <tr>\n",
       "      <th>3</th>\n",
       "      <td>(VT0850|1|MEMB002A|-|2035, VT0850|1|MEMB002B|-...</td>\n",
       "      <td>49</td>\n",
       "      <td>VT0850.fa</td>\n",
       "    </tr>\n",
       "    <tr>\n",
       "      <th>38</th>\n",
       "      <td>(VT0870|0|MEMB007D|+|2418,)</td>\n",
       "      <td>37</td>\n",
       "      <td>VT0870.fa</td>\n",
       "    </tr>\n",
       "    <tr>\n",
       "      <th>1</th>\n",
       "      <td>(VT0870|0|MEMB002F|+|2269,)</td>\n",
       "      <td>30</td>\n",
       "      <td>VT0870.fa</td>\n",
       "    </tr>\n",
       "    <tr>\n",
       "      <th>34</th>\n",
       "      <td>(VT0870|0|MEMB002D|+|2332,)</td>\n",
       "      <td>29</td>\n",
       "      <td>VT0870.fa</td>\n",
       "    </tr>\n",
       "    <tr>\n",
       "      <th>7</th>\n",
       "      <td>(VT0850|1|MEMB006C|+|2323,)</td>\n",
       "      <td>28</td>\n",
       "      <td>VT0850.fa</td>\n",
       "    </tr>\n",
       "    <tr>\n",
       "      <th>10</th>\n",
       "      <td>(VT0850|1|MEMB008C|+|2426,)</td>\n",
       "      <td>24</td>\n",
       "      <td>VT0850.fa</td>\n",
       "    </tr>\n",
       "    <tr>\n",
       "      <th>4</th>\n",
       "      <td>(VT0850|1|MEMB007D|+|2300,)</td>\n",
       "      <td>23</td>\n",
       "      <td>VT0850.fa</td>\n",
       "    </tr>\n",
       "    <tr>\n",
       "      <th>14</th>\n",
       "      <td>(VT0850|1|MEMB005B|-|2353,)</td>\n",
       "      <td>21</td>\n",
       "      <td>VT0850.fa</td>\n",
       "    </tr>\n",
       "    <tr>\n",
       "      <th>26</th>\n",
       "      <td>(VT0850|1|MEMB003B|+|2201,)</td>\n",
       "      <td>20</td>\n",
       "      <td>VT0850.fa</td>\n",
       "    </tr>\n",
       "    <tr>\n",
       "      <th>200</th>\n",
       "      <td>(VT0870|0|MEMB006A|-|2231,)</td>\n",
       "      <td>19</td>\n",
       "      <td>VT0870.fa</td>\n",
       "    </tr>\n",
       "    <tr>\n",
       "      <th>6</th>\n",
       "      <td>(VT0870|0|MEMB006B|+|2118,)</td>\n",
       "      <td>18</td>\n",
       "      <td>VT0870.fa</td>\n",
       "    </tr>\n",
       "    <tr>\n",
       "      <th>29</th>\n",
       "      <td>(VT0850|1|MEMB002E|+|2250,)</td>\n",
       "      <td>17</td>\n",
       "      <td>VT0850.fa</td>\n",
       "    </tr>\n",
       "    <tr>\n",
       "      <th>64</th>\n",
       "      <td>(VT0870|0|MEMB005B|+|2264,)</td>\n",
       "      <td>17</td>\n",
       "      <td>VT0870.fa</td>\n",
       "    </tr>\n",
       "  </tbody>\n",
       "</table>\n",
       "</div>"
      ],
      "text/plain": [
       "                         Species with TFBS at Position  Count Alignment File\n",
       "0                              (VT0850|1|dkik|-|2904,)     77      VT0850.fa\n",
       "31                         (VT0870|0|MEMB005D|-|2612,)     53      VT0870.fa\n",
       "3    (VT0850|1|MEMB002A|-|2035, VT0850|1|MEMB002B|-...     49      VT0850.fa\n",
       "38                         (VT0870|0|MEMB007D|+|2418,)     37      VT0870.fa\n",
       "1                          (VT0870|0|MEMB002F|+|2269,)     30      VT0870.fa\n",
       "34                         (VT0870|0|MEMB002D|+|2332,)     29      VT0870.fa\n",
       "7                          (VT0850|1|MEMB006C|+|2323,)     28      VT0850.fa\n",
       "10                         (VT0850|1|MEMB008C|+|2426,)     24      VT0850.fa\n",
       "4                          (VT0850|1|MEMB007D|+|2300,)     23      VT0850.fa\n",
       "14                         (VT0850|1|MEMB005B|-|2353,)     21      VT0850.fa\n",
       "26                         (VT0850|1|MEMB003B|+|2201,)     20      VT0850.fa\n",
       "200                        (VT0870|0|MEMB006A|-|2231,)     19      VT0870.fa\n",
       "6                          (VT0870|0|MEMB006B|+|2118,)     18      VT0870.fa\n",
       "29                         (VT0850|1|MEMB002E|+|2250,)     17      VT0850.fa\n",
       "64                         (VT0870|0|MEMB005B|+|2264,)     17      VT0870.fa"
      ]
     },
     "execution_count": 9,
     "metadata": {},
     "output_type": "execute_result"
    }
   ],
   "source": [
    "trial.head(15)"
   ]
  }
 ],
 "metadata": {
  "anaconda-cloud": {},
  "kernelspec": {
   "display_name": "Python [Root]",
   "language": "python",
   "name": "Python [Root]"
  },
  "language_info": {
   "codemirror_mode": {
    "name": "ipython",
    "version": 3
   },
   "file_extension": ".py",
   "mimetype": "text/x-python",
   "name": "python",
   "nbconvert_exporter": "python",
   "pygments_lexer": "ipython3",
   "version": "3.5.2"
  }
 },
 "nbformat": 4,
 "nbformat_minor": 2
}
