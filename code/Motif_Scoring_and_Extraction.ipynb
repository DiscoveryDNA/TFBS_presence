{
 "cells": [
  {
   "cell_type": "markdown",
   "metadata": {},
   "source": [
    "## Motif Mapping\n",
    "\n",
    "Using Ciera Martinez's map_motif.py in a generalized jupyter notebook function."
   ]
  },
  {
   "cell_type": "code",
   "execution_count": 1,
   "metadata": {
    "collapsed": false
   },
   "outputs": [
    {
     "data": {
      "text/plain": [
       "80"
      ]
     },
     "execution_count": 1,
     "metadata": {},
     "output_type": "execute_result"
    }
   ],
   "source": [
    "# Import definitions & functions from .py file:\n",
    "from MSE import *\n",
    "tester"
   ]
  },
  {
   "cell_type": "markdown",
   "metadata": {},
   "source": [
    "### Pipeline\n",
    "* The following cell uses **all** of the functions in MSE.py through the pipeline function, and compiles all the results in the variable align3_results.\n",
    "* pipeline might take a minute to run!"
   ]
  },
  {
   "cell_type": "code",
   "execution_count": 2,
   "metadata": {
    "collapsed": false
   },
   "outputs": [],
   "source": [
    "align_path = '../data/alignments/*0.fa' # Multiple alignment files\n",
    "motif_path = '../data/pwm/bcd_FlyReg.fm' # 1 motif file\n",
    "files = glob(align_path)"
   ]
  },
  {
   "cell_type": "markdown",
   "metadata": {},
   "source": [
    "Stand cutoffs:\n",
    "3.3556277751922607,\n",
    "3.1788392066955566,\n",
    "3.44942045211792,\n",
    "6.678131580352783,"
   ]
  },
  {
   "cell_type": "code",
   "execution_count": 3,
   "metadata": {
    "collapsed": false
   },
   "outputs": [],
   "source": [
    "s = stand_cutoff(motif_path)"
   ]
  },
  {
   "cell_type": "code",
   "execution_count": 6,
   "metadata": {
    "collapsed": false
   },
   "outputs": [],
   "source": [
    "align3_results = pipeline(files[3], motif_path, s, percentile=95)"
   ]
  },
  {
   "cell_type": "markdown",
   "metadata": {},
   "source": [
    "## Viewing the Results\n",
    "* view_data is merely a convenience function that allows users to specify which part of the (very large) output to look at.\n",
    "* See the documentation of view_data for more info"
   ]
  },
  {
   "cell_type": "code",
   "execution_count": 7,
   "metadata": {
    "collapsed": false,
    "scrolled": false
   },
   "outputs": [
    {
     "data": {
      "text/html": [
       "<div>\n",
       "<style scoped>\n",
       "    .dataframe tbody tr th:only-of-type {\n",
       "        vertical-align: middle;\n",
       "    }\n",
       "\n",
       "    .dataframe tbody tr th {\n",
       "        vertical-align: top;\n",
       "    }\n",
       "\n",
       "    .dataframe thead th {\n",
       "        text-align: right;\n",
       "    }\n",
       "</style>\n",
       "<table border=\"1\" class=\"dataframe\">\n",
       "  <thead>\n",
       "    <tr style=\"text-align: right;\">\n",
       "      <th></th>\n",
       "      <th>score</th>\n",
       "      <th>species</th>\n",
       "      <th>raw_position</th>\n",
       "      <th>strand</th>\n",
       "      <th>align_position</th>\n",
       "      <th>motif</th>\n",
       "    </tr>\n",
       "  </thead>\n",
       "  <tbody>\n",
       "    <tr>\n",
       "      <th>5470</th>\n",
       "      <td>3.355628</td>\n",
       "      <td>VT10670|1|MEMB002A|-|2087</td>\n",
       "      <td>30</td>\n",
       "      <td>negative</td>\n",
       "      <td>37</td>\n",
       "      <td>bcd_FlyReg.fm</td>\n",
       "    </tr>\n",
       "    <tr>\n",
       "      <th>5502</th>\n",
       "      <td>3.355628</td>\n",
       "      <td>VT10670|1|MEMB002A|-|2087</td>\n",
       "      <td>81</td>\n",
       "      <td>positive</td>\n",
       "      <td>97</td>\n",
       "      <td>bcd_FlyReg.fm</td>\n",
       "    </tr>\n",
       "    <tr>\n",
       "      <th>5528</th>\n",
       "      <td>3.355628</td>\n",
       "      <td>VT10670|1|MEMB002A|-|2087</td>\n",
       "      <td>124</td>\n",
       "      <td>negative</td>\n",
       "      <td>167</td>\n",
       "      <td>bcd_FlyReg.fm</td>\n",
       "    </tr>\n",
       "    <tr>\n",
       "      <th>5549</th>\n",
       "      <td>3.355628</td>\n",
       "      <td>VT10670|1|MEMB002A|-|2087</td>\n",
       "      <td>165</td>\n",
       "      <td>positive</td>\n",
       "      <td>218</td>\n",
       "      <td>bcd_FlyReg.fm</td>\n",
       "    </tr>\n",
       "    <tr>\n",
       "      <th>5554</th>\n",
       "      <td>3.317153</td>\n",
       "      <td>VT10670|1|MEMB002A|-|2087</td>\n",
       "      <td>175</td>\n",
       "      <td>negative</td>\n",
       "      <td>233</td>\n",
       "      <td>bcd_FlyReg.fm</td>\n",
       "    </tr>\n",
       "  </tbody>\n",
       "</table>\n",
       "</div>"
      ],
      "text/plain": [
       "         score                    species  raw_position    strand  \\\n",
       "5470  3.355628  VT10670|1|MEMB002A|-|2087            30  negative   \n",
       "5502  3.355628  VT10670|1|MEMB002A|-|2087            81  positive   \n",
       "5528  3.355628  VT10670|1|MEMB002A|-|2087           124  negative   \n",
       "5549  3.355628  VT10670|1|MEMB002A|-|2087           165  positive   \n",
       "5554  3.317153  VT10670|1|MEMB002A|-|2087           175  negative   \n",
       "\n",
       "      align_position          motif  \n",
       "5470              37  bcd_FlyReg.fm  \n",
       "5502              97  bcd_FlyReg.fm  \n",
       "5528             167  bcd_FlyReg.fm  \n",
       "5549             218  bcd_FlyReg.fm  \n",
       "5554             233  bcd_FlyReg.fm  "
      ]
     },
     "execution_count": 7,
     "metadata": {},
     "output_type": "execute_result"
    }
   ],
   "source": [
    "view_data(align3_results, \"filtered\").head()"
   ]
  },
  {
   "cell_type": "code",
   "execution_count": 5,
   "metadata": {
    "collapsed": false
   },
   "outputs": [
    {
     "data": {
      "text/html": [
       "<div>\n",
       "<style scoped>\n",
       "    .dataframe tbody tr th:only-of-type {\n",
       "        vertical-align: middle;\n",
       "    }\n",
       "\n",
       "    .dataframe tbody tr th {\n",
       "        vertical-align: top;\n",
       "    }\n",
       "\n",
       "    .dataframe thead th {\n",
       "        text-align: right;\n",
       "    }\n",
       "</style>\n",
       "<table border=\"1\" class=\"dataframe\">\n",
       "  <thead>\n",
       "    <tr style=\"text-align: right;\">\n",
       "      <th></th>\n",
       "      <th>Species with TFBS at Position</th>\n",
       "      <th>Count</th>\n",
       "    </tr>\n",
       "  </thead>\n",
       "  <tbody>\n",
       "    <tr>\n",
       "      <th>0</th>\n",
       "      <td>(VT10670|1|MEMB003A|-|2112, VT10670|1|MEMB004B...</td>\n",
       "      <td>1</td>\n",
       "    </tr>\n",
       "    <tr>\n",
       "      <th>1</th>\n",
       "      <td>(VT10670|1|MEMB002E|+|2138, VT10670|1|MEMB002F...</td>\n",
       "      <td>1</td>\n",
       "    </tr>\n",
       "    <tr>\n",
       "      <th>2</th>\n",
       "      <td>(VT10670|1|MEMB002F|-|2363, VT10670|1|MEMB003B...</td>\n",
       "      <td>1</td>\n",
       "    </tr>\n",
       "    <tr>\n",
       "      <th>3</th>\n",
       "      <td>(VT10670|1|MEMB002A|-|2087, VT10670|1|MEMB002B...</td>\n",
       "      <td>13</td>\n",
       "    </tr>\n",
       "    <tr>\n",
       "      <th>4</th>\n",
       "      <td>(VT10670|1|MEMB005D|-|2145, VT10670|1|MEMB006A...</td>\n",
       "      <td>5</td>\n",
       "    </tr>\n",
       "  </tbody>\n",
       "</table>\n",
       "</div>"
      ],
      "text/plain": [
       "                       Species with TFBS at Position  Count\n",
       "0  (VT10670|1|MEMB003A|-|2112, VT10670|1|MEMB004B...      1\n",
       "1  (VT10670|1|MEMB002E|+|2138, VT10670|1|MEMB002F...      1\n",
       "2  (VT10670|1|MEMB002F|-|2363, VT10670|1|MEMB003B...      1\n",
       "3  (VT10670|1|MEMB002A|-|2087, VT10670|1|MEMB002B...     13\n",
       "4  (VT10670|1|MEMB005D|-|2145, VT10670|1|MEMB006A...      5"
      ]
     },
     "execution_count": 5,
     "metadata": {},
     "output_type": "execute_result"
    }
   ],
   "source": [
    "view_data(align3_results, \"grouped\").head()"
   ]
  },
  {
   "cell_type": "code",
   "execution_count": 6,
   "metadata": {
    "collapsed": false,
    "scrolled": false
   },
   "outputs": [
    {
     "data": {
      "text/html": [
       "<div>\n",
       "<style scoped>\n",
       "    .dataframe tbody tr th:only-of-type {\n",
       "        vertical-align: middle;\n",
       "    }\n",
       "\n",
       "    .dataframe tbody tr th {\n",
       "        vertical-align: top;\n",
       "    }\n",
       "\n",
       "    .dataframe thead th {\n",
       "        text-align: right;\n",
       "    }\n",
       "</style>\n",
       "<table border=\"1\" class=\"dataframe\">\n",
       "  <thead>\n",
       "    <tr style=\"text-align: right;\">\n",
       "      <th></th>\n",
       "      <th>Species with TFBS at Position</th>\n",
       "      <th>Count</th>\n",
       "    </tr>\n",
       "  </thead>\n",
       "  <tbody>\n",
       "    <tr>\n",
       "      <th>3</th>\n",
       "      <td>(VT10670|1|MEMB002A|-|2087, VT10670|1|MEMB002B...</td>\n",
       "      <td>13</td>\n",
       "    </tr>\n",
       "    <tr>\n",
       "      <th>5</th>\n",
       "      <td>(VT10670|1|MEMB002F|-|2363,)</td>\n",
       "      <td>33</td>\n",
       "    </tr>\n",
       "    <tr>\n",
       "      <th>14</th>\n",
       "      <td>(VT10670|1|MEMB006B|-|2132,)</td>\n",
       "      <td>8</td>\n",
       "    </tr>\n",
       "    <tr>\n",
       "      <th>15</th>\n",
       "      <td>(VT10670|1|MEMB007D|+|2132,)</td>\n",
       "      <td>13</td>\n",
       "    </tr>\n",
       "    <tr>\n",
       "      <th>16</th>\n",
       "      <td>(VT10670|1|MEMB006A|-|2951,)</td>\n",
       "      <td>32</td>\n",
       "    </tr>\n",
       "    <tr>\n",
       "      <th>18</th>\n",
       "      <td>(VT10670|1|MEMB004E|-|2132,)</td>\n",
       "      <td>11</td>\n",
       "    </tr>\n",
       "    <tr>\n",
       "      <th>20</th>\n",
       "      <td>(VT10670|1|MEMB002E|+|2138,)</td>\n",
       "      <td>13</td>\n",
       "    </tr>\n",
       "    <tr>\n",
       "      <th>41</th>\n",
       "      <td>(VT10670|1|MEMB003B|+|2146,)</td>\n",
       "      <td>8</td>\n",
       "    </tr>\n",
       "    <tr>\n",
       "      <th>74</th>\n",
       "      <td>(VT10670|1|MEMB005B|+|2166,)</td>\n",
       "      <td>8</td>\n",
       "    </tr>\n",
       "  </tbody>\n",
       "</table>\n",
       "</div>"
      ],
      "text/plain": [
       "                        Species with TFBS at Position  Count\n",
       "3   (VT10670|1|MEMB002A|-|2087, VT10670|1|MEMB002B...     13\n",
       "5                        (VT10670|1|MEMB002F|-|2363,)     33\n",
       "14                       (VT10670|1|MEMB006B|-|2132,)      8\n",
       "15                       (VT10670|1|MEMB007D|+|2132,)     13\n",
       "16                       (VT10670|1|MEMB006A|-|2951,)     32\n",
       "18                       (VT10670|1|MEMB004E|-|2132,)     11\n",
       "20                       (VT10670|1|MEMB002E|+|2138,)     13\n",
       "41                       (VT10670|1|MEMB003B|+|2146,)      8\n",
       "74                       (VT10670|1|MEMB005B|+|2166,)      8"
      ]
     },
     "execution_count": 6,
     "metadata": {},
     "output_type": "execute_result"
    }
   ],
   "source": [
    "view_data(align3_results, \"frequent\")"
   ]
  },
  {
   "cell_type": "code",
   "execution_count": 7,
   "metadata": {
    "collapsed": false
   },
   "outputs": [
    {
     "data": {
      "text/html": [
       "<div>\n",
       "<style scoped>\n",
       "    .dataframe tbody tr th:only-of-type {\n",
       "        vertical-align: middle;\n",
       "    }\n",
       "\n",
       "    .dataframe tbody tr th {\n",
       "        vertical-align: top;\n",
       "    }\n",
       "\n",
       "    .dataframe thead th {\n",
       "        text-align: right;\n",
       "    }\n",
       "</style>\n",
       "<table border=\"1\" class=\"dataframe\">\n",
       "  <thead>\n",
       "    <tr style=\"text-align: right;\">\n",
       "      <th></th>\n",
       "      <th>Species with TFBS at Position</th>\n",
       "      <th>Count</th>\n",
       "    </tr>\n",
       "  </thead>\n",
       "  <tbody>\n",
       "    <tr>\n",
       "      <th>5</th>\n",
       "      <td>(VT10670|1|MEMB002F|-|2363,)</td>\n",
       "      <td>33</td>\n",
       "    </tr>\n",
       "  </tbody>\n",
       "</table>\n",
       "</div>"
      ],
      "text/plain": [
       "  Species with TFBS at Position  Count\n",
       "5  (VT10670|1|MEMB002F|-|2363,)     33"
      ]
     },
     "execution_count": 7,
     "metadata": {},
     "output_type": "execute_result"
    }
   ],
   "source": [
    "view_data(align3_results, \"most frequent\")"
   ]
  },
  {
   "cell_type": "code",
   "execution_count": 8,
   "metadata": {
    "collapsed": false
   },
   "outputs": [],
   "source": [
    "#trial = frequent_across_alignments(files[0:2], motif_path, 95)"
   ]
  },
  {
   "cell_type": "code",
   "execution_count": 14,
   "metadata": {
    "collapsed": false
   },
   "outputs": [
    {
     "data": {
      "text/html": [
       "<div>\n",
       "<table border=\"1\" class=\"dataframe\">\n",
       "  <thead>\n",
       "    <tr style=\"text-align: right;\">\n",
       "      <th></th>\n",
       "      <th>Species with TFBS at Position</th>\n",
       "      <th>Count</th>\n",
       "      <th>Alignment File</th>\n",
       "    </tr>\n",
       "  </thead>\n",
       "  <tbody>\n",
       "    <tr>\n",
       "      <th>0</th>\n",
       "      <td>(VT0850|1|dkik|-|2904,)</td>\n",
       "      <td>77</td>\n",
       "      <td>VT0850.fa</td>\n",
       "    </tr>\n",
       "    <tr>\n",
       "      <th>31</th>\n",
       "      <td>(VT0870|0|MEMB005D|-|2612,)</td>\n",
       "      <td>53</td>\n",
       "      <td>VT0870.fa</td>\n",
       "    </tr>\n",
       "    <tr>\n",
       "      <th>3</th>\n",
       "      <td>(VT0850|1|MEMB002A|-|2035, VT0850|1|MEMB002B|-...</td>\n",
       "      <td>49</td>\n",
       "      <td>VT0850.fa</td>\n",
       "    </tr>\n",
       "    <tr>\n",
       "      <th>38</th>\n",
       "      <td>(VT0870|0|MEMB007D|+|2418,)</td>\n",
       "      <td>37</td>\n",
       "      <td>VT0870.fa</td>\n",
       "    </tr>\n",
       "    <tr>\n",
       "      <th>1</th>\n",
       "      <td>(VT0870|0|MEMB002F|+|2269,)</td>\n",
       "      <td>30</td>\n",
       "      <td>VT0870.fa</td>\n",
       "    </tr>\n",
       "    <tr>\n",
       "      <th>34</th>\n",
       "      <td>(VT0870|0|MEMB002D|+|2332,)</td>\n",
       "      <td>29</td>\n",
       "      <td>VT0870.fa</td>\n",
       "    </tr>\n",
       "    <tr>\n",
       "      <th>7</th>\n",
       "      <td>(VT0850|1|MEMB006C|+|2323,)</td>\n",
       "      <td>28</td>\n",
       "      <td>VT0850.fa</td>\n",
       "    </tr>\n",
       "    <tr>\n",
       "      <th>10</th>\n",
       "      <td>(VT0850|1|MEMB008C|+|2426,)</td>\n",
       "      <td>24</td>\n",
       "      <td>VT0850.fa</td>\n",
       "    </tr>\n",
       "    <tr>\n",
       "      <th>4</th>\n",
       "      <td>(VT0850|1|MEMB007D|+|2300,)</td>\n",
       "      <td>23</td>\n",
       "      <td>VT0850.fa</td>\n",
       "    </tr>\n",
       "    <tr>\n",
       "      <th>14</th>\n",
       "      <td>(VT0850|1|MEMB005B|-|2353,)</td>\n",
       "      <td>21</td>\n",
       "      <td>VT0850.fa</td>\n",
       "    </tr>\n",
       "    <tr>\n",
       "      <th>26</th>\n",
       "      <td>(VT0850|1|MEMB003B|+|2201,)</td>\n",
       "      <td>20</td>\n",
       "      <td>VT0850.fa</td>\n",
       "    </tr>\n",
       "    <tr>\n",
       "      <th>200</th>\n",
       "      <td>(VT0870|0|MEMB006A|-|2231,)</td>\n",
       "      <td>19</td>\n",
       "      <td>VT0870.fa</td>\n",
       "    </tr>\n",
       "    <tr>\n",
       "      <th>6</th>\n",
       "      <td>(VT0870|0|MEMB006B|+|2118,)</td>\n",
       "      <td>18</td>\n",
       "      <td>VT0870.fa</td>\n",
       "    </tr>\n",
       "    <tr>\n",
       "      <th>29</th>\n",
       "      <td>(VT0850|1|MEMB002E|+|2250,)</td>\n",
       "      <td>17</td>\n",
       "      <td>VT0850.fa</td>\n",
       "    </tr>\n",
       "    <tr>\n",
       "      <th>64</th>\n",
       "      <td>(VT0870|0|MEMB005B|+|2264,)</td>\n",
       "      <td>17</td>\n",
       "      <td>VT0870.fa</td>\n",
       "    </tr>\n",
       "  </tbody>\n",
       "</table>\n",
       "</div>"
      ],
      "text/plain": [
       "                         Species with TFBS at Position  Count Alignment File\n",
       "0                              (VT0850|1|dkik|-|2904,)     77      VT0850.fa\n",
       "31                         (VT0870|0|MEMB005D|-|2612,)     53      VT0870.fa\n",
       "3    (VT0850|1|MEMB002A|-|2035, VT0850|1|MEMB002B|-...     49      VT0850.fa\n",
       "38                         (VT0870|0|MEMB007D|+|2418,)     37      VT0870.fa\n",
       "1                          (VT0870|0|MEMB002F|+|2269,)     30      VT0870.fa\n",
       "34                         (VT0870|0|MEMB002D|+|2332,)     29      VT0870.fa\n",
       "7                          (VT0850|1|MEMB006C|+|2323,)     28      VT0850.fa\n",
       "10                         (VT0850|1|MEMB008C|+|2426,)     24      VT0850.fa\n",
       "4                          (VT0850|1|MEMB007D|+|2300,)     23      VT0850.fa\n",
       "14                         (VT0850|1|MEMB005B|-|2353,)     21      VT0850.fa\n",
       "26                         (VT0850|1|MEMB003B|+|2201,)     20      VT0850.fa\n",
       "200                        (VT0870|0|MEMB006A|-|2231,)     19      VT0870.fa\n",
       "6                          (VT0870|0|MEMB006B|+|2118,)     18      VT0870.fa\n",
       "29                         (VT0850|1|MEMB002E|+|2250,)     17      VT0850.fa\n",
       "64                         (VT0870|0|MEMB005B|+|2264,)     17      VT0870.fa"
      ]
     },
     "execution_count": 14,
     "metadata": {},
     "output_type": "execute_result"
    }
   ],
   "source": [
    "#trial.head(15)"
   ]
  }
 ],
 "metadata": {
  "anaconda-cloud": {},
  "kernelspec": {
   "display_name": "Python [Root]",
   "language": "python",
   "name": "Python [Root]"
  },
  "language_info": {
   "codemirror_mode": {
    "name": "ipython",
    "version": 3
   },
   "file_extension": ".py",
   "mimetype": "text/x-python",
   "name": "python",
   "nbconvert_exporter": "python",
   "pygments_lexer": "ipython3",
   "version": "3.5.2"
  }
 },
 "nbformat": 4,
 "nbformat_minor": 2
}
