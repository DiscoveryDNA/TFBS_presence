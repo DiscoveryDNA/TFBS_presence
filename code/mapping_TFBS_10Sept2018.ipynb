{
 "cells": [
  {
   "cell_type": "markdown",
   "metadata": {},
   "source": [
    "# Motif Mapping Bcd\n",
    "\n",
    "\n",
    "## Purpose\n",
    "\n",
    "Based off of Ciera Martinez's `map_motif.py`, but used within a Jupyter notebook. In this notebook, we are looping through the whole pipeline to create output files. Previously, when Ciera used the output files to check the top scored motifs, the motifs were not what they should be.  This could have been the script or the actual input motifs. To test if it was faulty motif files, Joanne then was able to get this script to input another type of input motif files type, JASPAR. \n",
    "\n",
    "Ciera used this notebook to map bicoid across the first ~200 files.\n",
    "\n",
    "## Results\n",
    "\n",
    "The `pipeline()` function works great, but only on some of the files. I tested without the threshold option and all the scores were not output, but enough in some of the files were output for me to check the top scored motifs of bcd as an example. It allowed me to loop for the top motifs and Ciera was able to determine that the original problem was indeed the motif input files and not the script. This is good news!  This means we have to \n",
    "\n",
    "1. We need to use JASPAR files for motif input. JASPAR files need to be modified to work. Maybe create a script to convery JASPAR?\n",
    "2. We need to correct some problems and address some questions with the \n",
    "    \n",
    "\n",
    "## Overall goal\n",
    "\n",
    "1. Create a working script that is capable of looping through thousands of files. \n",
    "\n",
    "## Todo\n",
    "\n",
    "These are what needs to be done (also outlined in TFBS_prescence [issues](https://github.com/DiscoveryDNA/TFBS_presence/issues/8).\n",
    "\n",
    "- [ ] This loop errors out on certain numbers. Why is that?  How can we fix it?  \n",
    "- [ ] Is this running the threshold correctly for each TFBS?  Can we have the function that tests the threshold on the random sequences run before we run this? Line 536 of `MSE.py` hardcodes which file to use. \n",
    "- [ ] The threshold also needs to be run on each file input.  Maybe we can split all the threshold functions into their own file?? \n",
    "- [ ] In line 80 in `MSE.py`, in the function description of `pipeline()`, Why is the threshold hardcoded in the funtion set to 80?\n",
    "- [ ] When you run `pipeline()` without a threshold, it takes forever to start running. What is it working on?"
   ]
  },
  {
   "cell_type": "code",
   "execution_count": 2,
   "metadata": {
    "collapsed": false
   },
   "outputs": [],
   "source": [
    "# Import definitions & functions from .py file:\n",
    "from MSE import *"
   ]
  },
  {
   "cell_type": "markdown",
   "metadata": {},
   "source": [
    "### MSE.py has been debugged; Pipeline now works with JASPAR files."
   ]
  },
  {
   "cell_type": "code",
   "execution_count": 41,
   "metadata": {
    "collapsed": false
   },
   "outputs": [
    {
     "name": "stdout",
     "output_type": "stream",
     "text": [
      "1\n",
      "2\n",
      "3\n",
      "4\n",
      "5\n",
      "6\n",
      "7\n",
      "8\n",
      "9\n",
      "10\n",
      "11\n",
      "12\n",
      "13\n",
      "14\n",
      "15\n"
     ]
    }
   ],
   "source": [
    "align_path = '../data/alignments/*.fa' # Multiple alignment files\n",
    "motif_path = \"../data/jaspar_fm/modified/MA0212.1_bcd.jaspar\" # 1 motif file\n",
    "files = glob(align_path)\n",
    "\n",
    "## Threw error bcd: 93, 25, 145, 180\n",
    "## Threw error gt: 0,2,5 too many \n",
    "## Threw error hb: 0,5\n",
    "\n",
    "count = 0\n",
    "for i in range(0,15):\n",
    "    count = count + 1\n",
    "    jaspar_results = pipeline(files[i], motif_path)\n",
    "    input_file = os.path.basename(os.path.normpath(files[i]))\n",
    "    file_name=\"/Users/iamciera/Desktop/data_output/bcd/occurance_\"+input_file+\".csv\"\n",
    "    jaspar_results[0].to_csv(file_name) ## write out \"filtered\" results\n",
    "    print(count)\n",
    "  "
   ]
  },
  {
   "cell_type": "code",
   "execution_count": 14,
   "metadata": {
    "collapsed": false
   },
   "outputs": [
    {
     "data": {
      "text/html": [
       "<div>\n",
       "<table border=\"1\" class=\"dataframe\">\n",
       "  <thead>\n",
       "    <tr style=\"text-align: right;\">\n",
       "      <th></th>\n",
       "      <th>score</th>\n",
       "      <th>species</th>\n",
       "      <th>raw_position</th>\n",
       "      <th>strand</th>\n",
       "      <th>align_position</th>\n",
       "      <th>motif</th>\n",
       "    </tr>\n",
       "  </thead>\n",
       "  <tbody>\n",
       "    <tr>\n",
       "      <th>21</th>\n",
       "      <td>8.354094</td>\n",
       "      <td>VT29210|0|MEMB002A|+|1954</td>\n",
       "      <td>1454</td>\n",
       "      <td>positive</td>\n",
       "      <td>2839</td>\n",
       "      <td>MA0212.1_bcd.jaspar</td>\n",
       "    </tr>\n",
       "    <tr>\n",
       "      <th>25</th>\n",
       "      <td>8.354094</td>\n",
       "      <td>VT29210|0|MEMB002B|+|1951</td>\n",
       "      <td>1455</td>\n",
       "      <td>positive</td>\n",
       "      <td>2839</td>\n",
       "      <td>MA0212.1_bcd.jaspar</td>\n",
       "    </tr>\n",
       "    <tr>\n",
       "      <th>23</th>\n",
       "      <td>8.354094</td>\n",
       "      <td>VT29210|0|MEMB002C|+|1932</td>\n",
       "      <td>1432</td>\n",
       "      <td>positive</td>\n",
       "      <td>2839</td>\n",
       "      <td>MA0212.1_bcd.jaspar</td>\n",
       "    </tr>\n",
       "    <tr>\n",
       "      <th>14</th>\n",
       "      <td>11.612828</td>\n",
       "      <td>VT29210|0|MEMB002D|-|2326</td>\n",
       "      <td>111</td>\n",
       "      <td>negative</td>\n",
       "      <td>167</td>\n",
       "      <td>MA0212.1_bcd.jaspar</td>\n",
       "    </tr>\n",
       "    <tr>\n",
       "      <th>15</th>\n",
       "      <td>8.354094</td>\n",
       "      <td>VT29210|0|MEMB002D|-|2326</td>\n",
       "      <td>114</td>\n",
       "      <td>positive</td>\n",
       "      <td>170</td>\n",
       "      <td>MA0212.1_bcd.jaspar</td>\n",
       "    </tr>\n",
       "  </tbody>\n",
       "</table>\n",
       "</div>"
      ],
      "text/plain": [
       "        score                    species  raw_position    strand  \\\n",
       "21   8.354094  VT29210|0|MEMB002A|+|1954          1454  positive   \n",
       "25   8.354094  VT29210|0|MEMB002B|+|1951          1455  positive   \n",
       "23   8.354094  VT29210|0|MEMB002C|+|1932          1432  positive   \n",
       "14  11.612828  VT29210|0|MEMB002D|-|2326           111  negative   \n",
       "15   8.354094  VT29210|0|MEMB002D|-|2326           114  positive   \n",
       "\n",
       "    align_position                motif  \n",
       "21            2839  MA0212.1_bcd.jaspar  \n",
       "25            2839  MA0212.1_bcd.jaspar  \n",
       "23            2839  MA0212.1_bcd.jaspar  \n",
       "14             167  MA0212.1_bcd.jaspar  \n",
       "15             170  MA0212.1_bcd.jaspar  "
      ]
     },
     "execution_count": 14,
     "metadata": {},
     "output_type": "execute_result"
    }
   ],
   "source": [
    "view_data(jaspar_results, \"filtered\").head()"
   ]
  },
  {
   "cell_type": "code",
   "execution_count": 5,
   "metadata": {
    "collapsed": false
   },
   "outputs": [
    {
     "data": {
      "text/html": [
       "<div>\n",
       "<table border=\"1\" class=\"dataframe\">\n",
       "  <thead>\n",
       "    <tr style=\"text-align: right;\">\n",
       "      <th></th>\n",
       "      <th>Species with TFBS at Position</th>\n",
       "      <th>Count</th>\n",
       "    </tr>\n",
       "  </thead>\n",
       "  <tbody>\n",
       "    <tr>\n",
       "      <th>0</th>\n",
       "      <td>(VT10670|1|MEMB002A|-|2087, VT10670|1|MEMB002B...</td>\n",
       "      <td>1</td>\n",
       "    </tr>\n",
       "    <tr>\n",
       "      <th>1</th>\n",
       "      <td>(VT10670|1|MEMB002A|-|2087, VT10670|1|MEMB002C...</td>\n",
       "      <td>1</td>\n",
       "    </tr>\n",
       "    <tr>\n",
       "      <th>2</th>\n",
       "      <td>(VT10670|1|MEMB002F|-|2363,)</td>\n",
       "      <td>2</td>\n",
       "    </tr>\n",
       "    <tr>\n",
       "      <th>3</th>\n",
       "      <td>(VT10670|1|MEMB002D|+|2107,)</td>\n",
       "      <td>2</td>\n",
       "    </tr>\n",
       "    <tr>\n",
       "      <th>4</th>\n",
       "      <td>(VT10670|1|MEMB006C|+|2180,)</td>\n",
       "      <td>1</td>\n",
       "    </tr>\n",
       "  </tbody>\n",
       "</table>\n",
       "</div>"
      ],
      "text/plain": [
       "                       Species with TFBS at Position  Count\n",
       "0  (VT10670|1|MEMB002A|-|2087, VT10670|1|MEMB002B...      1\n",
       "1  (VT10670|1|MEMB002A|-|2087, VT10670|1|MEMB002C...      1\n",
       "2                       (VT10670|1|MEMB002F|-|2363,)      2\n",
       "3                       (VT10670|1|MEMB002D|+|2107,)      2\n",
       "4                       (VT10670|1|MEMB006C|+|2180,)      1"
      ]
     },
     "execution_count": 5,
     "metadata": {},
     "output_type": "execute_result"
    }
   ],
   "source": [
    "view_data(jaspar_results, \"grouped\").head()"
   ]
  },
  {
   "cell_type": "code",
   "execution_count": 7,
   "metadata": {
    "collapsed": false
   },
   "outputs": [
    {
     "data": {
      "text/html": [
       "<div>\n",
       "<table border=\"1\" class=\"dataframe\">\n",
       "  <thead>\n",
       "    <tr style=\"text-align: right;\">\n",
       "      <th></th>\n",
       "      <th>Species with TFBS at Position</th>\n",
       "      <th>Count</th>\n",
       "    </tr>\n",
       "  </thead>\n",
       "  <tbody>\n",
       "    <tr>\n",
       "      <th>2</th>\n",
       "      <td>(VT10670|1|MEMB002F|-|2363,)</td>\n",
       "      <td>2</td>\n",
       "    </tr>\n",
       "    <tr>\n",
       "      <th>3</th>\n",
       "      <td>(VT10670|1|MEMB002D|+|2107,)</td>\n",
       "      <td>2</td>\n",
       "    </tr>\n",
       "  </tbody>\n",
       "</table>\n",
       "</div>"
      ],
      "text/plain": [
       "  Species with TFBS at Position  Count\n",
       "2  (VT10670|1|MEMB002F|-|2363,)      2\n",
       "3  (VT10670|1|MEMB002D|+|2107,)      2"
      ]
     },
     "execution_count": 7,
     "metadata": {},
     "output_type": "execute_result"
    }
   ],
   "source": [
    "view_data(jaspar_results, \"frequent\").head()"
   ]
  },
  {
   "cell_type": "code",
   "execution_count": 8,
   "metadata": {
    "collapsed": false
   },
   "outputs": [
    {
     "data": {
      "text/html": [
       "<div>\n",
       "<table border=\"1\" class=\"dataframe\">\n",
       "  <thead>\n",
       "    <tr style=\"text-align: right;\">\n",
       "      <th></th>\n",
       "      <th>Species with TFBS at Position</th>\n",
       "      <th>Count</th>\n",
       "    </tr>\n",
       "  </thead>\n",
       "  <tbody>\n",
       "    <tr>\n",
       "      <th>2</th>\n",
       "      <td>(VT10670|1|MEMB002F|-|2363,)</td>\n",
       "      <td>2</td>\n",
       "    </tr>\n",
       "    <tr>\n",
       "      <th>3</th>\n",
       "      <td>(VT10670|1|MEMB002D|+|2107,)</td>\n",
       "      <td>2</td>\n",
       "    </tr>\n",
       "  </tbody>\n",
       "</table>\n",
       "</div>"
      ],
      "text/plain": [
       "  Species with TFBS at Position  Count\n",
       "2  (VT10670|1|MEMB002F|-|2363,)      2\n",
       "3  (VT10670|1|MEMB002D|+|2107,)      2"
      ]
     },
     "execution_count": 8,
     "metadata": {},
     "output_type": "execute_result"
    }
   ],
   "source": [
    "view_data(jaspar_results, \"most frequent\").head()"
   ]
  }
 ],
 "metadata": {
  "anaconda-cloud": {},
  "kernelspec": {
   "display_name": "Python 3",
   "language": "python",
   "name": "python3"
  },
  "language_info": {
   "codemirror_mode": {
    "name": "ipython",
    "version": 3
   },
   "file_extension": ".py",
   "mimetype": "text/x-python",
   "name": "python",
   "nbconvert_exporter": "python",
   "pygments_lexer": "ipython3",
   "version": "3.6.2"
  }
 },
 "nbformat": 4,
 "nbformat_minor": 2
}
