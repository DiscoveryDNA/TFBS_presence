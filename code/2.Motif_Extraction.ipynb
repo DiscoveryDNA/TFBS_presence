{
 "cells": [
  {
   "cell_type": "markdown",
   "metadata": {},
   "source": [
    "## Goals:\n",
    "    1. Take in DF's from 'filtered' (using pandas)\n",
    "    2. Read first row, get first item in species column\n",
    "    3. Use species[1] to look up sequence in fasta file\n",
    "    4. User first row, raw position # to get nucleotide position + n (length of motif)\n",
    "    5. Put this nucleotide sequence into new column"
   ]
  },
  {
   "cell_type": "markdown",
   "metadata": {},
   "source": [
    "TO-DO:\n",
    "1. read in motif file and get motif length\n",
    "2. make alignment file method for raw file\n",
    "3. when reading file, need to account for negative/positive\n",
    "4. make alignment file method --> need to account for spaces???\n",
    "\n",
    "Account for negative string reading GGATTA\n",
    "                                    CCTAAT\n",
    "                                    \n",
    "-bcd:\n",
    "- GGATTA positive\n",
    "- TAATCC negative"
   ]
  },
  {
   "cell_type": "code",
   "execution_count": 125,
   "metadata": {},
   "outputs": [],
   "source": [
    "from Bio import SeqIO\n",
    "from Bio import Seq\n",
    "import pandas as pd\n",
    "import numpy as np\n",
    "import csv\n",
    "import re\n",
    "import os\n",
    "from datascience import *"
   ]
  },
  {
   "cell_type": "code",
   "execution_count": 127,
   "metadata": {},
   "outputs": [],
   "source": [
    "def seqToString(motif):\n",
    "    \"\"\"\n",
    "    motif: a Seq that represents the motif \n",
    "    \n",
    "    Returns the String representation of the motif\n",
    "    \"\"\"\n",
    "    i = 0\n",
    "    string = \"\"\n",
    "    length = motif.__len__()\n",
    "    while i < length:\n",
    "        string += motif.__getitem__(i)\n",
    "        i += 1\n",
    "    return string"
   ]
  },
  {
   "cell_type": "code",
   "execution_count": 20,
   "metadata": {},
   "outputs": [],
   "source": [
    "def getMotifLength(motif_key):\n",
    "    f = open(\"../data/jaspar_fm/modified/\" + motif_key, 'r')\n",
    "    length = 0\n",
    "    for line in f:\n",
    "        a = line.split()\n",
    "        length = len(a)\n",
    "    return length"
   ]
  },
  {
   "cell_type": "code",
   "execution_count": 21,
   "metadata": {
    "scrolled": true
   },
   "outputs": [
    {
     "data": {
      "text/plain": [
       "10"
      ]
     },
     "execution_count": 21,
     "metadata": {},
     "output_type": "execute_result"
    }
   ],
   "source": [
    "getMotifLength(\"MA0049.1_hb.jaspar\")"
   ]
  },
  {
   "cell_type": "code",
   "execution_count": 22,
   "metadata": {},
   "outputs": [],
   "source": [
    "def getNegative(pos_seq):\n",
    "    \"\"\"\n",
    "    pos_seq = dna sequence in the positive direction reading from the file\n",
    "    \n",
    "    Returns the negative counterpart of the positive sequence.\n",
    "    \"\"\"\n",
    "    dict = {\"A\":'T','T':'A','G':'C','C':'G','-':'-'}\n",
    "    negative = \"\"\n",
    "    last_index = len(pos_seq) - 1\n",
    "    while last_index > -1:\n",
    "        negative += dict[pos_seq[last_index].upper()]\n",
    "        last_index -= 1\n",
    "    return negative"
   ]
  },
  {
   "cell_type": "code",
   "execution_count": 23,
   "metadata": {},
   "outputs": [],
   "source": [
    "def getRawMotifStrings(csv_file):\n",
    "    \"\"\"\n",
    "    csv_file: a csv file that contains the 'filtered' data frame\n",
    "    \n",
    "    Creates a reader representing the data frame and iterates through each line retrieving the species ID and key.\n",
    "    Parses through the raw file to find the motif sequence.\n",
    "    Returns an data frame of the motifs.\n",
    "    \"\"\"\n",
    "    f = open(\"../data/output/bcd/\" + csv_file, 'r')\n",
    "    data = csv.reader(f)\n",
    "    line0 = next(data)\n",
    "    motifs = []\n",
    "    for line in data:\n",
    "        species = line[2]\n",
    "        direction = line[4]\n",
    "        raw_index = int(float(line[3]))\n",
    "        key = species.split('|')[0]\n",
    "        record_dict = SeqIO.to_dict(SeqIO.parse(\"../data/raw/outlier_rm_with_length_\" + key + \".fa\", \"fasta\"))\n",
    "        sequence = record_dict[species]\n",
    "        motif_key = line[6]\n",
    "        motif_length = getMotifLength(motif_key);\n",
    "        motif = sequence[raw_index:raw_index + motif_length]\n",
    "        string_motif = seqToString(motif)\n",
    "        if direction == \"negative\":\n",
    "            string_motif = getNegative(string_motif)\n",
    "        motifs += [string_motif]\n",
    "    f.close()\n",
    "    motif_df = pd.DataFrame({'motif sequences': motifs})\n",
    "    return motifs"
   ]
  },
  {
   "cell_type": "code",
   "execution_count": 24,
   "metadata": {},
   "outputs": [],
   "source": [
    "def getAlignMotifStrings(csv_file):\n",
    "    f = open(\"../data/output/bcd/\" + csv_file, 'r')\n",
    "    data = csv.reader(f)\n",
    "    line0 = next(data)\n",
    "    motifs = []\n",
    "    for line in data:\n",
    "        species = line[2]\n",
    "        direction = line[4]\n",
    "        align_index = int(float(line[5]))\n",
    "        key = species.split('|')[0]\n",
    "        record_dict = SeqIO.to_dict(SeqIO.parse(\"../data/alignments/align_outlier_rm_with_length_\" + key + \".fa\", \"fasta\"))\n",
    "        sequence = record_dict[species]\n",
    "        motif_key = line[6]\n",
    "        motif_length = getMotifLength(motif_key);\n",
    "        motif = sequence[align_index:align_index + motif_length]\n",
    "        string_motif = seqToString(motif)\n",
    "        if direction == \"negative\":\n",
    "            string_motif = getNegative(string_motif)\n",
    "        motifs += [string_motif]\n",
    "    f.close()\n",
    "    motif_df = pd.DataFrame({'motif sequences': motifs})\n",
    "    return motifs"
   ]
  },
  {
   "cell_type": "code",
   "execution_count": 25,
   "metadata": {
    "scrolled": true
   },
   "outputs": [],
   "source": [
    "motif = getAlignMotifStrings(\"occurance_align_outlier_rm_with_length_VT6436.fa.csv\")\n",
    "df = pd.DataFrame()\n",
    "df[\"VT6436.fa.csv\"] = motif\n",
    "# print(df)\n",
    "motif2 = getAlignMotifStrings(\"occurance_align_outlier_rm_with_length_VT6705.fa.csv\")\n",
    "df1 = pd.DataFrame()\n",
    "df1[\"VT6705.fa.csv\"] = motif2\n",
    "# print(df1)\n",
    "df = pd.concat([df,df1], ignore_index=False, axis = 1)\n",
    "#print(df)"
   ]
  },
  {
   "cell_type": "code",
   "execution_count": 26,
   "metadata": {},
   "outputs": [
    {
     "name": "stdout",
     "output_type": "stream",
     "text": [
      "empty\n"
     ]
    }
   ],
   "source": [
    "df = pd.DataFrame()\n",
    "if df.empty:\n",
    "    print(\"empty\")"
   ]
  },
  {
   "cell_type": "code",
   "execution_count": 27,
   "metadata": {},
   "outputs": [],
   "source": [
    "def alignmentsDataFrame():\n",
    "    csvList = os.listdir(\"../data/output/bcd/\")\n",
    "    df = pd.DataFrame()\n",
    "    for file in csvList:\n",
    "        motif = getAlignMotifStrings(file)\n",
    "        df1 = pd.DataFrame()\n",
    "        df1[file[39:]] = motif\n",
    "        if df.empty:\n",
    "            df[file[39:]] = motif\n",
    "        else:\n",
    "            df = pd.concat([df,df1], ignore_index=False, axis=1)\n",
    "    new_csv = df.to_csv(\"../data/output/2.motif_extraction_output/align/bcd_motif.fa.csv\")\n",
    "    print(df)"
   ]
  },
  {
   "cell_type": "code",
   "execution_count": 28,
   "metadata": {},
   "outputs": [
    {
     "name": "stdout",
     "output_type": "stream",
     "text": [
      "    VT11048.fa.csv VT16679.fa.csv VT19895.fa.csv VT40548.fa.csv  \\\n",
      "0           TAATCC         TTATCC         TAATCC         TAATCC   \n",
      "1           TAATCC         -----C         TT-ATC         TTATCC   \n",
      "2              NaN         TAATCC         TAATCC         TTATCC   \n",
      "3              NaN         TTATCC         TT-ATC         TAATCC   \n",
      "4              NaN         T-----         TAATCC         TTATCC   \n",
      "5              NaN         -----C         TAATCC         TAATCC   \n",
      "6              NaN         TAATCC         TAATCC         TAATCC   \n",
      "7              NaN         TTATCC         TAATCC         TTATCC   \n",
      "8              NaN         TTATCC         A--TCC         TAATCC   \n",
      "9              NaN         TTATCC         TTATCC         TAATCC   \n",
      "10             NaN         -----C         TAATCC         TAATCC   \n",
      "11             NaN         TAATCC         A--TCC         TAATCC   \n",
      "12             NaN         TTATCC         TAATCC         TTA---   \n",
      "13             NaN         TTATCC         TAATCC         TAATCC   \n",
      "14             NaN         TTATCC         TTATCC         TTATCC   \n",
      "15             NaN         -----C         TAATCC         TAATCC   \n",
      "16             NaN         TTATCC         TAATCC         TAATCC   \n",
      "17             NaN         TTATCC         TAATCC         TAATCC   \n",
      "18             NaN         -----C         TAATCC         TAATCC   \n",
      "19             NaN         TAATCC         TTATCC         TAATC-   \n",
      "20             NaN         TTATCC         TTATCC         TAATCC   \n",
      "21             NaN         TTATCC         TAATCC         TTATCC   \n",
      "22             NaN         -----C         A--TCC         TAATCC   \n",
      "23             NaN         TAATCC            NaN         TAATCC   \n",
      "24             NaN         TAATCC            NaN         TAATCC   \n",
      "25             NaN         TTATCC            NaN         TAATCC   \n",
      "26             NaN         TTATCC            NaN         TAATCC   \n",
      "27             NaN         TTATCC            NaN         TTATCC   \n",
      "28             NaN         -----C            NaN         TAATCC   \n",
      "29             NaN         TTATCC            NaN         TTATCC   \n",
      "..             ...            ...            ...            ...   \n",
      "74             NaN            NaN            NaN            NaN   \n",
      "75             NaN            NaN            NaN            NaN   \n",
      "76             NaN            NaN            NaN            NaN   \n",
      "77             NaN            NaN            NaN            NaN   \n",
      "78             NaN            NaN            NaN            NaN   \n",
      "79             NaN            NaN            NaN            NaN   \n",
      "80             NaN            NaN            NaN            NaN   \n",
      "81             NaN            NaN            NaN            NaN   \n",
      "82             NaN            NaN            NaN            NaN   \n",
      "83             NaN            NaN            NaN            NaN   \n",
      "84             NaN            NaN            NaN            NaN   \n",
      "85             NaN            NaN            NaN            NaN   \n",
      "86             NaN            NaN            NaN            NaN   \n",
      "87             NaN            NaN            NaN            NaN   \n",
      "88             NaN            NaN            NaN            NaN   \n",
      "89             NaN            NaN            NaN            NaN   \n",
      "90             NaN            NaN            NaN            NaN   \n",
      "91             NaN            NaN            NaN            NaN   \n",
      "92             NaN            NaN            NaN            NaN   \n",
      "93             NaN            NaN            NaN            NaN   \n",
      "94             NaN            NaN            NaN            NaN   \n",
      "95             NaN            NaN            NaN            NaN   \n",
      "96             NaN            NaN            NaN            NaN   \n",
      "97             NaN            NaN            NaN            NaN   \n",
      "98             NaN            NaN            NaN            NaN   \n",
      "99             NaN            NaN            NaN            NaN   \n",
      "100            NaN            NaN            NaN            NaN   \n",
      "101            NaN            NaN            NaN            NaN   \n",
      "102            NaN            NaN            NaN            NaN   \n",
      "103            NaN            NaN            NaN            NaN   \n",
      "\n",
      "    VT43692.fa.csv VT44110.fa.csv VT48156.fa.csv VT50550.fa.csv  \\\n",
      "0           TTATCC         TTATCC         TTATCC         TTATCC   \n",
      "1           TTATCC         ---TCC            NaN         TAATCC   \n",
      "2           TTATCC         TTATCC            NaN         TAATCC   \n",
      "3           TAATCC         TAATCC            NaN         TTATCC   \n",
      "4           TTATCC         --ATCC            NaN         TAATCC   \n",
      "5           T-AATC         ---TCC            NaN         TAATCC   \n",
      "6           T-AATC         TTATCC            NaN         TTATCC   \n",
      "7           TAATCC         TTATCC            NaN         TAATCC   \n",
      "8           T-AATC         TA----            NaN         TAATCC   \n",
      "9           TAATCC         ---TCC            NaN         TTATCC   \n",
      "10          TAATCC         ---TCC            NaN         TTATCC   \n",
      "11          TTATCC         TAATCC            NaN         TAATCC   \n",
      "12          T-AATC         TAATCC            NaN         TAATCC   \n",
      "13          TAATCC         TAATCC            NaN         TAATCC   \n",
      "14          TAATCC         TTATCC            NaN         TAATCC   \n",
      "15          T-AATC         TA----            NaN         TTATCC   \n",
      "16          TAATCC         ---TCC            NaN         TAATCC   \n",
      "17          TTATCC         ---TCC            NaN         TAATCC   \n",
      "18          TAATCC         TAATCC            NaN         TAATCC   \n",
      "19          T-AATC         TAATCC            NaN         TTATCC   \n",
      "20          TAATCC         TAATCC            NaN         -----C   \n",
      "21          -TATCC         TTATCC            NaN         TTATCC   \n",
      "22          T-AATC         ---TCC            NaN         TAATCC   \n",
      "23          T-AATC         TTATCC            NaN         TAATCC   \n",
      "24          T-AATC         ---TCC            NaN         TAATCC   \n",
      "25          TTATCC         TAATCC            NaN         TTATCC   \n",
      "26          T-AATC         TAATCC            NaN         TAATCC   \n",
      "27          T-AATC         ---TCC            NaN         TAATCC   \n",
      "28          TAATCC         TAATCC            NaN         TTATCC   \n",
      "29          TTATCC         TAATCC            NaN         --ATCC   \n",
      "..             ...            ...            ...            ...   \n",
      "74             NaN            NaN            NaN         TAATCC   \n",
      "75             NaN            NaN            NaN         TTATCC   \n",
      "76             NaN            NaN            NaN         --ATCC   \n",
      "77             NaN            NaN            NaN         TAATCC   \n",
      "78             NaN            NaN            NaN         TAATCC   \n",
      "79             NaN            NaN            NaN         TTAT-C   \n",
      "80             NaN            NaN            NaN         TTATCC   \n",
      "81             NaN            NaN            NaN         TAATCC   \n",
      "82             NaN            NaN            NaN         TAATCC   \n",
      "83             NaN            NaN            NaN         TTATCC   \n",
      "84             NaN            NaN            NaN         --ATCC   \n",
      "85             NaN            NaN            NaN         TAATCC   \n",
      "86             NaN            NaN            NaN         TAATCC   \n",
      "87             NaN            NaN            NaN         TTATCC   \n",
      "88             NaN            NaN            NaN         TTATCC   \n",
      "89             NaN            NaN            NaN         --ATCC   \n",
      "90             NaN            NaN            NaN         TAA---   \n",
      "91             NaN            NaN            NaN         TAATCC   \n",
      "92             NaN            NaN            NaN         TAATCC   \n",
      "93             NaN            NaN            NaN         TAATCC   \n",
      "94             NaN            NaN            NaN         TTATCC   \n",
      "95             NaN            NaN            NaN         TAATCC   \n",
      "96             NaN            NaN            NaN         TAATCC   \n",
      "97             NaN            NaN            NaN         TTAT-C   \n",
      "98             NaN            NaN            NaN         TTATCC   \n",
      "99             NaN            NaN            NaN         TAATCC   \n",
      "100            NaN            NaN            NaN         TAATCC   \n",
      "101            NaN            NaN            NaN            NaN   \n",
      "102            NaN            NaN            NaN            NaN   \n",
      "103            NaN            NaN            NaN            NaN   \n",
      "\n",
      "    VT59000.fa.csv VT60074.fa.csv VT61209.fa.csv VT6436.fa.csv VT6705.fa.csv  \\\n",
      "0           TTA-TC         TAATCC         TAATCC        TTATCC        TAATCC   \n",
      "1           TTATCC         TTATCC         TT---A        TAATCC        TAATCC   \n",
      "2           TTA-TC         TAATCC         TTATCC        TAATCC        TAATCC   \n",
      "3           TTATCC         TAATCC         -----C        TAATCC        TAATCC   \n",
      "4           TTA-TC         TTATCC         TTATCC        TTATCC        TAATCC   \n",
      "5           TTATCC            NaN         ----CC        ---TCC        TTATCC   \n",
      "6           TTATCC            NaN         TTATCC        TTATCC        TAATCC   \n",
      "7           TAATCC            NaN         TTATCC        TTATCC        TAATCC   \n",
      "8           TTATCC            NaN         TTATCC        TTATCC        TTATCC   \n",
      "9           TAA---            NaN         TAATCC        TAATCC        TAATCC   \n",
      "10          TAATCC            NaN         TAATCC        A--TCC        TAATCC   \n",
      "11          TAATCC            NaN         TA----        ---TCC        TAATCC   \n",
      "12          TTA-TC            NaN         ----CC        TAATCC        TAATCC   \n",
      "13          -----C            NaN         TTATCC        -TATCC        TAATCC   \n",
      "14          TTA-TC            NaN         TTATCC        TAATCC        TAATCC   \n",
      "15          TAATCC            NaN         TTATCC        TAATCC        TAATCC   \n",
      "16          TTA-TC            NaN         TAATCC        TAATCC        TAATCC   \n",
      "17          -----C            NaN            NaN        TTATCC        TAATCC   \n",
      "18          TTA-TC            NaN            NaN        TTATCC        TAATCC   \n",
      "19          TTA-TC            NaN            NaN           NaN        TAATCC   \n",
      "20          TTATCC            NaN            NaN           NaN        TTATCC   \n",
      "21          TTATCC            NaN            NaN           NaN        TAATCC   \n",
      "22          TTA-TC            NaN            NaN           NaN        TAATCC   \n",
      "23          TAATCC            NaN            NaN           NaN        TAATCC   \n",
      "24          TAATCC            NaN            NaN           NaN        TAATCC   \n",
      "25          TTATCC            NaN            NaN           NaN        TAATCC   \n",
      "26          TTATCC            NaN            NaN           NaN        TAATCC   \n",
      "27          TTATCC            NaN            NaN           NaN        TAATCC   \n",
      "28          TAATCC            NaN            NaN           NaN        TAATCC   \n",
      "29          TTA-TC            NaN            NaN           NaN        TAATCC   \n",
      "..             ...            ...            ...           ...           ...   \n",
      "74             NaN            NaN            NaN           NaN           NaN   \n",
      "75             NaN            NaN            NaN           NaN           NaN   \n",
      "76             NaN            NaN            NaN           NaN           NaN   \n",
      "77             NaN            NaN            NaN           NaN           NaN   \n",
      "78             NaN            NaN            NaN           NaN           NaN   \n",
      "79             NaN            NaN            NaN           NaN           NaN   \n",
      "80             NaN            NaN            NaN           NaN           NaN   \n",
      "81             NaN            NaN            NaN           NaN           NaN   \n",
      "82             NaN            NaN            NaN           NaN           NaN   \n",
      "83             NaN            NaN            NaN           NaN           NaN   \n",
      "84             NaN            NaN            NaN           NaN           NaN   \n",
      "85             NaN            NaN            NaN           NaN           NaN   \n",
      "86             NaN            NaN            NaN           NaN           NaN   \n",
      "87             NaN            NaN            NaN           NaN           NaN   \n",
      "88             NaN            NaN            NaN           NaN           NaN   \n",
      "89             NaN            NaN            NaN           NaN           NaN   \n",
      "90             NaN            NaN            NaN           NaN           NaN   \n",
      "91             NaN            NaN            NaN           NaN           NaN   \n",
      "92             NaN            NaN            NaN           NaN           NaN   \n",
      "93             NaN            NaN            NaN           NaN           NaN   \n",
      "94             NaN            NaN            NaN           NaN           NaN   \n",
      "95             NaN            NaN            NaN           NaN           NaN   \n",
      "96             NaN            NaN            NaN           NaN           NaN   \n",
      "97             NaN            NaN            NaN           NaN           NaN   \n",
      "98             NaN            NaN            NaN           NaN           NaN   \n",
      "99             NaN            NaN            NaN           NaN           NaN   \n",
      "100            NaN            NaN            NaN           NaN           NaN   \n",
      "101            NaN            NaN            NaN           NaN           NaN   \n",
      "102            NaN            NaN            NaN           NaN           NaN   \n",
      "103            NaN            NaN            NaN           NaN           NaN   \n",
      "\n",
      "    VT7859.fa.csv VT8646.fa.csv  \n",
      "0          TAATCC        TTATCC  \n",
      "1          TAATCC        TAATCC  \n",
      "2          TAATCC        TAATCC  \n",
      "3          TTATCC        TAATCC  \n",
      "4          TAATCC        TTATCC  \n",
      "5          TAATCC        TTATCC  \n",
      "6          TAATCC        TAATCC  \n",
      "7          -TATCC        TAATCC  \n",
      "8          TTATCC        TTATCC  \n",
      "9          TAATCC        TAATCC  \n",
      "10         -TATCC        TAATCC  \n",
      "11         TAATCC        TAATCC  \n",
      "12         TAATCC        TTATCC  \n",
      "13         --ATCC        TAATCC  \n",
      "14         TAATCC        TAATCC  \n",
      "15         TAATCC        TAATCC  \n",
      "16         TAATCC        TTATCC  \n",
      "17         TAATCC        TAATCC  \n",
      "18         TAATCC        TAATCC  \n",
      "19         TAATCC        TAATCC  \n",
      "20         TTATCC        TTATCC  \n",
      "21         TAATCC        TTATCC  \n",
      "22         TAATCC        TAATCC  \n",
      "23         ---TCC        TTATCC  \n",
      "24         TAATCC        TAATCC  \n",
      "25         TAATCC        TAA---  \n",
      "26         TAATCC        TTATCC  \n",
      "27         TAATCC        TAATCC  \n",
      "28         TAATCC        TAATCC  \n",
      "29         TTATCC        TTATCC  \n",
      "..            ...           ...  \n",
      "74            NaN        TAATCC  \n",
      "75            NaN        ----CC  \n",
      "76            NaN        TAATCC  \n",
      "77            NaN        TTATCC  \n",
      "78            NaN        TAATCC  \n",
      "79            NaN        TAATCC  \n",
      "80            NaN        TTATCC  \n",
      "81            NaN        TAATCC  \n",
      "82            NaN        TAATCC  \n",
      "83            NaN        TAATCC  \n",
      "84            NaN        TTATCC  \n",
      "85            NaN        TAATCC  \n",
      "86            NaN        TT--AT  \n",
      "87            NaN        TTATCC  \n",
      "88            NaN        TAATCC  \n",
      "89            NaN        TTATCC  \n",
      "90            NaN        TAATCC  \n",
      "91            NaN        TTATCC  \n",
      "92            NaN        TAATCC  \n",
      "93            NaN        TAATCC  \n",
      "94            NaN        TAATCC  \n",
      "95            NaN        TAATCC  \n",
      "96            NaN        TTATCC  \n",
      "97            NaN        TTATCC  \n",
      "98            NaN        TAATCC  \n",
      "99            NaN        TAATCC  \n",
      "100           NaN        TAATCC  \n",
      "101           NaN        TTATCC  \n",
      "102           NaN        TAATCC  \n",
      "103           NaN        TAATCC  \n",
      "\n",
      "[104 rows x 15 columns]\n"
     ]
    }
   ],
   "source": [
    "alignmentsDataFrame()"
   ]
  },
  {
   "cell_type": "code",
   "execution_count": 29,
   "metadata": {},
   "outputs": [],
   "source": [
    "def csvToDataFrame(csv_file):\n",
    "    df = pd.read_csv(\"../data/output/bcd/\" + csv_file);\n",
    "    return df"
   ]
  },
  {
   "cell_type": "code",
   "execution_count": 30,
   "metadata": {},
   "outputs": [],
   "source": [
    "def csvToArray(csv_file):\n",
    "    f = open(csv_file, 'r')\n",
    "    data = csv.reader(f)\n",
    "    labels = next(data)\n",
    "    labels.append('motif sequence')\n",
    "    array = []\n",
    "    array.append(labels)\n",
    "    \n",
    "    for row in data:\n",
    "        array.append(row)\n",
    "    return array"
   ]
  },
  {
   "cell_type": "code",
   "execution_count": 35,
   "metadata": {},
   "outputs": [],
   "source": [
    "def addRawMotifStrings(csv_file):\n",
    "    \"\"\"\n",
    "    csv_file: a csv file that contains the 'filtered' data frame\n",
    "    \n",
    "    Appends the DF of motif sequences as a column onto the filtered DF.\n",
    "    \"\"\"\n",
    "    raw_motif_seq = getRawMotifStrings(csv_file)\n",
    "    df = csvToDataFrame(csv_file)\n",
    "    df['raw motif sequences'] = raw_motif_seq\n",
    "    new_csv = df.to_csv(\"../data/output/2.motif_extraction_output/raw/motif+\" + csv_file)\n",
    "    return df"
   ]
  },
  {
   "cell_type": "code",
   "execution_count": 36,
   "metadata": {
    "scrolled": true
   },
   "outputs": [],
   "source": [
    "d = addRawMotifStrings(\"occurance_align_outlier_rm_with_length_VT11048.fa.csv\")"
   ]
  },
  {
   "cell_type": "code",
   "execution_count": 37,
   "metadata": {},
   "outputs": [
    {
     "data": {
      "text/html": [
       "<div>\n",
       "<style scoped>\n",
       "    .dataframe tbody tr th:only-of-type {\n",
       "        vertical-align: middle;\n",
       "    }\n",
       "\n",
       "    .dataframe tbody tr th {\n",
       "        vertical-align: top;\n",
       "    }\n",
       "\n",
       "    .dataframe thead th {\n",
       "        text-align: right;\n",
       "    }\n",
       "</style>\n",
       "<table border=\"1\" class=\"dataframe\">\n",
       "  <thead>\n",
       "    <tr style=\"text-align: right;\">\n",
       "      <th></th>\n",
       "      <th>Unnamed: 0</th>\n",
       "      <th>score</th>\n",
       "      <th>species</th>\n",
       "      <th>raw_position</th>\n",
       "      <th>strand</th>\n",
       "      <th>align_position</th>\n",
       "      <th>motif</th>\n",
       "      <th>raw motif sequences</th>\n",
       "    </tr>\n",
       "  </thead>\n",
       "  <tbody>\n",
       "    <tr>\n",
       "      <th>0</th>\n",
       "      <td>0</td>\n",
       "      <td>11.612828</td>\n",
       "      <td>VT11048|0|MEMB005D|-|287</td>\n",
       "      <td>39</td>\n",
       "      <td>negative</td>\n",
       "      <td>60</td>\n",
       "      <td>MA0212.1_bcd.jaspar</td>\n",
       "      <td>TAATCC</td>\n",
       "    </tr>\n",
       "    <tr>\n",
       "      <th>1</th>\n",
       "      <td>1</td>\n",
       "      <td>11.612828</td>\n",
       "      <td>VT11048|0|MEMB006A|+|286</td>\n",
       "      <td>38</td>\n",
       "      <td>negative</td>\n",
       "      <td>60</td>\n",
       "      <td>MA0212.1_bcd.jaspar</td>\n",
       "      <td>TAATCC</td>\n",
       "    </tr>\n",
       "  </tbody>\n",
       "</table>\n",
       "</div>"
      ],
      "text/plain": [
       "   Unnamed: 0      score                   species  raw_position    strand  \\\n",
       "0           0  11.612828  VT11048|0|MEMB005D|-|287            39  negative   \n",
       "1           1  11.612828  VT11048|0|MEMB006A|+|286            38  negative   \n",
       "\n",
       "   align_position                motif raw motif sequences  \n",
       "0              60  MA0212.1_bcd.jaspar              TAATCC  \n",
       "1              60  MA0212.1_bcd.jaspar              TAATCC  "
      ]
     },
     "execution_count": 37,
     "metadata": {},
     "output_type": "execute_result"
    }
   ],
   "source": [
    "d"
   ]
  },
  {
   "cell_type": "code",
   "execution_count": 179,
   "metadata": {},
   "outputs": [],
   "source": [
    "csvList = os.listdir(\"../data/output/bcd/\")\n",
    "for file in csvList:\n",
    "    addRawMotifStrings(file)"
   ]
  },
  {
   "cell_type": "code",
   "execution_count": 68,
   "metadata": {},
   "outputs": [],
   "source": [
    "species = [11048, 16679, 19895, 40548, 43692, 44110, 48156, 50550, 59000, 60074, 61209, 6436, 6705, 7859, 8646]\n",
    "member = ['Dkik', 'MEMB002A', 'MEMB002B', 'MEMB002C', 'MEMB002D', 'MEMB002E', 'MEMB002F', 'MEMB003A', 'MEMB003B', 'MEMB003C', 'MEMB003D',\n",
    "          'MEMB003E', 'MEMB003F', 'MEMB004A', 'MEMB004B', 'MEMB004E', 'MEMB005D', 'MEMB006B', 'MEMB006C', 'MEMB007A', 'MEMB007B', \n",
    "          'MEMB007C', 'MEMB007D', 'MEMB008C']"
   ]
  },
  {
   "cell_type": "code",
   "execution_count": 138,
   "metadata": {},
   "outputs": [],
   "source": [
    "def getAlignPositions(species):\n",
    "    table = Table.read_table(\"../data/output/map_motif_bcd_with_threshold/occurance_align_outlier_rm_with_length_VT\" + str(species) + \".fa.csv\")\n",
    "    align = table.group('align_position').drop('count').relabel('align_position', 'align_' +  str(species)).column('align_' +  str(species))\n",
    "    return align   \n"
   ]
  },
  {
   "cell_type": "code",
   "execution_count": 139,
   "metadata": {
    "scrolled": false
   },
   "outputs": [
    {
     "data": {
      "text/plain": [
       "array([60])"
      ]
     },
     "execution_count": 139,
     "metadata": {},
     "output_type": "execute_result"
    }
   ],
   "source": [
    "a = getAlignPositions(11048)\n",
    "a"
   ]
  },
  {
   "cell_type": "code",
   "execution_count": 72,
   "metadata": {},
   "outputs": [
    {
     "name": "stdout",
     "output_type": "stream",
     "text": [
      "align_11048\n",
      "60\n"
     ]
    }
   ],
   "source": [
    "table = Table.read_table(\"../data/output/map_motif_bcd_with_threshold/occurance_align_outlier_rm_with_length_VT11048.fa.csv\")\n",
    "align = table.group('align_position').drop('count').relabel('align_position', 'align_11048')\n",
    "\n",
    "print(align)\n",
    "\n",
    "\n"
   ]
  },
  {
   "cell_type": "code",
   "execution_count": 73,
   "metadata": {},
   "outputs": [],
   "source": [
    "def getRawPositions(species):\n",
    "    table = Table.read_table(\"../data/output/map_motif_bcd_no_threshold/\" + str(species) + \".fa.csv\")\n",
    "    \n"
   ]
  },
  {
   "cell_type": "code",
   "execution_count": 140,
   "metadata": {},
   "outputs": [],
   "source": [
    "#-verify whether or not the motif occurs --> the species that are in the original table\n",
    "#-also include the score\n",
    "#-from \n",
    "#-keep going w positive sequence make length a variable"
   ]
  },
  {
   "cell_type": "code",
   "execution_count": 136,
   "metadata": {
    "scrolled": true
   },
   "outputs": [
    {
     "data": {
      "text/html": [
       "<table border=\"1\" class=\"dataframe\">\n",
       "    <thead>\n",
       "        <tr>\n",
       "            <th>species</th> <th>raw</th> <th>orig_species</th> <th>score</th> <th>align_position</th>\n",
       "        </tr>\n",
       "    </thead>\n",
       "    <tbody>\n",
       "        <tr>\n",
       "            <td>MEMB002A</td> <td>39  </td> <td>VT11048|0|MEMB002A|+|284</td> <td>-5.20163 </td> <td>60            </td>\n",
       "        </tr>\n",
       "        <tr>\n",
       "            <td>MEMB002B</td> <td>39  </td> <td>VT11048|0|MEMB002B|-|284</td> <td>-5.20163 </td> <td>60            </td>\n",
       "        </tr>\n",
       "        <tr>\n",
       "            <td>MEMB002C</td> <td>39  </td> <td>VT11048|0|MEMB002C|-|284</td> <td>-5.20163 </td> <td>60            </td>\n",
       "        </tr>\n",
       "        <tr>\n",
       "            <td>MEMB002D</td> <td>35  </td> <td>VT11048|0|MEMB002D|+|269</td> <td>-4.20163 </td> <td>60            </td>\n",
       "        </tr>\n",
       "        <tr>\n",
       "            <td>MEMB002E</td> <td>40  </td> <td>VT11048|0|MEMB002E|+|288</td> <td>0.0078255</td> <td>60            </td>\n",
       "        </tr>\n",
       "        <tr>\n",
       "            <td>MEMB002F</td> <td>36  </td> <td>VT11048|0|MEMB002F|+|278</td> <td>-5.20163 </td> <td>60            </td>\n",
       "        </tr>\n",
       "        <tr>\n",
       "            <td>MEMB003A</td> <td>39  </td> <td>VT11048|0|MEMB003A|+|278</td> <td>0.0078255</td> <td>60            </td>\n",
       "        </tr>\n",
       "        <tr>\n",
       "            <td>MEMB003B</td> <td>43  </td> <td>VT11048|0|MEMB003B|+|289</td> <td>-5.20163 </td> <td>60            </td>\n",
       "        </tr>\n",
       "        <tr>\n",
       "            <td>MEMB003C</td> <td>39  </td> <td>VT11048|0|MEMB003C|-|284</td> <td>-5.20163 </td> <td>60            </td>\n",
       "        </tr>\n",
       "        <tr>\n",
       "            <td>MEMB003D</td> <td>35  </td> <td>VT11048|0|MEMB003D|+|274</td> <td>0.0078255</td> <td>60            </td>\n",
       "        </tr>\n",
       "        <tr>\n",
       "            <td>MEMB003E</td> <td>39  </td> <td>VT11048|0|MEMB003F|-|285</td> <td>-5.20163 </td> <td>60            </td>\n",
       "        </tr>\n",
       "        <tr>\n",
       "            <td>MEMB003F</td> <td>39  </td> <td>VT11048|0|MEMB004A|+|284</td> <td>-5.20163 </td> <td>60            </td>\n",
       "        </tr>\n",
       "        <tr>\n",
       "            <td>MEMB004A</td> <td>39  </td> <td>VT11048|0|MEMB004B|+|285</td> <td>-5.20163 </td> <td>60            </td>\n",
       "        </tr>\n",
       "        <tr>\n",
       "            <td>MEMB004B</td> <td>39  </td> <td>VT11048|0|MEMB004E|-|285</td> <td>-5.20163 </td> <td>60            </td>\n",
       "        </tr>\n",
       "        <tr>\n",
       "            <td>MEMB004E</td> <td>60  </td> <td>VT11048|0|MEMB005B|+|298</td> <td>-4.20163 </td> <td>60            </td>\n",
       "        </tr>\n",
       "        <tr>\n",
       "            <td>MEMB005D</td> <td>39  </td> <td>VT11048|0|MEMB005D|-|287</td> <td>-4.20163 </td> <td>60            </td>\n",
       "        </tr>\n",
       "        <tr>\n",
       "            <td>MEMB006B</td> <td>38  </td> <td>VT11048|0|MEMB006A|+|286</td> <td>-4.20163 </td> <td>60            </td>\n",
       "        </tr>\n",
       "        <tr>\n",
       "            <td>MEMB006C</td> <td>38  </td> <td>VT11048|0|MEMB006B|-|275</td> <td>-5.20163 </td> <td>60            </td>\n",
       "        </tr>\n",
       "        <tr>\n",
       "            <td>MEMB007A</td> <td>39  </td> <td>VT11048|0|MEMB006C|-|285</td> <td>-5.20163 </td> <td>60            </td>\n",
       "        </tr>\n",
       "        <tr>\n",
       "            <td>MEMB007B</td> <td>39  </td> <td>VT11048|0|MEMB007B|-|284</td> <td>-5.20163 </td> <td>60            </td>\n",
       "        </tr>\n",
       "        <tr>\n",
       "            <td>MEMB007C</td> <td>38  </td> <td>VT11048|0|MEMB007C|+|283</td> <td>-5.20163 </td> <td>60            </td>\n",
       "        </tr>\n",
       "        <tr>\n",
       "            <td>MEMB007D</td> <td>38  </td> <td>VT11048|0|MEMB007D|-|274</td> <td>-5.20163 </td> <td>60            </td>\n",
       "        </tr>\n",
       "        <tr>\n",
       "            <td>MEMB008C</td> <td>39  </td> <td>VT11048|0|MEMB008C|-|285</td> <td>-5.20163 </td> <td>60            </td>\n",
       "        </tr>\n",
       "        <tr>\n",
       "            <td>dkik    </td> <td>39  </td> <td>VT11048|0|dkik|-|290    </td> <td>0.0078255</td> <td>60            </td>\n",
       "        </tr>\n",
       "    </tbody>\n",
       "</table>"
      ],
      "text/plain": [
       "<IPython.core.display.HTML object>"
      ]
     },
     "metadata": {},
     "output_type": "display_data"
    }
   ],
   "source": [
    "table = Table.read_table(\"../data/output/map_motif_bcd_no_threshold/VT11048.fa.csv\")\n",
    "spec = Table().with_column('species', ['MEMB002A', 'MEMB002B', 'MEMB002C', 'MEMB002D', 'MEMB002E', 'MEMB002F', 'MEMB003A', 'MEMB003B', 'MEMB003C', 'MEMB003D', 'MEMB003E', 'MEMB003F', 'MEMB004A', 'MEMB004B', 'MEMB004E', 'MEMB005D', 'MEMB006B', 'MEMB006C', 'MEMB007A', 'MEMB007B', 'MEMB007C', 'MEMB007D', 'MEMB008C','dkik'])\n",
    "raw_position = []\n",
    "for pos in a:\n",
    "    raw = table.where('align_position', are.equal_to(pos)).where('strand', are.equal_to('positive'))\n",
    "    raw = raw.drop('strand', 'Unnamed: 0', 'motif').relabel('raw_position', str(pos))\n",
    "    arr = raw.column(str(pos))\n",
    "    spec = spec.with_columns('raw', arr, 'orig_species', raw.column('species'), 'score', raw.column('score'), 'align_position', raw.column('align_position'))\n",
    "    spec.show()\n",
    "\n"
   ]
  },
  {
   "cell_type": "code",
   "execution_count": 137,
   "metadata": {
    "scrolled": true
   },
   "outputs": [
    {
     "name": "stdout",
     "output_type": "stream",
     "text": [
      "{'VT11048|0|MEMB002A|+|284': 39, 'VT11048|0|MEMB002B|-|284': 39, 'VT11048|0|MEMB002C|-|284': 39, 'VT11048|0|MEMB002D|+|269': 35, 'VT11048|0|MEMB002E|+|288': 40, 'VT11048|0|MEMB002F|+|278': 36, 'VT11048|0|MEMB003A|+|278': 39, 'VT11048|0|MEMB003B|+|289': 43, 'VT11048|0|MEMB003C|-|284': 39, 'VT11048|0|MEMB003D|+|274': 35, 'VT11048|0|MEMB003F|-|285': 39, 'VT11048|0|MEMB004A|+|284': 39, 'VT11048|0|MEMB004B|+|285': 39, 'VT11048|0|MEMB004E|-|285': 39, 'VT11048|0|MEMB005B|+|298': 60, 'VT11048|0|MEMB005D|-|287': 39, 'VT11048|0|MEMB006A|+|286': 38, 'VT11048|0|MEMB006B|-|275': 38, 'VT11048|0|MEMB006C|-|285': 39, 'VT11048|0|MEMB007B|-|284': 39, 'VT11048|0|MEMB007C|+|283': 38, 'VT11048|0|MEMB007D|-|274': 38, 'VT11048|0|MEMB008C|-|285': 39, 'VT11048|0|dkik|-|290': 39}\n"
     ]
    },
    {
     "data": {
      "text/html": [
       "<table border=\"1\" class=\"dataframe\">\n",
       "    <thead>\n",
       "        <tr>\n",
       "            <th>species</th> <th>raw</th> <th>orig_species</th> <th>score</th> <th>align_position</th> <th>sequence</th> <th>five_before</th> <th>five_after</th>\n",
       "        </tr>\n",
       "    </thead>\n",
       "    <tbody>\n",
       "        <tr>\n",
       "            <td>MEMB002A</td> <td>39  </td> <td>VT11048|0|MEMB002A|+|284</td> <td>-5.20163 </td> <td>60            </td> <td>GGCTTA  </td> <td>ACCAG      </td> <td>GAGTG     </td>\n",
       "        </tr>\n",
       "        <tr>\n",
       "            <td>MEMB002B</td> <td>39  </td> <td>VT11048|0|MEMB002B|-|284</td> <td>-5.20163 </td> <td>60            </td> <td>GGCTTA  </td> <td>ATCAG      </td> <td>GAGTG     </td>\n",
       "        </tr>\n",
       "        <tr>\n",
       "            <td>MEMB002C</td> <td>39  </td> <td>VT11048|0|MEMB002C|-|284</td> <td>-5.20163 </td> <td>60            </td> <td>GGCTTA  </td> <td>ACCAG      </td> <td>GAGTG     </td>\n",
       "        </tr>\n",
       "        <tr>\n",
       "            <td>MEMB002D</td> <td>35  </td> <td>VT11048|0|MEMB002D|+|269</td> <td>-4.20163 </td> <td>60            </td> <td>GGATTG  </td> <td>ATCAG      </td> <td>GAGTG     </td>\n",
       "        </tr>\n",
       "        <tr>\n",
       "            <td>MEMB002E</td> <td>40  </td> <td>VT11048|0|MEMB002E|+|288</td> <td>0.0078255</td> <td>60            </td> <td>GGGCTG  </td> <td>ATCAG      </td> <td>GAGTG     </td>\n",
       "        </tr>\n",
       "        <tr>\n",
       "            <td>MEMB002F</td> <td>36  </td> <td>VT11048|0|MEMB002F|+|278</td> <td>-5.20163 </td> <td>60            </td> <td>GGCTTG  </td> <td>ATCAG      </td> <td>GAGTG     </td>\n",
       "        </tr>\n",
       "        <tr>\n",
       "            <td>MEMB003A</td> <td>39  </td> <td>VT11048|0|MEMB003A|+|278</td> <td>0.0078255</td> <td>60            </td> <td>GGGCTG  </td> <td>ATCAG      </td> <td>GAGTG     </td>\n",
       "        </tr>\n",
       "        <tr>\n",
       "            <td>MEMB003B</td> <td>43  </td> <td>VT11048|0|MEMB003B|+|289</td> <td>-5.20163 </td> <td>60            </td> <td>GGGTTG  </td> <td>ACCAG      </td> <td>GAGTG     </td>\n",
       "        </tr>\n",
       "        <tr>\n",
       "            <td>MEMB003C</td> <td>39  </td> <td>VT11048|0|MEMB003C|-|284</td> <td>-5.20163 </td> <td>60            </td> <td>GGCTTA  </td> <td>ACCAG      </td> <td>GAGTG     </td>\n",
       "        </tr>\n",
       "        <tr>\n",
       "            <td>MEMB003D</td> <td>35  </td> <td>VT11048|0|MEMB003D|+|274</td> <td>0.0078255</td> <td>60            </td> <td>GGGCTG  </td> <td>ATCAG      </td> <td>GAGTG     </td>\n",
       "        </tr>\n",
       "    </tbody>\n",
       "</table>\n",
       "<p>... (14 rows omitted)</p>"
      ],
      "text/plain": [
       "species  | raw  | orig_species             | score     | align_position | sequence | five_before | five_after\n",
       "MEMB002A | 39   | VT11048|0|MEMB002A|+|284 | -5.20163  | 60             | GGCTTA   | ACCAG       | GAGTG\n",
       "MEMB002B | 39   | VT11048|0|MEMB002B|-|284 | -5.20163  | 60             | GGCTTA   | ATCAG       | GAGTG\n",
       "MEMB002C | 39   | VT11048|0|MEMB002C|-|284 | -5.20163  | 60             | GGCTTA   | ACCAG       | GAGTG\n",
       "MEMB002D | 35   | VT11048|0|MEMB002D|+|269 | -4.20163  | 60             | GGATTG   | ATCAG       | GAGTG\n",
       "MEMB002E | 40   | VT11048|0|MEMB002E|+|288 | 0.0078255 | 60             | GGGCTG   | ATCAG       | GAGTG\n",
       "MEMB002F | 36   | VT11048|0|MEMB002F|+|278 | -5.20163  | 60             | GGCTTG   | ATCAG       | GAGTG\n",
       "MEMB003A | 39   | VT11048|0|MEMB003A|+|278 | 0.0078255 | 60             | GGGCTG   | ATCAG       | GAGTG\n",
       "MEMB003B | 43   | VT11048|0|MEMB003B|+|289 | -5.20163  | 60             | GGGTTG   | ACCAG       | GAGTG\n",
       "MEMB003C | 39   | VT11048|0|MEMB003C|-|284 | -5.20163  | 60             | GGCTTA   | ACCAG       | GAGTG\n",
       "MEMB003D | 35   | VT11048|0|MEMB003D|+|274 | 0.0078255 | 60             | GGGCTG   | ATCAG       | GAGTG\n",
       "... (14 rows omitted)"
      ]
     },
     "execution_count": 137,
     "metadata": {},
     "output_type": "execute_result"
    }
   ],
   "source": [
    "record_dict = SeqIO.to_dict(SeqIO.parse(\"../data/raw/outlier_rm_with_length_VT11048.fa\", \"fasta\"))\n",
    "sequence = record_dict['VT11048|0|MEMB002A|+|284']\n",
    "species_dict = dict(zip(spec.column(2), spec.column(1)))\n",
    "print(species_dict)\n",
    "seq = []\n",
    "five_before = []\n",
    "five_after = []\n",
    "for key in species_dict:\n",
    "    sequence = record_dict[key]\n",
    "    seq.append(seqToString(sequence[species_dict[key]:species_dict[key] + 6]))\n",
    "    five_before.append(seqToString(sequence[species_dict[key] - 5:species_dict[key]]))\n",
    "    five_after.append(seqToString(sequence[species_dict[key] + 6:species_dict[key] + 11]))\n",
    "spec.with_columns('sequence', seq, 'five_before', five_before, 'five_after', five_after)\n"
   ]
  },
  {
   "cell_type": "raw",
   "metadata": {},
   "source": [
    "def getAllNucleotides(species):\n",
    "    \"\"\"\n",
    "    species: the species key that is associated with the non-thresholded csv files\n",
    "    \n",
    "    \"\"\"\n",
    "    \n",
    "\n",
    "    "
   ]
  },
  {
   "cell_type": "code",
   "execution_count": null,
   "metadata": {},
   "outputs": [],
   "source": []
  }
 ],
 "metadata": {
  "kernelspec": {
   "display_name": "Python 3",
   "language": "python",
   "name": "python3"
  },
  "language_info": {
   "codemirror_mode": {
    "name": "ipython",
    "version": 3
   },
   "file_extension": ".py",
   "mimetype": "text/x-python",
   "name": "python",
   "nbconvert_exporter": "python",
   "pygments_lexer": "ipython3",
   "version": "3.6.7"
  }
 },
 "nbformat": 4,
 "nbformat_minor": 2
}
