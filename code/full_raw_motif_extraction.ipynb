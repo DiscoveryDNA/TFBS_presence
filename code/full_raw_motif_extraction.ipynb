{
 "cells": [
  {
   "cell_type": "code",
   "execution_count": 1,
   "metadata": {},
   "outputs": [],
   "source": [
    "from Bio import SeqIO\n",
    "from Bio import Seq\n",
    "import pandas as pd\n",
    "import numpy as np\n",
    "import csv\n",
    "import re\n",
    "import os"
   ]
  },
  {
   "cell_type": "code",
   "execution_count": 2,
   "metadata": {},
   "outputs": [],
   "source": [
    "def seqToString(motif):\n",
    "    \"\"\"\n",
    "    motif: a Seq that represents the motif \n",
    "    \n",
    "    Returns the String representation of the motif\n",
    "    \"\"\"\n",
    "    i = 0\n",
    "    string = \"\"\n",
    "    length = motif.__len__()\n",
    "    while i < length:\n",
    "        string += motif.__getitem__(i)\n",
    "        i += 1\n",
    "    return string"
   ]
  },
  {
   "cell_type": "code",
   "execution_count": 3,
   "metadata": {},
   "outputs": [],
   "source": [
    "def getNegative(pos_seq):\n",
    "    \"\"\"\n",
    "    pos_seq = dna sequence in the positive direction reading from the file\n",
    "    \n",
    "    Returns the negative counterpart of the positive sequence.\n",
    "    \"\"\"\n",
    "    dict = {\"A\":'T','T':'A','G':'C','C':'G','-':'-'}\n",
    "    negative = \"\"\n",
    "    last_index = len(pos_seq) - 1\n",
    "    while last_index > -1:\n",
    "        negative += dict[pos_seq[last_index].upper()]\n",
    "        last_index -= 1\n",
    "    return negative"
   ]
  },
  {
   "cell_type": "code",
   "execution_count": 10,
   "metadata": {},
   "outputs": [],
   "source": [
    "def getMotifLength(motif_key):\n",
    "    f = open(\"../data/jaspar_fm/modified/\" + motif_key, 'r')\n",
    "    length = 0\n",
    "    for line in f:\n",
    "        a = line.split()\n",
    "        length = len(a)\n",
    "    return length"
   ]
  },
  {
   "cell_type": "code",
   "execution_count": 4,
   "metadata": {},
   "outputs": [],
   "source": [
    "species = [11048, 16679, 19895, 40548, 43692, 44110, 48156, 50550, 59000, 60074, 61209, 6436, 6705, 7859, 8646]\n",
    "member = ['Dkik', 'MEMB002A', 'MEMB002B', 'MEMB002C', 'MEMB002D', 'MEMB002E', 'MEMB002F', 'MEMB003A', 'MEMB003B', \n",
    "          'MEMB003C', 'MEMB003D', 'MEMB003E', 'MEMB003F', 'MEMB004A', 'MEMB004B', 'MEMB004E', 'MEMB005D', 'MEMB006B', \n",
    "          'MEMB006C', 'MEMB007A', 'MEMB007B', 'MEMB007C', 'MEMB007D', 'MEMB008C']"
   ]
  },
  {
   "cell_type": "code",
   "execution_count": 7,
   "metadata": {},
   "outputs": [],
   "source": [
    "def getRawMotifStrings(csv_file):\n",
    "    \"\"\"\n",
    "    csv_file: a csv file that contains the 'filtered' data frame\n",
    "    \n",
    "    Creates a reader representing the data frame and iterates through each line retrieving the species ID and key.\n",
    "    Parses through the raw file to find the motif sequence.\n",
    "    Returns an data frame of the motifs.\n",
    "    \"\"\"\n",
    "    f = open(\"../data/output/map_motif_bcd_with_threshold/\" + csv_file, 'r')\n",
    "    data = csv.reader(f)\n",
    "    line0 = next(data)\n",
    "    print(line0)\n",
    "    motifs = []\n",
    "    for line in data:\n",
    "        print(line)\n",
    "        species = line[2]\n",
    "        direction = line[4]\n",
    "        raw_index = int(float(line[3]))\n",
    "        key = species.split('|')[0]\n",
    "        record_dict = SeqIO.to_dict(SeqIO.parse(\"../data/raw/outlier_rm_with_length_\" + key + \".fa\", \"fasta\"))\n",
    "        sequence = record_dict[species]\n",
    "        motif_key = line[6]\n",
    "        motif_length = getMotifLength(motif_key);\n",
    "        motif = sequence[raw_index:raw_index + motif_length]\n",
    "        string_motif = seqToString(motif)\n",
    "        if direction == \"negative\":\n",
    "            string_motif = getNegative(string_motif)\n",
    "        motifs += [string_motif]\n",
    "    f.close()\n",
    "    motif_df = pd.DataFrame({'motif sequences': motifs})\n",
    "    return motifs"
   ]
  },
  {
   "cell_type": "code",
   "execution_count": 11,
   "metadata": {},
   "outputs": [
    {
     "name": "stdout",
     "output_type": "stream",
     "text": [
      "['', 'score', 'species', 'raw_position', 'strand', 'align_position', 'motif']\n",
      "['0', '11.612828254699707', 'VT11048|0|MEMB005D|-|287', '39', 'negative', '60', 'MA0212.1_bcd.jaspar']\n",
      "['1', '11.612828254699707', 'VT11048|0|MEMB006A|+|286', '38', 'negative', '60', 'MA0212.1_bcd.jaspar']\n"
     ]
    },
    {
     "data": {
      "text/plain": [
       "['TAATCC', 'TAATCC']"
      ]
     },
     "execution_count": 11,
     "metadata": {},
     "output_type": "execute_result"
    }
   ],
   "source": [
    "getRawMotifStrings('occurance_align_outlier_rm_with_length_VT11048.fa.csv')"
   ]
  },
  {
   "cell_type": "code",
   "execution_count": null,
   "metadata": {},
   "outputs": [],
   "source": []
  }
 ],
 "metadata": {
  "kernelspec": {
   "display_name": "Python 3",
   "language": "python",
   "name": "python3"
  },
  "language_info": {
   "codemirror_mode": {
    "name": "ipython",
    "version": 3
   },
   "file_extension": ".py",
   "mimetype": "text/x-python",
   "name": "python",
   "nbconvert_exporter": "python",
   "pygments_lexer": "ipython3",
   "version": "3.6.7"
  }
 },
 "nbformat": 4,
 "nbformat_minor": 2
}
