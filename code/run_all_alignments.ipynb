{
 "cells": [
  {
   "cell_type": "code",
   "execution_count": 4,
   "metadata": {
    "collapsed": true
   },
   "outputs": [],
   "source": [
    "# Import definitions & functions from .py file:\n",
    "from MSE import *"
   ]
  },
  {
   "cell_type": "code",
   "execution_count": 5,
   "metadata": {
    "collapsed": true
   },
   "outputs": [],
   "source": [
    "align_path = '../data/alignments/*.fa' # Multiple alignment files\n",
    "files = glob(align_path) # Contains 3540 files\n",
    "cols = [\"score\", \"species\", \"raw_position\", \"strand\", \"align_position\", \"motif\"]"
   ]
  },
  {
   "cell_type": "code",
   "execution_count": 12,
   "metadata": {},
   "outputs": [],
   "source": [
    "motif_path = '../data/pwm/bcd_FlyReg.fm' # 1 motif file\n",
    "s1 = stand_cutoff(motif_path)\n",
    "\n",
    "for file in files:\n",
    "    align_name = re.split(r'_', file)[-1]\n",
    "    df = prelim_pipeline(file, motif_path, s1)\n",
    "    df.to_csv(\"/Volumes/YICHEN/Map_Motif/bcd_FlyReg/\"+align_name, columns = cols)"
   ]
  },
  {
   "cell_type": "code",
   "execution_count": 13,
   "metadata": {
    "collapsed": true
   },
   "outputs": [],
   "source": [
    "motif_path = '../data/pwm/cad_FlyReg.fm' # 1 motif file\n",
    "s2 = stand_cutoff(motif_path)\n",
    "for file in files:\n",
    "    align_name = re.split(r'_', file)[-1]\n",
    "    df = prelim_pipeline(file, motif_path, s2)\n",
    "    df.to_csv(\"/Volumes/YICHEN/Map_Motif/cad_FlyReg/\"+align_name, columns = cols)\n",
    "\n",
    "motif_path = '../data/pwm/eve_new6.fm' # 1 motif file\n",
    "s3 = stand_cutoff(motif_path)\n",
    "for file in files:\n",
    "    align_name = re.split(r'_', file)[-1]\n",
    "    df = prelim_pipeline(file, motif_path, s3)\n",
    "    df.to_csv(\"/Volumes/YICHEN/Map_Motif/eve_new6/\"+align_name, columns = cols)\n",
    "\n",
    "motif_path = '../data/pwm/zelda_.fm' # 1 motif file\n",
    "s4 = stand_cutoff(motif_path)\n",
    "for file in files[0:1500]:\n",
    "    align_name = re.split(r'_', file)[-1]\n",
    "    df = prelim_pipeline(file, motif_path, s4)\n",
    "    df.to_csv(\"/Volumes/YICHEN/Map_Motif/zelda/\"+align_name, columns = cols)"
   ]
  },
  {
   "cell_type": "code",
   "execution_count": 16,
   "metadata": {
    "collapsed": true
   },
   "outputs": [],
   "source": [
    "for file in files[1500:3540]:\n",
    "    align_name = re.split(r'_', file)[-1]\n",
    "    df = prelim_pipeline(file, motif_path, s4)\n",
    "    df.to_csv(\"/Volumes/YICHEN/Map_Motif/zelda/\"+align_name, columns = cols)"
   ]
  }
 ],
 "metadata": {
  "kernelspec": {
   "display_name": "Python 3",
   "language": "python",
   "name": "python3"
  },
  "language_info": {
   "codemirror_mode": {
    "name": "ipython",
    "version": 3
   },
   "file_extension": ".py",
   "mimetype": "text/x-python",
   "name": "python",
   "nbconvert_exporter": "python",
   "pygments_lexer": "ipython3",
   "version": "3.7.1"
  }
 },
 "nbformat": 4,
 "nbformat_minor": 1
}
