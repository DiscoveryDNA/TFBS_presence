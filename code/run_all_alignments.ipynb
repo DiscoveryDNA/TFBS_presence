{
 "cells": [
  {
   "cell_type": "code",
   "execution_count": 1,
   "metadata": {
    "collapsed": true
   },
   "outputs": [],
   "source": [
    "# Import definitions & functions from .py file:\n",
    "from MSE import *"
   ]
  },
  {
   "cell_type": "code",
   "execution_count": 2,
   "metadata": {
    "collapsed": true
   },
   "outputs": [],
   "source": [
    "align_path = '../data/alignments/*.fa' # Multiple alignment files\n",
    "files = glob(align_path) # Contains 3540 files\n",
    "cols = [\"score\", \"species\", \"raw_position\", \"strand\", \"align_position\", \"motif\"]"
   ]
  },
  {
   "cell_type": "code",
   "execution_count": 3,
   "metadata": {
    "collapsed": false
   },
   "outputs": [
    {
     "data": {
      "text/plain": [
       "3.3171534538269043"
      ]
     },
     "execution_count": 3,
     "metadata": {},
     "output_type": "execute_result"
    }
   ],
   "source": [
    "motif_path = '../data/pwm/bcd_FlyReg.fm' # 1 motif file\n",
    "s1 = stand_cutoff(motif_path)\n",
    "\n",
    "#for file in files[500:3540]:\n",
    "    align_name = re.split(r'_', file)[-1]\n",
    "    df = prelim_pipeline(file, motif_path, s1)\n",
    "    df.to_csv(\"/Volumes/YICHEN/\"+align_name, columns = cols)"
   ]
  },
  {
   "cell_type": "code",
   "execution_count": null,
   "metadata": {
    "collapsed": true
   },
   "outputs": [],
   "source": [
    "motif_path = '../data/pwm/cad_FlyReg.fm' # 1 motif file\n",
    "s2 = stand_cutoff(motif_path)\n",
    "\n",
    "#for file in files:\n",
    "    align_name = re.split(r'_', file)[-1]\n",
    "    df = prelim_pipeline(file, motif_path, s2)\n",
    "    df.to_csv(\"/Volumes/YICHEN/\"+align_name, columns = cols)"
   ]
  },
  {
   "cell_type": "code",
   "execution_count": null,
   "metadata": {
    "collapsed": true
   },
   "outputs": [],
   "source": [
    "motif_path = '../data/pwm/eve_new6.fm' # 1 motif file\n",
    "s3 = stand_cutoff(motif_path)\n",
    "\n",
    "#for file in files:\n",
    "    align_name = re.split(r'_', file)[-1]\n",
    "    df = prelim_pipeline(file, motif_path, s3)\n",
    "    df.to_csv(\"/Volumes/YICHEN/\"+align_name, columns = cols)"
   ]
  },
  {
   "cell_type": "code",
   "execution_count": null,
   "metadata": {
    "collapsed": true
   },
   "outputs": [],
   "source": [
    "motif_path = '../data/pwm/zelda_.fm' # 1 motif file\n",
    "s4 = stand_cutoff(motif_path)\n",
    "\n",
    "#for file in files:\n",
    "    align_name = re.split(r'_', file)[-1]\n",
    "    df = prelim_pipeline(file, motif_path, s4)\n",
    "    df.to_csv(\"/Volumes/YICHEN/\"+align_name, columns = cols)"
   ]
  }
 ],
 "metadata": {
  "kernelspec": {
   "display_name": "Python [Root]",
   "language": "python",
   "name": "Python [Root]"
  },
  "language_info": {
   "codemirror_mode": {
    "name": "ipython",
    "version": 3
   },
   "file_extension": ".py",
   "mimetype": "text/x-python",
   "name": "python",
   "nbconvert_exporter": "python",
   "pygments_lexer": "ipython3",
   "version": "3.5.2"
  }
 },
 "nbformat": 4,
 "nbformat_minor": 0
}
